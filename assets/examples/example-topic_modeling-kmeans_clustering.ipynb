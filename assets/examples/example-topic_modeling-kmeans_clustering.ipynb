{
 "cells": [
  {
   "cell_type": "markdown",
   "metadata": {},
   "source": [
    "# Topic Modeling :: Kmeans Clustering Example\n",
    "\n",
    "If you are using infomap's .ftree files, then follow the below process. \n",
    "\n",
    "If you already have edge data, then proceed to importing your tweet corpus and use the ```nttc.content_sampler()``` to produce your module-based samples. Be sure that your edge data are available in the following Dict format, where ```dict_full``` is merely an example variable name: \n",
    "\n",
    "- For a single period: \n",
    "```python\n",
    "    dict_full = {\n",
    "        'network':{\n",
    "            '1': Module edges as DataFrame with 'source_name' and 'target_name' column names,\n",
    "            '2': Module edges as DataFrame with 'source_name' and 'target_name' column names\n",
    "        }\n",
    "    }\n",
    "```\n",
    "- For multiple periods:\n",
    "```python\n",
    "    dict_full = {\n",
    "        'network':{\n",
    "            '1': {\n",
    "                '1': Module edges as DataFrame with 'source_name' and 'target_name' column names,\n",
    "                ...\n",
    "            }\n",
    "            '2': {\n",
    "                '1': Module edges as DataFrame with 'source_name' and 'target_name' column names,\n",
    "                ...\n",
    "            },\n",
    "            ...\n",
    "        }\n",
    "    }\n",
    "```"
   ]
  },
  {
   "cell_type": "code",
   "execution_count": 1,
   "metadata": {},
   "outputs": [],
   "source": [
    "import nttc\n",
    "from os import listdir\n",
    "from os.path import join\n",
    "import csv\n",
    "import pandas as pd\n",
    "import matplotlib.pyplot as plt\n",
    "\n",
    "# better viewing of tweet text\n",
    "pd.set_option('display.max_colwidth', 150)\n",
    "\n",
    "# reproducible rng\n",
    "seed = 42\n",
    "\n",
    "plt.style.use(\"bmh\")\n",
    "%matplotlib inline"
   ]
  },
  {
   "cell_type": "markdown",
   "metadata": {},
   "source": [
    "## Import tweets"
   ]
  },
  {
   "cell_type": "code",
   "execution_count": 2,
   "metadata": {},
   "outputs": [
    {
     "name": "stderr",
     "output_type": "stream",
     "text": [
      "/Users/chrisl/.pyenv/versions/3.6.2/lib/python3.6/site-packages/IPython/core/interactiveshell.py:2728: DtypeWarning: Columns (12) have mixed types. Specify dtype option on import or set low_memory=False.\n",
      "  interactivity=interactivity, compiler=compiler, result=result)\n"
     ]
    },
    {
     "data": {
      "text/html": [
       "<div>\n",
       "<style scoped>\n",
       "    .dataframe tbody tr th:only-of-type {\n",
       "        vertical-align: middle;\n",
       "    }\n",
       "\n",
       "    .dataframe tbody tr th {\n",
       "        vertical-align: top;\n",
       "    }\n",
       "\n",
       "    .dataframe thead th {\n",
       "        text-align: right;\n",
       "    }\n",
       "</style>\n",
       "<table border=\"1\" class=\"dataframe\">\n",
       "  <thead>\n",
       "    <tr style=\"text-align: right;\">\n",
       "      <th></th>\n",
       "      <th>Unnamed: 0</th>\n",
       "      <th>created_at</th>\n",
       "      <th>likes_count</th>\n",
       "      <th>location</th>\n",
       "      <th>replies_count</th>\n",
       "      <th>retweet</th>\n",
       "      <th>retweets_count</th>\n",
       "      <th>video</th>\n",
       "    </tr>\n",
       "  </thead>\n",
       "  <tbody>\n",
       "    <tr>\n",
       "      <th>count</th>\n",
       "      <td>5.497620e+06</td>\n",
       "      <td>5.497620e+06</td>\n",
       "      <td>5.497619e+06</td>\n",
       "      <td>0.0</td>\n",
       "      <td>5.497619e+06</td>\n",
       "      <td>0.0</td>\n",
       "      <td>5.497619e+06</td>\n",
       "      <td>5.497387e+06</td>\n",
       "    </tr>\n",
       "    <tr>\n",
       "      <th>mean</th>\n",
       "      <td>4.538736e+06</td>\n",
       "      <td>1.687371e+12</td>\n",
       "      <td>1.183389e+01</td>\n",
       "      <td>NaN</td>\n",
       "      <td>1.123035e+00</td>\n",
       "      <td>NaN</td>\n",
       "      <td>5.045519e+00</td>\n",
       "      <td>1.407032e-02</td>\n",
       "    </tr>\n",
       "    <tr>\n",
       "      <th>std</th>\n",
       "      <td>2.373027e+06</td>\n",
       "      <td>3.460250e+14</td>\n",
       "      <td>7.989978e+02</td>\n",
       "      <td>NaN</td>\n",
       "      <td>7.224374e+01</td>\n",
       "      <td>NaN</td>\n",
       "      <td>2.640234e+02</td>\n",
       "      <td>1.177809e-01</td>\n",
       "    </tr>\n",
       "    <tr>\n",
       "      <th>min</th>\n",
       "      <td>0.000000e+00</td>\n",
       "      <td>1.514783e+12</td>\n",
       "      <td>0.000000e+00</td>\n",
       "      <td>NaN</td>\n",
       "      <td>0.000000e+00</td>\n",
       "      <td>NaN</td>\n",
       "      <td>0.000000e+00</td>\n",
       "      <td>0.000000e+00</td>\n",
       "    </tr>\n",
       "    <tr>\n",
       "      <th>25%</th>\n",
       "      <td>2.706603e+06</td>\n",
       "      <td>1.530373e+12</td>\n",
       "      <td>0.000000e+00</td>\n",
       "      <td>NaN</td>\n",
       "      <td>0.000000e+00</td>\n",
       "      <td>NaN</td>\n",
       "      <td>0.000000e+00</td>\n",
       "      <td>0.000000e+00</td>\n",
       "    </tr>\n",
       "    <tr>\n",
       "      <th>50%</th>\n",
       "      <td>4.542598e+06</td>\n",
       "      <td>1.545517e+12</td>\n",
       "      <td>0.000000e+00</td>\n",
       "      <td>NaN</td>\n",
       "      <td>0.000000e+00</td>\n",
       "      <td>NaN</td>\n",
       "      <td>0.000000e+00</td>\n",
       "      <td>0.000000e+00</td>\n",
       "    </tr>\n",
       "    <tr>\n",
       "      <th>75%</th>\n",
       "      <td>6.571531e+06</td>\n",
       "      <td>1.547840e+12</td>\n",
       "      <td>1.000000e+00</td>\n",
       "      <td>NaN</td>\n",
       "      <td>0.000000e+00</td>\n",
       "      <td>NaN</td>\n",
       "      <td>0.000000e+00</td>\n",
       "      <td>0.000000e+00</td>\n",
       "    </tr>\n",
       "    <tr>\n",
       "      <th>max</th>\n",
       "      <td>8.512494e+06</td>\n",
       "      <td>8.113264e+17</td>\n",
       "      <td>1.413747e+06</td>\n",
       "      <td>NaN</td>\n",
       "      <td>6.050200e+04</td>\n",
       "      <td>NaN</td>\n",
       "      <td>4.357410e+05</td>\n",
       "      <td>1.000000e+00</td>\n",
       "    </tr>\n",
       "  </tbody>\n",
       "</table>\n",
       "</div>"
      ],
      "text/plain": [
       "         Unnamed: 0    created_at   likes_count  location  replies_count  \\\n",
       "count  5.497620e+06  5.497620e+06  5.497619e+06       0.0   5.497619e+06   \n",
       "mean   4.538736e+06  1.687371e+12  1.183389e+01       NaN   1.123035e+00   \n",
       "std    2.373027e+06  3.460250e+14  7.989978e+02       NaN   7.224374e+01   \n",
       "min    0.000000e+00  1.514783e+12  0.000000e+00       NaN   0.000000e+00   \n",
       "25%    2.706603e+06  1.530373e+12  0.000000e+00       NaN   0.000000e+00   \n",
       "50%    4.542598e+06  1.545517e+12  0.000000e+00       NaN   0.000000e+00   \n",
       "75%    6.571531e+06  1.547840e+12  1.000000e+00       NaN   0.000000e+00   \n",
       "max    8.512494e+06  8.113264e+17  1.413747e+06       NaN   6.050200e+04   \n",
       "\n",
       "       retweet  retweets_count         video  \n",
       "count      0.0    5.497619e+06  5.497387e+06  \n",
       "mean       NaN    5.045519e+00  1.407032e-02  \n",
       "std        NaN    2.640234e+02  1.177809e-01  \n",
       "min        NaN    0.000000e+00  0.000000e+00  \n",
       "25%        NaN    0.000000e+00  0.000000e+00  \n",
       "50%        NaN    0.000000e+00  0.000000e+00  \n",
       "75%        NaN    0.000000e+00  0.000000e+00  \n",
       "max        NaN    4.357410e+05  1.000000e+00  "
      ]
     },
     "execution_count": 2,
     "metadata": {},
     "output_type": "execute_result"
    }
   ],
   "source": [
    "# Import cleaned and combined CSV data as pandas dataframe\n",
    "\n",
    "data_path = '../collection/twint/full-combined'\n",
    "encoded_data_path = '../data/encoded'\n",
    "csv_header = 'id,conversation_id,created_at,date,time,timezone,user_id,username,name,place,tweet,mentions,urls,photos,replies_count,retweets_count,likes_count,location,hashtags,link,retweet,quote_url,video'\n",
    "\n",
    "# Define columns, as you need\n",
    "dtype_dict={\n",
    "    'id': str,\n",
    "    'conversation_id': str,\n",
    "    'username': str,\n",
    "    'user_id': str,\n",
    "    'mentions': str,\n",
    "    'tweet': str,\n",
    "    'hashtags': str,\n",
    "    'link': str,\n",
    "    'user_rt': str,\n",
    "}\n",
    "\n",
    "__encoded_all_file__ = 'cleaned-all-combined.csv'\n",
    "\n",
    "df_all = pd.read_csv(join(encoded_data_path, __encoded_all_file__), \n",
    "                     delimiter=',',\n",
    "                     dtype=dtype_dict)\n",
    "\n",
    "df_all.describe()"
   ]
  },
  {
   "cell_type": "code",
   "execution_count": 3,
   "metadata": {},
   "outputs": [
    {
     "data": {
      "text/html": [
       "<div>\n",
       "<style scoped>\n",
       "    .dataframe tbody tr th:only-of-type {\n",
       "        vertical-align: middle;\n",
       "    }\n",
       "\n",
       "    .dataframe tbody tr th {\n",
       "        vertical-align: top;\n",
       "    }\n",
       "\n",
       "    .dataframe thead th {\n",
       "        text-align: right;\n",
       "    }\n",
       "</style>\n",
       "<table border=\"1\" class=\"dataframe\">\n",
       "  <thead>\n",
       "    <tr style=\"text-align: right;\">\n",
       "      <th></th>\n",
       "      <th>conversation_id</th>\n",
       "      <th>created_at</th>\n",
       "      <th>date</th>\n",
       "      <th>hashtags</th>\n",
       "      <th>id</th>\n",
       "      <th>likes_count</th>\n",
       "      <th>link</th>\n",
       "      <th>location</th>\n",
       "      <th>mentions</th>\n",
       "      <th>name</th>\n",
       "      <th>...</th>\n",
       "      <th>replies_count</th>\n",
       "      <th>retweet</th>\n",
       "      <th>retweets_count</th>\n",
       "      <th>time</th>\n",
       "      <th>timezone</th>\n",
       "      <th>tweet</th>\n",
       "      <th>urls</th>\n",
       "      <th>user_id</th>\n",
       "      <th>username</th>\n",
       "      <th>video</th>\n",
       "    </tr>\n",
       "  </thead>\n",
       "  <tbody>\n",
       "    <tr>\n",
       "      <th>0</th>\n",
       "      <td>1234556887654</td>\n",
       "      <td>3456787654562</td>\n",
       "      <td>2018-09-12</td>\n",
       "      <td>['#hashtag1','#hashtag2']</td>\n",
       "      <td>1.0400116271968052e+18</td>\n",
       "      <td>0.0</td>\n",
       "      <td>https://twitter.com/username_example/status/12345678910</td>\n",
       "      <td>NaN</td>\n",
       "      <td>['username1', 'username2', 'username3', 'username4']</td>\n",
       "      <td>Alex</td>\n",
       "      <td>...</td>\n",
       "      <td>0.0</td>\n",
       "      <td>NaN</td>\n",
       "      <td>0.0</td>\n",
       "      <td>18:57:49</td>\n",
       "      <td>EST</td>\n",
       "      <td>Example tweet text content for your enjoyment.</td>\n",
       "      <td>[]</td>\n",
       "      <td>123456789</td>\n",
       "      <td>username_example</td>\n",
       "      <td>0</td>\n",
       "    </tr>\n",
       "  </tbody>\n",
       "</table>\n",
       "<p>1 rows × 23 columns</p>\n",
       "</div>"
      ],
      "text/plain": [
       "          conversation_id    created_at        date  \\\n",
       "0  1.0400099877104804e+18  1.536793e+12  2018-09-12   \n",
       "\n",
       "                                                                                                      hashtags  \\\n",
       "0  ['#hashtag1', '#hashtag2', '#hashtag3']   \n",
       "\n",
       "                       id  likes_count  \\\n",
       "0  123456789          0   \n",
       "\n",
       "                                                         link  location  \\\n",
       "0  https://twitter.com/username_example/status/1040011627196805121       NaN   \n",
       "\n",
       "                                                                               mentions  \\\n",
       "0  ['username1', 'username2', 'username3', 'username4']   \n",
       "\n",
       "   name  ... replies_count retweet retweets_count      time  timezone  \\\n",
       "0  Alex  ...           0.0     NaN            0.0  18:57:49       EST   \n",
       "\n",
       "                                                                                                                                                   tweet  \\\n",
       "0  Example tweet text content for your enjoyment.   \n",
       "\n",
       "  urls     user_id     username video  \n",
       "0   []  1234567  username_example   0.0  \n",
       "\n",
       "[1 rows x 23 columns]"
      ]
     },
     "execution_count": 3,
     "metadata": {},
     "output_type": "execute_result"
    }
   ],
   "source": [
    "# Remove \"Unnamed\" column\n",
    "del df_all['Unnamed: 0']\n",
    "df_all[:2]"
   ]
  },
  {
   "cell_type": "code",
   "execution_count": 4,
   "metadata": {},
   "outputs": [
    {
     "data": {
      "text/plain": [
       "0    1536793069000\n",
       "Name: created_at, dtype: int64"
      ]
     },
     "execution_count": 4,
     "metadata": {},
     "output_type": "execute_result"
    }
   ],
   "source": [
    "df_all[\"created_at\"] = df_all[\"created_at\"].astype(float)\n",
    "df_all[\"created_at\"] = df_all[\"created_at\"].astype(int)\n",
    "df_all['created_at'][:1]"
   ]
  },
  {
   "cell_type": "code",
   "execution_count": 5,
   "metadata": {
    "scrolled": true
   },
   "outputs": [
    {
     "data": {
      "text/plain": [
       "0      1234567654\n",
       "1      56787654456\n",
       "2     9876567876543\n",
       "3     3498573903495\n",
       "4    54364576898876\n",
       "Name: user_id, dtype: object"
      ]
     },
     "execution_count": 5,
     "metadata": {},
     "output_type": "execute_result"
    }
   ],
   "source": [
    "# convert column \"created_at\" to datetime obj format; 'user_id' to string\n",
    "df_all['user_id'] = df_all['user_id'].astype(str)\n",
    "df_all['user_id'][:5]"
   ]
  },
  {
   "cell_type": "code",
   "execution_count": 6,
   "metadata": {},
   "outputs": [
    {
     "name": "stdout",
     "output_type": "stream",
     "text": [
      "<class 'str'>\n",
      "<class 'numpy.int64'>\n"
     ]
    }
   ],
   "source": [
    "print(type(df_all['user_id'][0]))\n",
    "print(type(df_all['created_at'][0]))"
   ]
  },
  {
   "cell_type": "markdown",
   "metadata": {},
   "source": [
    "## Create desired metadata as per your project: period dates and hashtag groups"
   ]
  },
  {
   "cell_type": "code",
   "execution_count": 7,
   "metadata": {},
   "outputs": [
    {
     "data": {
      "text/plain": [
       "['2018-01-01',\n",
       " '2018-01-02',\n",
       " '2018-01-03',\n",
       " '2018-01-04',\n",
       " '2018-01-05',\n",
       " '2018-01-06',\n",
       " '2018-01-07',\n",
       " '2018-01-08',\n",
       " '2018-01-09',\n",
       " '2018-01-10']"
      ]
     },
     "execution_count": 7,
     "metadata": {},
     "output_type": "execute_result"
    }
   ],
   "source": [
    "# PERIOD DATES\n",
    "ranges = [\n",
    "    ('1', ['2018-01-01', '2018-03-30']),\n",
    "    ('2', ['2018-04-01', '2018-06-12']),\n",
    "    ('3', ['2018-06-13', '2018-07-28']),\n",
    "    ('4', ['2018-07-29', '2018-10-17']),\n",
    "    ('5', ['2018-10-18', '2018-11-24']),\n",
    "    ('6', ['2018-11-25', '2018-12-10']),\n",
    "    ('7', ['2018-12-11', '2018-12-19']),\n",
    "    ('8', ['2018-12-20', '2018-12-25']),\n",
    "    ('9', ['2018-12-26', '2019-02-13']),\n",
    "    ('10', ['2019-02-14', '2019-02-28'])\n",
    "]\n",
    "\n",
    "period_dates = nttc.period_dates_writer(ranges=ranges)\n",
    "\n",
    "# HASHTAG GROUPINGS\n",
    "conservative_hashtag_list = [\n",
    "    '#bordercrisis', '#bordersecurity', '#buildthewall',\n",
    "    '#caravaninvasion', '#illegals',  '#migrantcaravan',\n",
    "    '#nationalemergency', '#ronilsingh'\n",
    "]\n",
    "\n",
    "liberal_keyword_list = [ \n",
    "    {\n",
    "        '#felipegomez': ['felipe alonzo-gomez', 'felipe gomez']\n",
    "    },\n",
    "    {\n",
    "        '#maquin': ['jakelin caal', 'maquín', 'maquin' ]\n",
    "    }\n",
    "]\n",
    "liberal_fbt_list = [\n",
    "    '#familyseparation', '#familiesbelongtogether',\n",
    "    '#felipegomez', '#keepfamiliestogether',\n",
    "    '#maquin', '#noborderwall', '#wherearethechildren',\n",
    "    'jakelin caal', 'maquín', 'maquin', 'felipe alonzo-gomez', \n",
    "    'felipe gomez'\n",
    "]\n",
    "liberal_antishutdown_list = [\n",
    "    '#shutdownstories','#trumpshutdown'\n",
    "]\n",
    "\n",
    "period_dates['1'][:10]"
   ]
  },
  {
   "cell_type": "markdown",
   "metadata": {},
   "source": [
    "### 1. Sample from particular period, then detected community"
   ]
  },
  {
   "cell_type": "markdown",
   "metadata": {},
   "source": [
    "#### 1.1 Import ftree module files"
   ]
  },
  {
   "cell_type": "code",
   "execution_count": 8,
   "metadata": {},
   "outputs": [
    {
     "name": "stdout",
     "output_type": "stream",
     "text": [
      "1.\n",
      "Indices:  [2, 50521] \n",
      "\n",
      "First 5 file lines of module section:  ['1:1 0.156246 \"username1\" 4', '1:2 0.138213 \"username2\" 294', '1:3 0.00534793 \"username3\" 533'] \n",
      "\n",
      "\n",
      "1.\n",
      "Indices for module 1 links:  [50525, 95864] \n",
      "\n",
      "First 5 lines of period 1, module 1 links section:  ['2 1 0.00383033', '5 1 0.00319596', '1359 1 0.00299684', '1359 2 0.00298003', '28 1 0.0025742'] \n",
      "\n",
      "\n"
     ]
    }
   ],
   "source": [
    "## Import .ftree files and process into respective network edge and node data per module\n",
    "\n",
    "# 1. Retrieve directory of .ftree files and save each line of the file within a list of lists to per Period Dict\n",
    "ftree_path = '../infomap/output/nets/ftree/ftree'\n",
    "\n",
    "# regex is the file pattern in a dedicated directory, e.g., \n",
    "# # r\"\\d{1,2}\" will match the '1' in p1_ftree.ftree\n",
    "dict_map = nttc.batch_map(regex=r\"\\d{1,2}\", path=ftree_path, file_type='ftree')\n",
    "\n",
    "# Print sample ftree modules\n",
    "print(\n",
    "    '1.\\nIndices: ',\n",
    "    dict_map['1']['indices']['ftree_modules'],\n",
    "    '\\n\\nFirst 5 file lines of module section: ',\n",
    "    dict_map['1']['lines'][dict_map['1']['indices']['ftree_modules'][0]:5],\n",
    "    '\\n\\n'\n",
    ")\n",
    "\n",
    "# Print sample ftree links\n",
    "five = dict_map['1']['indices']['ftree_links']['1']['indices'][0]+5\n",
    "print(\n",
    "    '1.\\nIndices for module 1 links: ',\n",
    "    dict_map['1']['indices']['ftree_links']['1']['indices'],\n",
    "    '\\n\\nFirst 5 lines of period 1, module 1 links section: ',\n",
    "    dict_map['1']['lines'][dict_map['1']['indices']['ftree_links']['1']['indices'][0]:five],\n",
    "    '\\n\\n'\n",
    ")"
   ]
  },
  {
   "cell_type": "code",
   "execution_count": 9,
   "metadata": {},
   "outputs": [
    {
     "data": {
      "text/plain": [
       "{'exit_flow': '0.0',\n",
       " 'indices': [43882, 71944],\n",
       " 'num_children': '5602',\n",
       " 'num_edges': '28062'}"
      ]
     },
     "execution_count": 9,
     "metadata": {},
     "output_type": "execute_result"
    }
   ],
   "source": [
    "# Check output\n",
    "dict_map['4']['indices']['ftree_links']['1']"
   ]
  },
  {
   "cell_type": "markdown",
   "metadata": {},
   "source": [
    "### Process each period's module edge data and stores as a DataFrame."
   ]
  },
  {
   "cell_type": "code",
   "execution_count": 10,
   "metadata": {},
   "outputs": [
    {
     "name": "stdout",
     "output_type": "stream",
     "text": [
      "Processing edge data for period 10\n",
      "Processing edge data for period 1\n",
      "Processing edge data for period 2\n",
      "Processing edge data for period 3\n",
      "Processing edge data for period 4\n",
      "Processing edge data for period 5\n",
      "Processing edge data for period 6\n",
      "Processing edge data for period 7\n",
      "Processing edge data for period 8\n",
      "Processing edge data for period 9\n",
      "Processing complete!\n"
     ]
    }
   ],
   "source": [
    "copy_dict_map = dict_map\n",
    "# Process each period's module edge data and stores as a DataFrame.\n",
    "dict_with_edges = nttc.ftree_edge_maker(copy_dict_map)"
   ]
  },
  {
   "cell_type": "code",
   "execution_count": 11,
   "metadata": {},
   "outputs": [
    {
     "data": {
      "text/html": [
       "<div>\n",
       "<style scoped>\n",
       "    .dataframe tbody tr th:only-of-type {\n",
       "        vertical-align: middle;\n",
       "    }\n",
       "\n",
       "    .dataframe tbody tr th {\n",
       "        vertical-align: top;\n",
       "    }\n",
       "\n",
       "    .dataframe thead th {\n",
       "        text-align: right;\n",
       "    }\n",
       "</style>\n",
       "<table border=\"1\" class=\"dataframe\">\n",
       "  <thead>\n",
       "    <tr style=\"text-align: right;\">\n",
       "      <th></th>\n",
       "      <th>source</th>\n",
       "      <th>target</th>\n",
       "      <th>directed_count</th>\n",
       "    </tr>\n",
       "  </thead>\n",
       "  <tbody>\n",
       "    <tr>\n",
       "      <th>0</th>\n",
       "      <td>30</td>\n",
       "      <td>1</td>\n",
       "      <td>0.00315307</td>\n",
       "    </tr>\n",
       "    <tr>\n",
       "      <th>1</th>\n",
       "      <td>7</td>\n",
       "      <td>1</td>\n",
       "      <td>0.00208902</td>\n",
       "    </tr>\n",
       "    <tr>\n",
       "      <th>2</th>\n",
       "      <td>31</td>\n",
       "      <td>1</td>\n",
       "      <td>0.00176528</td>\n",
       "    </tr>\n",
       "    <tr>\n",
       "      <th>3</th>\n",
       "      <td>23</td>\n",
       "      <td>2</td>\n",
       "      <td>0.00159538</td>\n",
       "    </tr>\n",
       "    <tr>\n",
       "      <th>4</th>\n",
       "      <td>32</td>\n",
       "      <td>1</td>\n",
       "      <td>0.00133167</td>\n",
       "    </tr>\n",
       "  </tbody>\n",
       "</table>\n",
       "</div>"
      ],
      "text/plain": [
       "  source target directed_count\n",
       "0     30      1     0.00315307\n",
       "1      7      1     0.00208902\n",
       "2     31      1     0.00176528\n",
       "3     23      2     0.00159538\n",
       "4     32      1     0.00133167"
      ]
     },
     "execution_count": 11,
     "metadata": {},
     "output_type": "execute_result"
    }
   ],
   "source": [
    "dict_with_edges['4']['indices']['ftree_links']['1']['df_edges'][:5]"
   ]
  },
  {
   "cell_type": "markdown",
   "metadata": {},
   "source": [
    "### # Take full listified .ftree file and write per Period per Module hubs as a Dict"
   ]
  },
  {
   "cell_type": "code",
   "execution_count": 12,
   "metadata": {},
   "outputs": [
    {
     "name": "stdout",
     "output_type": "stream",
     "text": [
      "2.\n",
      "Sample hub:  [{'node': '1', 'name': 'username1', 'score': 0.0514152}, {'node': '2', 'name': 'username2', 'score': 0.000577059}, {'node': '3', 'name': 'username3', 'score': 0.000184962}, {'node': '4', 'name': 'username4', 'score': 0.0001717}, {'node': '5', 'name': 'username5', 'score': 3.57708e-05}]\n"
     ]
    }
   ],
   "source": [
    "new_dict = dict_with_edges\n",
    "# -1 retrieves entire module\n",
    "dh = nttc.infomap_hub_maker(new_dict, file_type='ftree', mod_sample_size=10, hub_sample_size=-1)\n",
    "print(\n",
    "    '2.\\nSample hub: ',\n",
    "    dh['4']['info_hub']['2'][:5]\n",
    ")"
   ]
  },
  {
   "cell_type": "markdown",
   "metadata": {},
   "source": [
    "### Write edge and node lists per module: "
   ]
  },
  {
   "cell_type": "code",
   "execution_count": 13,
   "metadata": {
    "scrolled": true
   },
   "outputs": [
    {
     "name": "stdout",
     "output_type": "stream",
     "text": [
      "Processing period 1\n",
      "Module 1\n"
     ]
    },
    {
     "data": {
      "application/vnd.jupyter.widget-view+json": {
       "model_id": "61ae72709d9d47d79534402633b6dd5f",
       "version_major": 2,
       "version_minor": 0
      },
      "text/html": [
       "<p>Progress bar here</p>\n"
      ],
      "text/plain": [
       "HBox(children=(IntProgress(value=0, max=45339), HTML(value='')))"
      ]
     },
     "metadata": {},
     "output_type": "display_data"
    },
    {
     "name": "stdout",
     "output_type": "stream",
     "text": [
      "\n",
      "Module 2\n"
     ]
    },
    {
     "data": {
      "application/vnd.jupyter.widget-view+json": {
       "model_id": "961f44dfa1fd4d529c0bcaf76ad34a6d",
       "version_major": 2,
       "version_minor": 0
      },
      "text/html": [
       "<p>Progress bar here</p>\n"
      ],
      "text/plain": [
       "HBox(children=(IntProgress(value=0, max=6436), HTML(value='')))"
      ]
     },
     "metadata": {},
     "output_type": "display_data"
    },
    {
     "name": "stdout",
     "output_type": "stream",
     "text": [
      "\n",
      "Module 3\n"
     ]
    },
    {
     "data": {
      "application/vnd.jupyter.widget-view+json": {
       "model_id": "490d7fbf61a54c56a8aa10a4ff6e240e",
       "version_major": 2,
       "version_minor": 0
      },
      "text/html": [
       "<p>Progress bar here</p>\n"
      ],
      "text/plain": [
       "HBox(children=(IntProgress(value=0, max=2077), HTML(value='')))"
      ]
     },
     "metadata": {},
     "output_type": "display_data"
    },
    {
     "name": "stdout",
     "output_type": "stream",
     "text": [
      "\n",
      "Module 4\n"
     ]
    },
    {
     "data": {
      "application/vnd.jupyter.widget-view+json": {
       "model_id": "c89c42d1d54042bfbcdfa4ed7b942982",
       "version_major": 2,
       "version_minor": 0
      },
      "text/html": [
       "<p>Progress bar here</p>\n"
      ],
      "text/plain": [
       "HBox(children=(IntProgress(value=0, max=1558), HTML(value='')))"
      ]
     },
     "metadata": {},
     "output_type": "display_data"
    },
    {
     "name": "stdout",
     "output_type": "stream",
     "text": [
      "\n",
      "Module 5\n"
     ]
    },
    {
     "data": {
      "application/vnd.jupyter.widget-view+json": {
       "model_id": "e51f99d654704ad9bebdd9ec58828f5a",
       "version_major": 2,
       "version_minor": 0
      },
      "text/html": [
       "<p>Progress bar here</p>\n"
      ],
      "text/plain": [
       "HBox(children=(IntProgress(value=0, max=750), HTML(value='')))"
      ]
     },
     "metadata": {},
     "output_type": "display_data"
    },
    {
     "name": "stdout",
     "output_type": "stream",
     "text": [
      "\n",
      "Module 6\n"
     ]
    },
    {
     "data": {
      "application/vnd.jupyter.widget-view+json": {
       "model_id": "c81e4f04cce442a4858194fa5b490415",
       "version_major": 2,
       "version_minor": 0
      },
      "text/html": [
       "<p>Progress bar here</p>\n"
      ],
      "text/plain": [
       "HBox(children=(IntProgress(value=0, max=616), HTML(value='')))"
      ]
     },
     "metadata": {},
     "output_type": "display_data"
    },
    {
     "name": "stdout",
     "output_type": "stream",
     "text": [
      "\n",
      "Module 7\n"
     ]
    },
    {
     "data": {
      "application/vnd.jupyter.widget-view+json": {
       "model_id": "0be57f65141f40be9817788e21dc93ca",
       "version_major": 2,
       "version_minor": 0
      },
      "text/html": [
       "<p>Progress bar here</p>\n"
      ],
      "text/plain": [
       "HBox(children=(IntProgress(value=0, max=205), HTML(value='')))"
      ]
     },
     "metadata": {},
     "output_type": "display_data"
    },
    {
     "name": "stdout",
     "output_type": "stream",
     "text": [
      "\n",
      "Module 8\n"
     ]
    },
    {
     "data": {
      "application/vnd.jupyter.widget-view+json": {
       "model_id": "bdea94d535dd4514a636a0c30bdd2c08",
       "version_major": 2,
       "version_minor": 0
      },
      "text/html": [
       "<p>Progress bar here</p>\n"
      ],
      "text/plain": [
       "HBox(children=(IntProgress(value=0, max=607), HTML(value='')))"
      ]
     },
     "metadata": {},
     "output_type": "display_data"
    },
    {
     "name": "stdout",
     "output_type": "stream",
     "text": [
      "\n",
      "Module 9\n"
     ]
    },
    {
     "data": {
      "application/vnd.jupyter.widget-view+json": {
       "model_id": "4dd5abf71400403e9a200b74cb69f237",
       "version_major": 2,
       "version_minor": 0
      },
      "text/html": [
       "<p>Progress bar here</p>\n"
      ],
      "text/plain": [
       "HBox(children=(IntProgress(value=0, max=284), HTML(value='')))"
      ]
     },
     "metadata": {},
     "output_type": "display_data"
    },
    {
     "name": "stdout",
     "output_type": "stream",
     "text": [
      "\n",
      "Module 10\n"
     ]
    },
    {
     "data": {
      "application/vnd.jupyter.widget-view+json": {
       "model_id": "9a74be30c64645d592c56b306103bbc2",
       "version_major": 2,
       "version_minor": 0
      },
      "text/html": [
       "<p>Progress bar here</p>\n"
      ],
      "text/plain": [
       "HBox(children=(IntProgress(value=0, max=277), HTML(value='')))"
      ]
     },
     "metadata": {},
     "output_type": "display_data"
    },
    {
     "name": "stdout",
     "output_type": "stream",
     "text": [
      "\n",
      "Processing period 2\n",
      "Module 1\n"
     ]
    },
    {
     "data": {
      "application/vnd.jupyter.widget-view+json": {
       "model_id": "9b47e83644564090bdb3612d6bb2c3f9",
       "version_major": 2,
       "version_minor": 0
      },
      "text/html": [
       "<p>Progress bar here</p>\n"
      ],
      "text/plain": [
       "HBox(children=(IntProgress(value=0, max=29491), HTML(value='')))"
      ]
     },
     "metadata": {},
     "output_type": "display_data"
    },
    {
     "name": "stdout",
     "output_type": "stream",
     "text": [
      "\n",
      "Module 2\n"
     ]
    },
    {
     "data": {
      "application/vnd.jupyter.widget-view+json": {
       "model_id": "cb62836e6f8546eab871deee85ef3057",
       "version_major": 2,
       "version_minor": 0
      },
      "text/html": [
       "<p>Progress bar here</p>\n"
      ],
      "text/plain": [
       "HBox(children=(IntProgress(value=0, max=4839), HTML(value='')))"
      ]
     },
     "metadata": {},
     "output_type": "display_data"
    },
    {
     "name": "stdout",
     "output_type": "stream",
     "text": [
      "\n",
      "Module 3\n"
     ]
    },
    {
     "data": {
      "application/vnd.jupyter.widget-view+json": {
       "model_id": "21b5c3861d8746c79901fdf346010bf8",
       "version_major": 2,
       "version_minor": 0
      },
      "text/html": [
       "<p>Progress bar here</p>\n"
      ],
      "text/plain": [
       "HBox(children=(IntProgress(value=0, max=1241), HTML(value='')))"
      ]
     },
     "metadata": {},
     "output_type": "display_data"
    },
    {
     "name": "stdout",
     "output_type": "stream",
     "text": [
      "\n",
      "Module 4\n"
     ]
    },
    {
     "data": {
      "application/vnd.jupyter.widget-view+json": {
       "model_id": "023cad1cc17e440898b9ade18806000d",
       "version_major": 2,
       "version_minor": 0
      },
      "text/html": [
       "<p>Progress bar here</p>\n"
      ],
      "text/plain": [
       "HBox(children=(IntProgress(value=0, max=338), HTML(value='')))"
      ]
     },
     "metadata": {},
     "output_type": "display_data"
    },
    {
     "name": "stdout",
     "output_type": "stream",
     "text": [
      "\n",
      "Module 5\n"
     ]
    },
    {
     "data": {
      "application/vnd.jupyter.widget-view+json": {
       "model_id": "09686369796e4a879d0a711ba595d357",
       "version_major": 2,
       "version_minor": 0
      },
      "text/html": [
       "<p>Progress bar here</p>\n"
      ],
      "text/plain": [
       "HBox(children=(IntProgress(value=0, max=224), HTML(value='')))"
      ]
     },
     "metadata": {},
     "output_type": "display_data"
    },
    {
     "name": "stdout",
     "output_type": "stream",
     "text": [
      "\n",
      "Module 6\n"
     ]
    },
    {
     "data": {
      "application/vnd.jupyter.widget-view+json": {
       "model_id": "ee65306174f54a6e9c28e0d2627f3e34",
       "version_major": 2,
       "version_minor": 0
      },
      "text/html": [
       "<p>Progress bar here</p>\n"
      ],
      "text/plain": [
       "HBox(children=(IntProgress(value=0, max=308), HTML(value='')))"
      ]
     },
     "metadata": {},
     "output_type": "display_data"
    },
    {
     "name": "stdout",
     "output_type": "stream",
     "text": [
      "\n",
      "Module 7\n"
     ]
    },
    {
     "data": {
      "application/vnd.jupyter.widget-view+json": {
       "model_id": "d2b6880c740049c5bbf12f42cd6d5726",
       "version_major": 2,
       "version_minor": 0
      },
      "text/html": [
       "<p>Progress bar here</p>\n"
      ],
      "text/plain": [
       "HBox(children=(IntProgress(value=0, max=427), HTML(value='')))"
      ]
     },
     "metadata": {},
     "output_type": "display_data"
    },
    {
     "name": "stdout",
     "output_type": "stream",
     "text": [
      "\n",
      "Module 8\n"
     ]
    },
    {
     "data": {
      "application/vnd.jupyter.widget-view+json": {
       "model_id": "563d11027e3f45729cc8729e5218a95b",
       "version_major": 2,
       "version_minor": 0
      },
      "text/html": [
       "<p>Progress bar here</p>\n"
      ],
      "text/plain": [
       "HBox(children=(IntProgress(value=0, max=572), HTML(value='')))"
      ]
     },
     "metadata": {},
     "output_type": "display_data"
    },
    {
     "name": "stdout",
     "output_type": "stream",
     "text": [
      "\n",
      "Module 9\n"
     ]
    },
    {
     "data": {
      "application/vnd.jupyter.widget-view+json": {
       "model_id": "08f0eab49d8349ab9c36ed6f1e54ff63",
       "version_major": 2,
       "version_minor": 0
      },
      "text/html": [
       "<p>Progress bar here</p>\n"
      ],
      "text/plain": [
       "HBox(children=(IntProgress(value=0, max=128), HTML(value='')))"
      ]
     },
     "metadata": {},
     "output_type": "display_data"
    },
    {
     "name": "stdout",
     "output_type": "stream",
     "text": [
      "\n",
      "Module 10\n"
     ]
    },
    {
     "data": {
      "application/vnd.jupyter.widget-view+json": {
       "model_id": "948c22eb58bf456ea4f49a77d324ca02",
       "version_major": 2,
       "version_minor": 0
      },
      "text/html": [
       "<p>Progress bar here</p>\n"
      ],
      "text/plain": [
       "HBox(children=(IntProgress(value=0, max=1002), HTML(value='')))"
      ]
     },
     "metadata": {},
     "output_type": "display_data"
    },
    {
     "name": "stdout",
     "output_type": "stream",
     "text": [
      "\n",
      "Processing period 3\n",
      "Module 1\n"
     ]
    },
    {
     "data": {
      "application/vnd.jupyter.widget-view+json": {
       "model_id": "ab413c047fd84bfe9a6741b0e0adfb85",
       "version_major": 2,
       "version_minor": 0
      },
      "text/html": [
       "<p>Progress bar here</p>\n"
      ],
      "text/plain": [
       "HBox(children=(IntProgress(value=0, max=64862), HTML(value='')))"
      ]
     },
     "metadata": {},
     "output_type": "display_data"
    },
    {
     "name": "stdout",
     "output_type": "stream",
     "text": [
      "\n",
      "Module 2\n"
     ]
    },
    {
     "data": {
      "application/vnd.jupyter.widget-view+json": {
       "model_id": "882cc3ce0ba643c88f1c807672603a89",
       "version_major": 2,
       "version_minor": 0
      },
      "text/html": [
       "<p>Progress bar here</p>\n"
      ],
      "text/plain": [
       "HBox(children=(IntProgress(value=0, max=7047), HTML(value='')))"
      ]
     },
     "metadata": {},
     "output_type": "display_data"
    },
    {
     "name": "stdout",
     "output_type": "stream",
     "text": [
      "\n",
      "Module 3\n"
     ]
    },
    {
     "data": {
      "application/vnd.jupyter.widget-view+json": {
       "model_id": "f92c530835a94a49b03b5105572af0e9",
       "version_major": 2,
       "version_minor": 0
      },
      "text/html": [
       "<p>Progress bar here</p>\n"
      ],
      "text/plain": [
       "HBox(children=(IntProgress(value=0, max=2148), HTML(value='')))"
      ]
     },
     "metadata": {},
     "output_type": "display_data"
    },
    {
     "name": "stdout",
     "output_type": "stream",
     "text": [
      "\n",
      "Module 4\n"
     ]
    },
    {
     "data": {
      "application/vnd.jupyter.widget-view+json": {
       "model_id": "4999571c531740718267f4f72aa7b263",
       "version_major": 2,
       "version_minor": 0
      },
      "text/html": [
       "<p>Progress bar here</p>\n"
      ],
      "text/plain": [
       "HBox(children=(IntProgress(value=0, max=1647), HTML(value='')))"
      ]
     },
     "metadata": {},
     "output_type": "display_data"
    },
    {
     "name": "stdout",
     "output_type": "stream",
     "text": [
      "\n",
      "Module 5\n"
     ]
    },
    {
     "data": {
      "application/vnd.jupyter.widget-view+json": {
       "model_id": "11d83195e40c4d138dd04c9c150660e6",
       "version_major": 2,
       "version_minor": 0
      },
      "text/html": [
       "<p>Progress bar here</p>\n"
      ],
      "text/plain": [
       "HBox(children=(IntProgress(value=0, max=1254), HTML(value='')))"
      ]
     },
     "metadata": {},
     "output_type": "display_data"
    },
    {
     "name": "stdout",
     "output_type": "stream",
     "text": [
      "\n",
      "Module 6\n"
     ]
    },
    {
     "data": {
      "application/vnd.jupyter.widget-view+json": {
       "model_id": "9f928cb222454dd9a0c79795e481a4d3",
       "version_major": 2,
       "version_minor": 0
      },
      "text/html": [
       "<p>Progress bar here</p>\n"
      ],
      "text/plain": [
       "HBox(children=(IntProgress(value=0, max=776), HTML(value='')))"
      ]
     },
     "metadata": {},
     "output_type": "display_data"
    },
    {
     "name": "stdout",
     "output_type": "stream",
     "text": [
      "\n",
      "Module 7\n"
     ]
    },
    {
     "data": {
      "application/vnd.jupyter.widget-view+json": {
       "model_id": "a4f013d38e5a489eb668feb4649157ca",
       "version_major": 2,
       "version_minor": 0
      },
      "text/html": [
       "<p>Progress bar here</p>\n"
      ],
      "text/plain": [
       "HBox(children=(IntProgress(value=0, max=842), HTML(value='')))"
      ]
     },
     "metadata": {},
     "output_type": "display_data"
    },
    {
     "name": "stdout",
     "output_type": "stream",
     "text": [
      "\n",
      "Module 8\n"
     ]
    },
    {
     "data": {
      "application/vnd.jupyter.widget-view+json": {
       "model_id": "6ca1cd84196a48d6b7258bf4a4190bcd",
       "version_major": 2,
       "version_minor": 0
      },
      "text/html": [
       "<p>Progress bar here</p>\n"
      ],
      "text/plain": [
       "HBox(children=(IntProgress(value=0, max=1322), HTML(value='')))"
      ]
     },
     "metadata": {},
     "output_type": "display_data"
    },
    {
     "name": "stdout",
     "output_type": "stream",
     "text": [
      "\n",
      "Module 9\n"
     ]
    },
    {
     "data": {
      "application/vnd.jupyter.widget-view+json": {
       "model_id": "8eaca72043314069a12080fb088f5c86",
       "version_major": 2,
       "version_minor": 0
      },
      "text/html": [
       "<p>Progress bar here</p>\n"
      ],
      "text/plain": [
       "HBox(children=(IntProgress(value=0, max=617), HTML(value='')))"
      ]
     },
     "metadata": {},
     "output_type": "display_data"
    },
    {
     "name": "stdout",
     "output_type": "stream",
     "text": [
      "\n",
      "Module 10\n"
     ]
    },
    {
     "data": {
      "application/vnd.jupyter.widget-view+json": {
       "model_id": "71fedbcd67c54086b555c2fa856213d7",
       "version_major": 2,
       "version_minor": 0
      },
      "text/html": [
       "<p>Progress bar here</p>\n"
      ],
      "text/plain": [
       "HBox(children=(IntProgress(value=0, max=261), HTML(value='')))"
      ]
     },
     "metadata": {},
     "output_type": "display_data"
    },
    {
     "name": "stdout",
     "output_type": "stream",
     "text": [
      "\n"
     ]
    }
   ],
   "source": [
    "## Parameters: (Tuple period range, Tuple module range, Dict of module data from infomap_hub_maker)\n",
    "## Below params only parse modules 1-10 in period 2\n",
    "dict_full = nttc.networks_controller((2,3),(1,10),dh)"
   ]
  },
  {
   "cell_type": "code",
   "execution_count": 14,
   "metadata": {},
   "outputs": [
    {
     "data": {
      "text/html": [
       "<div>\n",
       "<style scoped>\n",
       "    .dataframe tbody tr th:only-of-type {\n",
       "        vertical-align: middle;\n",
       "    }\n",
       "\n",
       "    .dataframe tbody tr th {\n",
       "        vertical-align: top;\n",
       "    }\n",
       "\n",
       "    .dataframe thead th {\n",
       "        text-align: right;\n",
       "    }\n",
       "</style>\n",
       "<table border=\"1\" class=\"dataframe\">\n",
       "  <thead>\n",
       "    <tr style=\"text-align: right;\">\n",
       "      <th></th>\n",
       "      <th>directed_count</th>\n",
       "      <th>source</th>\n",
       "      <th>source_name</th>\n",
       "      <th>target</th>\n",
       "      <th>target_name</th>\n",
       "    </tr>\n",
       "  </thead>\n",
       "  <tbody>\n",
       "    <tr>\n",
       "      <th>0</th>\n",
       "      <td>0.00474017</td>\n",
       "      <td>2</td>\n",
       "      <td>username1</td>\n",
       "      <td>1</td>\n",
       "      <td>username2</td>\n",
       "    </tr>\n",
       "    <tr>\n",
       "      <th>1</th>\n",
       "      <td>0.00472335</td>\n",
       "      <td>3</td>\n",
       "      <td>username3</td>\n",
       "      <td>1</td>\n",
       "      <td>username2</td>\n",
       "    </tr>\n",
       "    <tr>\n",
       "      <th>2</th>\n",
       "      <td>0.00121372</td>\n",
       "      <td>15</td>\n",
       "      <td>username4</td>\n",
       "      <td>1</td>\n",
       "      <td>username2</td>\n",
       "    </tr>\n",
       "    <tr>\n",
       "      <th>3</th>\n",
       "      <td>0.00113362</td>\n",
       "      <td>108</td>\n",
       "      <td>username5</td>\n",
       "      <td>1</td>\n",
       "      <td>username2</td>\n",
       "    </tr>\n",
       "    <tr>\n",
       "      <th>4</th>\n",
       "      <td>0.000857446</td>\n",
       "      <td>4</td>\n",
       "      <td>username6</td>\n",
       "      <td>1</td>\n",
       "      <td>username2</td>\n",
       "    </tr>\n",
       "  </tbody>\n",
       "</table>\n",
       "</div>"
      ],
      "text/plain": [
       "  directed_count source     source_name target target_name\n",
       "0     0.00474017      2   username1      1       username2\n",
       "1     0.00472335      3       username3      1       username2\n",
       "2     0.00121372     15     username4      1       username2\n",
       "3     0.00113362    108  username5      1       username2\n",
       "4    0.000857446      4       username6      1       username2"
      ]
     },
     "execution_count": 14,
     "metadata": {},
     "output_type": "execute_result"
    }
   ],
   "source": [
    "dict_full['network']['3']['2']['edges'][:5]"
   ]
  },
  {
   "cell_type": "markdown",
   "metadata": {},
   "source": [
    "## 2. Sample modules"
   ]
  },
  {
   "cell_type": "code",
   "execution_count": 15,
   "metadata": {},
   "outputs": [],
   "source": [
    "# Reduce to as-needed columns\n",
    "df_selected = df_all[['id', 'created_at', 'date', 'user_id', 'username', 'tweet', 'mentions', 'retweets_count', 'hashtags', 'link']]"
   ]
  },
  {
   "cell_type": "code",
   "execution_count": 16,
   "metadata": {},
   "outputs": [],
   "source": [
    "dict_p = dict_full['network']['3']"
   ]
  },
  {
   "cell_type": "markdown",
   "metadata": {},
   "source": [
    "#### SINGLE PERIOD"
   ]
  },
  {
   "cell_type": "code",
   "execution_count": 17,
   "metadata": {
    "scrolled": true
   },
   "outputs": [
    {
     "name": "stdout",
     "output_type": "stream",
     "text": [
      "Module 1 started.\n"
     ]
    },
    {
     "data": {
      "application/vnd.jupyter.widget-view+json": {
       "model_id": "98cec61f601843e9882acbc2ef9f1400",
       "version_major": 2,
       "version_minor": 0
      },
      "text/html": [
       "<p>Progress bar here</p>\n"
      ],
      "text/plain": [
       "HBox(children=(IntProgress(value=0, max=53021), HTML(value='')))"
      ]
     },
     "metadata": {},
     "output_type": "display_data"
    },
    {
     "name": "stdout",
     "output_type": "stream",
     "text": [
      "\n",
      "Module 1 sample size: 3472\n",
      "Module 2 started.\n"
     ]
    },
    {
     "data": {
      "application/vnd.jupyter.widget-view+json": {
       "model_id": "928d15bc697144faa38f94fda4ac7e12",
       "version_major": 2,
       "version_minor": 0
      },
      "text/html": [
       "<p>Progress bar here</p>\n"
      ],
      "text/plain": [
       "HBox(children=(IntProgress(value=0, max=2164), HTML(value='')))"
      ]
     },
     "metadata": {},
     "output_type": "display_data"
    },
    {
     "name": "stdout",
     "output_type": "stream",
     "text": [
      "\n",
      "Module 2 sample size: 2914\n",
      "Module 3 started.\n"
     ]
    },
    {
     "data": {
      "application/vnd.jupyter.widget-view+json": {
       "model_id": "ddcade3d6f3846bf9f15cb1ee849239d",
       "version_major": 2,
       "version_minor": 0
      },
      "text/html": [
       "<p>Progress bar here</p>\n"
      ],
      "text/plain": [
       "HBox(children=(IntProgress(value=0, max=917), HTML(value='')))"
      ]
     },
     "metadata": {},
     "output_type": "display_data"
    },
    {
     "name": "stdout",
     "output_type": "stream",
     "text": [
      "\n",
      "Module 3 sample size: 1002\n",
      "Module 4 started.\n"
     ]
    },
    {
     "data": {
      "application/vnd.jupyter.widget-view+json": {
       "model_id": "6b7ddc4b4ff2465ba5da7a4247e690b3",
       "version_major": 2,
       "version_minor": 0
      },
      "text/html": [
       "<p>Progress bar here</p>\n"
      ],
      "text/plain": [
       "HBox(children=(IntProgress(value=0, max=1647), HTML(value='')))"
      ]
     },
     "metadata": {},
     "output_type": "display_data"
    },
    {
     "name": "stdout",
     "output_type": "stream",
     "text": [
      "\n",
      "Module 4 sample size: 25\n",
      "Module 5 started.\n"
     ]
    },
    {
     "data": {
      "application/vnd.jupyter.widget-view+json": {
       "model_id": "b4b6558de0a446718e8bf84214ce749d",
       "version_major": 2,
       "version_minor": 0
      },
      "text/html": [
       "<p>Progress bar here</p>\n"
      ],
      "text/plain": [
       "HBox(children=(IntProgress(value=0, max=1058), HTML(value='')))"
      ]
     },
     "metadata": {},
     "output_type": "display_data"
    },
    {
     "name": "stdout",
     "output_type": "stream",
     "text": [
      "\n",
      "Module 5 sample size: 10\n",
      "Module 6 started.\n"
     ]
    },
    {
     "data": {
      "application/vnd.jupyter.widget-view+json": {
       "model_id": "f9c0bc970a7948159568ec297b523442",
       "version_major": 2,
       "version_minor": 0
      },
      "text/html": [
       "<p>Progress bar here</p>\n"
      ],
      "text/plain": [
       "HBox(children=(IntProgress(value=0, max=776), HTML(value='')))"
      ]
     },
     "metadata": {},
     "output_type": "display_data"
    },
    {
     "name": "stdout",
     "output_type": "stream",
     "text": [
      "\n",
      "Module 6 sample size: 351\n",
      "Module 7 started.\n"
     ]
    },
    {
     "data": {
      "application/vnd.jupyter.widget-view+json": {
       "model_id": "93808c1d1b884f26af2ae2687335b603",
       "version_major": 2,
       "version_minor": 0
      },
      "text/html": [
       "<p>Progress bar here</p>\n"
      ],
      "text/plain": [
       "HBox(children=(IntProgress(value=0, max=842), HTML(value='')))"
      ]
     },
     "metadata": {},
     "output_type": "display_data"
    },
    {
     "name": "stdout",
     "output_type": "stream",
     "text": [
      "\n",
      "Module 7 sample size: 166\n",
      "Module 8 started.\n"
     ]
    },
    {
     "data": {
      "application/vnd.jupyter.widget-view+json": {
       "model_id": "59d98a0612684e2886c23917afd17421",
       "version_major": 2,
       "version_minor": 0
      },
      "text/html": [
       "<p>Progress bar here</p>\n"
      ],
      "text/plain": [
       "HBox(children=(IntProgress(value=0, max=791), HTML(value='')))"
      ]
     },
     "metadata": {},
     "output_type": "display_data"
    },
    {
     "name": "stdout",
     "output_type": "stream",
     "text": [
      "\n",
      "Module 8 sample size: 495\n",
      "Module 9 started.\n"
     ]
    },
    {
     "data": {
      "application/vnd.jupyter.widget-view+json": {
       "model_id": "20e7c789112a439d81efd45628bf409d",
       "version_major": 2,
       "version_minor": 0
      },
      "text/html": [
       "<p>Progress bar here</p>\n"
      ],
      "text/plain": [
       "HBox(children=(IntProgress(value=0, max=201), HTML(value='')))"
      ]
     },
     "metadata": {},
     "output_type": "display_data"
    },
    {
     "name": "stdout",
     "output_type": "stream",
     "text": [
      "\n",
      "Module 9 sample size: 53\n",
      "Module 10 started.\n"
     ]
    },
    {
     "data": {
      "application/vnd.jupyter.widget-view+json": {
       "model_id": "3f62d0b799de4d72b4a562e989601d9f",
       "version_major": 2,
       "version_minor": 0
      },
      "text/html": [
       "<p>Progress bar here</p>\n"
      ],
      "text/plain": [
       "HBox(children=(IntProgress(value=0, max=261), HTML(value='')))"
      ]
     },
     "metadata": {},
     "output_type": "display_data"
    },
    {
     "name": "stdout",
     "output_type": "stream",
     "text": [
      "\n",
      "Module 10 sample size: 63\n"
     ]
    }
   ],
   "source": [
    "dict_samples = {}\n",
    "dict_samples = nttc.content_sampler(\n",
    "                    period_type='single',\n",
    "                    network=dict_p, #Network Dict for period, since 'single'\n",
    "                    sample_size=-1, # All available data\n",
    "                    period_dates=period_dates, # Slices for period\n",
    "                    corpus=df_selected, #Corpus to sample\n",
    "                    sample_type='modules', \n",
    "                    ht_group=None,\n",
    "                    user_threshold=5,\n",
    "                    period_num='3',#DONT FORGET PERIOD NUMBER!!!\n",
    "                    random=False)"
   ]
  },
  {
   "cell_type": "code",
   "execution_count": null,
   "metadata": {},
   "outputs": [],
   "source": [
    "def matcher(hts):\n",
    "    for i in liberal_fbt_list:\n",
    "        if i.lower() in hts.lower():\n",
    "            return True\n",
    "    else:\n",
    "        return False"
   ]
  },
  {
   "cell_type": "code",
   "execution_count": null,
   "metadata": {
    "scrolled": true
   },
   "outputs": [],
   "source": [
    "# Use to query the sample data, if needed\n",
    "# Noteworthy modules; 1,2,3,4,6,10\n",
    "query = dict_samples['3']['sample']\n",
    "query['ht_match'] = query['hashtags'].apply(matcher)\n",
    "q = query[query['ht_match'] == True]\n",
    "qq = q.drop_duplicates(subset=['id'], keep='first')\n",
    "\n",
    "qq = qq[['username','tweet','retweets_count','hashtags','link','mentions','date','id','user_id']]\n",
    "\n",
    "qq[:10].to_csv(join('../infomap/output/nets/ftree/csv', 'ftree_fbt_sample_extension_p4m3.csv'),\n",
    "                                sep=',',\n",
    "                                encoding='utf-8',\n",
    "                                index=False)\n",
    "qq[:10]"
   ]
  },
  {
   "cell_type": "markdown",
   "metadata": {},
   "source": [
    "### 3. Plot tweets per week to see distribution"
   ]
  },
  {
   "cell_type": "markdown",
   "metadata": {},
   "source": [
    "#### Reduce data set to what's needed"
   ]
  },
  {
   "cell_type": "code",
   "execution_count": 18,
   "metadata": {},
   "outputs": [
    {
     "name": "stdout",
     "output_type": "stream",
     "text": [
      "length of stopwords: 174\n",
      "['off', 'to', 'so', 'out', 'what', \"don't\", \"we've\", \"you'll\", \"i've\", 'there']\n",
      "current count of stopwords: 1082575\n",
      "example punctuation words:\n",
      " ['~~~[', '~~~\\\\', '~~~]', '~~~^', '~~~_', '~~~`', '~~~{', '~~~|', '~~~}', '~~~~']\n"
     ]
    }
   ],
   "source": [
    "import itertools as it\n",
    "from stop_words import get_stop_words\n",
    "\n",
    "languages = ['english']\n",
    "# collect and dedupe\n",
    "stop_words = list(set(it.chain.from_iterable((get_stop_words(lang)\n",
    "                                                for lang in languages))))\n",
    "print('length of stopwords:', len(stop_words))\n",
    "\n",
    "# look at a sample\n",
    "print(stop_words[:10])\n",
    "\n",
    "# ex: length-2 permutations of the given set of chars\n",
    "[''.join(x) for x in it.product('#$.', repeat=2)]\n",
    "stop_words = list(it.chain(stop_words, nttc.make_punc_stopwords(max_length=4)))\n",
    "\n",
    "print('current count of stopwords: {}'.format(len(stop_words)))\n",
    "print('example punctuation words:\\n {}'.format(stop_words[-10:]))"
   ]
  },
  {
   "cell_type": "code",
   "execution_count": 19,
   "metadata": {
    "scrolled": true
   },
   "outputs": [
    {
     "name": "stdout",
     "output_type": "stream",
     "text": [
      "Lengths:\n",
      " 1 3472 \n",
      "2 2914 \n",
      "3 1002\n"
     ]
    }
   ],
   "source": [
    "columns_list = ['date','tweet','username']\n",
    "dict_samples = nttc.sample_reducer('single', dict_samples, columns_list)\n",
    "\n",
    "print('Lengths:\\n',\n",
    "    '1',len(dict_samples['1']['obj'].reduced_sample),\n",
    "    '\\n2',len(dict_samples['2']['obj'].reduced_sample),\n",
    "    '\\n3',len(dict_samples['3']['obj'].reduced_sample)\n",
    ")"
   ]
  },
  {
   "cell_type": "markdown",
   "metadata": {},
   "source": [
    "#### Convert dates to datetime object"
   ]
  },
  {
   "cell_type": "code",
   "execution_count": 65,
   "metadata": {},
   "outputs": [
    {
     "name": "stderr",
     "output_type": "stream",
     "text": [
      "/Users/chrisl/.pyenv/versions/3.6.2/lib/python3.6/site-packages/pandas/core/indexing.py:543: SettingWithCopyWarning: \n",
      "A value is trying to be set on a copy of a slice from a DataFrame.\n",
      "Try using .loc[row_indexer,col_indexer] = value instead\n",
      "\n",
      "See the caveats in the documentation: http://pandas.pydata.org/pandas-docs/stable/indexing.html#indexing-view-versus-copy\n",
      "  self.obj[item] = s\n"
     ]
    },
    {
     "data": {
      "text/html": [
       "<div>\n",
       "<style scoped>\n",
       "    .dataframe tbody tr th:only-of-type {\n",
       "        vertical-align: middle;\n",
       "    }\n",
       "\n",
       "    .dataframe tbody tr th {\n",
       "        vertical-align: top;\n",
       "    }\n",
       "\n",
       "    .dataframe thead th {\n",
       "        text-align: right;\n",
       "    }\n",
       "</style>\n",
       "<table border=\"1\" class=\"dataframe\">\n",
       "  <thead>\n",
       "    <tr style=\"text-align: right;\">\n",
       "      <th></th>\n",
       "      <th>date</th>\n",
       "      <th>tweet</th>\n",
       "      <th>username</th>\n",
       "    </tr>\n",
       "  </thead>\n",
       "  <tbody>\n",
       "    <tr>\n",
       "      <th>0</th>\n",
       "      <td>2018-06-30</td>\n",
       "      <td>.@POTUS We The People Thank You for all you do for America 🇺🇸</td>\n",
       "      <td>rohll5</td>\n",
       "    </tr>\n",
       "  </tbody>\n",
       "</table>\n",
       "</div>"
      ],
      "text/plain": [
       "        date                                                          tweet  \\\n",
       "0 2018-06-30  .@POTUS We The People Thank You for all you do for America 🇺🇸   \n",
       "\n",
       "  username  \n",
       "0   rohll5  "
      ]
     },
     "execution_count": 65,
     "metadata": {},
     "output_type": "execute_result"
    }
   ],
   "source": [
    "dict_samples = nttc.df_datetime_converter('single', dict_samples, 'date')\n",
    "dict_samples['2']['obj'].reduced_sample[:1]"
   ]
  },
  {
   "cell_type": "markdown",
   "metadata": {},
   "source": [
    "## Plot each module's tweet activity for the period"
   ]
  },
  {
   "cell_type": "code",
   "execution_count": 22,
   "metadata": {},
   "outputs": [
    {
     "data": {
      "image/png": "[encoded data removed]",
      "text/plain": [
       "<Figure size 432x288 with 1 Axes>"
      ]
     },
     "metadata": {
      "needs_background": "light"
     },
     "output_type": "display_data"
    },
    {
     "data": {
      "image/png": "[encoded data removed]",
      "text/plain": [
       "<Figure size 432x288 with 1 Axes>"
      ]
     },
     "metadata": {
      "needs_background": "light"
     },
     "output_type": "display_data"
    },
    {
     "data": {
      "image/png": "[encoded data removed]",
      "text/plain": [
       "<Figure size 432x288 with 1 Axes>"
      ]
     },
     "metadata": {
      "needs_background": "light"
     },
     "output_type": "display_data"
    },
    {
     "data": {
      "image/png": "[encoded data removed]",
      "text/plain": [
       "<Figure size 432x288 with 1 Axes>"
      ]
     },
     "metadata": {
      "needs_background": "light"
     },
     "output_type": "display_data"
    },
    {
     "data": {
      "image/png": "[encoded data removed]",
      "text/plain": [
       "<Figure size 432x288 with 1 Axes>"
      ]
     },
     "metadata": {
      "needs_background": "light"
     },
     "output_type": "display_data"
    },
    {
     "data": {
      "image/png": "[encoded data removed]",
      "text/plain": [
       "<Figure size 432x288 with 1 Axes>"
      ]
     },
     "metadata": {
      "needs_background": "light"
     },
     "output_type": "display_data"
    },
    {
     "data": {
      "image/png": "[encoded data removed]",
      "text/plain": [
       "<Figure size 432x288 with 1 Axes>"
      ]
     },
     "metadata": {
      "needs_background": "light"
     },
     "output_type": "display_data"
    },
    {
     "data": {
      "image/png": "[encoded data removed]",
      "text/plain": [
       "<Figure size 432x288 with 1 Axes>"
      ]
     },
     "metadata": {
      "needs_background": "light"
     },
     "output_type": "display_data"
    },
    {
     "data": {
      "image/png": "[encoded data removed]",
      "text/plain": [
       "<Figure size 432x288 with 1 Axes>"
      ]
     },
     "metadata": {
      "needs_background": "light"
     },
     "output_type": "display_data"
    },
    {
     "data": {
      "image/png": "[encoded data removed]",
      "text/plain": [
       "<Figure size 432x288 with 1 Axes>"
      ]
     },
     "metadata": {
      "needs_background": "light"
     },
     "output_type": "display_data"
    }
   ],
   "source": [
    "col_list = ['date','tweet']\n",
    "nttc.plot_tweet_counts('single', dict_samples, 'W', col_list) #'W' == Weekly"
   ]
  },
  {
   "cell_type": "markdown",
   "metadata": {},
   "source": [
    "## Tokenize community module tweets"
   ]
  },
  {
   "cell_type": "code",
   "execution_count": 30,
   "metadata": {
    "scrolled": true
   },
   "outputs": [
    {
     "name": "stdout",
     "output_type": "stream",
     "text": [
      "Total number of tokens: 99078\n",
      "Total number of tokens: 89627\n",
      "Total number of tokens: 29527\n",
      "Total number of tokens: 581\n",
      "Total number of tokens: 353\n",
      "Total number of tokens: 9460\n",
      "Total number of tokens: 4824\n",
      "Total number of tokens: 13214\n",
      "Total number of tokens: 1624\n",
      "Total number of tokens: 2028\n"
     ]
    },
    {
     "data": {
      "text/plain": [
       "['just', 'left', 'border', 'patrol', 'processing']"
      ]
     },
     "execution_count": 30,
     "metadata": {},
     "output_type": "execute_result"
    }
   ],
   "source": [
    "dict_samples = nttc.tokenize_em('single', dict_samples, 'tweet')\n",
    "dict_samples['1']['obj'].tokens[:5]"
   ]
  },
  {
   "cell_type": "code",
   "execution_count": 31,
   "metadata": {
    "scrolled": true
   },
   "outputs": [],
   "source": [
    "# calculate a range of ngrams using some handy functions\n",
    "dict_samples = nttc.top_gram_counter('single', dict_samples)\n",
    "dict_samples = nttc.unique_obs_counter('single', dict_samples)"
   ]
  },
  {
   "cell_type": "code",
   "execution_count": 32,
   "metadata": {},
   "outputs": [
    {
     "data": {
      "text/plain": [
       "Counter({('just', 'left'): 2,\n",
       "         ('left', 'border'): 2,\n",
       "         ('border', 'patrol'): 9,\n",
       "         ('patrol', 'processing'): 2,\n",
       "         ('processing', 'center'): 2,\n",
       "         ('center', 'in'): 2,\n",
       "         ('in', 'mcallen'): 3,\n",
       "         ('mcallen', '—'): 2,\n",
       "         ('—', 'aka'): 2,\n",
       "         ('aka', 'the'): 2,\n",
       "         ('the', 'dog'): 2,\n",
       "         ('dog', 'kennel'): 2,\n",
       "         ('kennel', 'witnessed'): 2,\n",
       "         ('witnessed', 'loads'): 2,\n",
       "         ('loads', 'of'): 2,\n",
       "         ('of', 'kids'): 11,\n",
       "         ('kids', 'massed'): 2,\n",
       "         ('massed', 'together'): 2,\n",
       "         ('together', 'in'): 5,\n",
       "         ('in', 'large'): 2,\n",
       "         ('large', 'pens'): 2,\n",
       "         ('pens', 'of'): 2,\n",
       "         ('of', 'chain-linked'): 2,\n",
       "         ('chain-linked', 'fence'): 2,\n",
       "         ('fence', 'separated'): 2,\n",
       "         ('separated', 'from'): 51,\n",
       "         ('from', 'their'): 233,\n",
       "         ('their', 'moms'): 2,\n",
       "         ('moms', 'and'): 2,\n",
       "         ('and', 'dads'): 2,\n",
       "         ('dads', '@realdonaldtrump'): 2,\n",
       "         ('@realdonaldtrump', 'change'): 4,\n",
       "         ('change', 'your'): 8,\n",
       "         ('your', 'shameful'): 2,\n",
       "         ('shameful', 'policy'): 2,\n",
       "         ('policy', 'today'): 2,\n",
       "         ('today', '#familiesbelongtogether'): 4,\n",
       "         ('#familiesbelongtogether', 'just'): 1,\n",
       "         ('#familiesbelongtogether', 'if'): 3,\n",
       "         ('if', 'illegal'): 3,\n",
       "         ('illegal', 'immigrants'): 35,\n",
       "         ('immigrants', 'stop'): 3,\n",
       "         ('stop', 'illegally'): 3,\n",
       "         ('illegally', 'crossing'): 4,\n",
       "         ('crossing', 'our'): 9,\n",
       "         ('our', 'border'): 29,\n",
       "         ('border', 'the'): 6,\n",
       "         ('the', 'entire'): 13,\n",
       "         ('entire', 'issue'): 3,\n",
       "         ('issue', 'of'): 5,\n",
       "         ('of', 'separation'): 4,\n",
       "         ('separation', 'from'): 3,\n",
       "         ('their', 'children'): 39,\n",
       "         ('children', 'will'): 8,\n",
       "         ('will', 'cease'): 3,\n",
       "         ('cease', 'to'): 3,\n",
       "         ('to', 'exist'): 3,\n",
       "         ('exist', 'don'): 3,\n",
       "         ('don', '’'): 79,\n",
       "         ('’', 't'): 235,\n",
       "         ('t', 'blame'): 3,\n",
       "         ('blame', '@realdonaldtrump'): 5,\n",
       "         ('@realdonaldtrump', 'and'): 53,\n",
       "         ('and', 'republicans'): 9,\n",
       "         ('republicans', 'for'): 3,\n",
       "         ('for', 'a'): 38,\n",
       "         ('a', 'tragic'): 3,\n",
       "         ('tragic', 'situation'): 3,\n",
       "         ('situation', 'illegals'): 3,\n",
       "         ('illegals', 'have'): 17,\n",
       "         ('have', 'created'): 4,\n",
       "         ('created', 'all'): 3,\n",
       "         ('all', 'by'): 3,\n",
       "         ('by', 'themselves'): 3,\n",
       "         ('themselves', '. .'): 1,\n",
       "         ('. .', '@realdonaldtrump'): 7,\n",
       "         ('@realdonaldtrump', 'if'): 37,\n",
       "         ('if', 'you'): 70,\n",
       "         ('you', 'share'): 1,\n",
       "         ('share', 'the'): 1,\n",
       "         ('the', 'outrage'): 3,\n",
       "         ('outrage', 'of'): 1,\n",
       "         ('of', 'the'): 192,\n",
       "         ('the', 'vast'): 3,\n",
       "         ('vast', 'majority'): 4,\n",
       "         ('majority', 'of'): 9,\n",
       "         ('of', 'americans'): 16,\n",
       "         ('americans', 'if'): 2,\n",
       "         ('you', '’'): 48,\n",
       "         ('’', 're'): 62,\n",
       "         ('re', 'ashamed'): 1,\n",
       "         ('ashamed', 'of'): 4,\n",
       "         ('of', 'what'): 3,\n",
       "         ('what', '’'): 10,\n",
       "         ('’', 's'): 277,\n",
       "         ('s', 'happening'): 2,\n",
       "         ('happening', 'at'): 1,\n",
       "         ('at', 'the'): 204,\n",
       "         ('the', 'border'): 270,\n",
       "         ('border', 'you'): 1,\n",
       "         ('you', 'can'): 63,\n",
       "         ('can', 'change'): 1,\n",
       "         ('your', 'administration'): 8,\n",
       "         ('administration', '’'): 5,\n",
       "         ('s', 'policy'): 5,\n",
       "         ('policy', 'right'): 1,\n",
       "         ('right', 'now'): 126,\n",
       "         ('now', '#keepfamiliestogether'): 2,\n",
       "         ('#keepfamiliestogether', '<-url->'): 68,\n",
       "         ('<-url->', '…'): 609,\n",
       "         ('…', 'our'): 2,\n",
       "         ('our', 'nation'): 13,\n",
       "         ('nation', '’'): 1,\n",
       "         ('s', 'top'): 1,\n",
       "         ('top', 'doctors'): 1,\n",
       "         ('doctors', 'say'): 1,\n",
       "         ('say', 'family'): 1,\n",
       "         ('family', 'separation'): 20,\n",
       "         ('separation', 'causes'): 1,\n",
       "         ('causes', 'severe'): 1,\n",
       "         ('severe', 'emotional'): 1,\n",
       "         ('emotional', 'distress'): 1,\n",
       "         ('distress', 'children'): 1,\n",
       "         ('children', 'separated'): 10,\n",
       "         ('their', 'families'): 35,\n",
       "         ('families', 'have'): 2,\n",
       "         ('have', 'suffered'): 1,\n",
       "         ('suffered', 'enough'): 1,\n",
       "         ('enough', 'trauma'): 1,\n",
       "         ('trauma', 'and'): 2,\n",
       "         ('and', 'must'): 6,\n",
       "         ('must', 'be'): 33,\n",
       "         ('be', 'reunited'): 5,\n",
       "         ('reunited', 'no'): 1,\n",
       "         ('no', 'later'): 1,\n",
       "         ('later', 'than'): 1,\n",
       "         ('than', 'today'): 1,\n",
       "         ('today', '’'): 5,\n",
       "         ('s', 'court-ordered'): 1,\n",
       "         ('court-ordered', 'deadline'): 2,\n",
       "         ('deadline', 'no'): 1,\n",
       "         ('no', 'more'): 27,\n",
       "         ('more', 'excuses'): 1,\n",
       "         ('excuses', '@realdonaldtrump'): 1,\n",
       "         ('@realdonaldtrump', '#familiesbelongtogether'): 150,\n",
       "         ('#familiesbelongtogether', '<-url->'): 202,\n",
       "         ('…', '#americafirst-this'): 1,\n",
       "         ('#americafirst-this', 'is'): 1,\n",
       "         ('is', 'pivotal'): 1,\n",
       "         ('pivotal', 'moment'): 1,\n",
       "         ('moment', 'for'): 1,\n",
       "         ('for', '@realdonaldtrump'): 28,\n",
       "         ('and', 'america'): 1,\n",
       "         ('america', 'he'): 3,\n",
       "         ('he', 'promised'): 3,\n",
       "         ('promised', 'there'): 1,\n",
       "         ('there', 'would'): 2,\n",
       "         ('would', 'be'): 41,\n",
       "         ('be', 'no'): 4,\n",
       "         ('no', 'amnesty'): 50,\n",
       "         ('amnesty', 'that'): 3,\n",
       "         ('that', 'he'): 18,\n",
       "         ('he', 'would'): 8,\n",
       "         ('would', 'build'): 2,\n",
       "         ('build', 'the'): 659,\n",
       "         ('the', 'wall'): 737,\n",
       "         ('wall', 'we'): 14,\n",
       "         ('we', 'have'): 69,\n",
       "         ('have', 'faith'): 1,\n",
       "         ('faith', 'the'): 1,\n",
       "         ('the', 'president'): 18,\n",
       "         ('president', 'will'): 3,\n",
       "         ('will', 'keep'): 7,\n",
       "         ('keep', 'those'): 2,\n",
       "         ('those', 'promises'): 1,\n",
       "         ('promises', '#maga'): 1,\n",
       "         ('#maga', '#trumptrain'): 5,\n",
       "         ('#trumptrain', '#dobbs'): 1,\n",
       "         ('#dobbs', '<-url->'): 1,\n",
       "         ('<-url->', 'it'): 8,\n",
       "         ('it', '’'): 89,\n",
       "         ('s', 'as'): 1,\n",
       "         ('as', 'easy'): 1,\n",
       "         ('easy', 'as'): 1,\n",
       "         ('as', 'this'): 1,\n",
       "         ('this', 'mr'): 1,\n",
       "         ('mr', 'president'): 96,\n",
       "         ('president', 'just'): 1,\n",
       "         ('just', 'sign'): 1,\n",
       "         ('sign', 'on'): 2,\n",
       "         ('on', 'the'): 98,\n",
       "         ('the', 'line'): 7,\n",
       "         ('line', '@realdonaldtrump'): 2,\n",
       "         ('@realdonaldtrump', '#keepfamiliestogether'): 19,\n",
       "         ('<-url->', '#buildthewall'): 3,\n",
       "         ('#buildthewall', 'cbs'): 1,\n",
       "         ('cbs', 'poll'): 1,\n",
       "         ('poll', '51'): 2,\n",
       "         ('51', 'of'): 1,\n",
       "         ('americans', 'believe'): 1,\n",
       "         ('believe', 'a'): 1,\n",
       "         ('a', 'border'): 5,\n",
       "         ('border', 'wall'): 15,\n",
       "         ('wall', 'is'): 17,\n",
       "         ('is', 'a'): 111,\n",
       "         ('a', 'good'): 11,\n",
       "         ('good', 'idea'): 3,\n",
       "         ('idea', '<-url->'): 1,\n",
       "         ('<-url->', 'poll'): 1,\n",
       "         ('51', 'of-americans-believe-a-border-wall-is-a-good-idea-n'): 1,\n",
       "         ('of-americans-believe-a-border-wall-is-a-good-idea-n', '2494000'): 1,\n",
       "         ('2494000', '…'): 1,\n",
       "         ('…', '#maga'): 5,\n",
       "         ('#maga', '@realdonaldtrump'): 43,\n",
       "         ('@realdonaldtrump', '#trumptrain'): 1,\n",
       "         ('#trumptrain', '#americafirst'): 1,\n",
       "         ('#americafirst', '#dobbs'): 1,\n",
       "         ('#dobbs', 'do'): 1,\n",
       "         ('do', 'you'): 41,\n",
       "         ('you', 'agree'): 2,\n",
       "         ('agree', 'with'): 7,\n",
       "         ('with', '@realdonaldtrump'): 13,\n",
       "         ('@realdonaldtrump', 'that'): 11,\n",
       "         ('that', 'the'): 29,\n",
       "         ('the', 'democrats'): 35,\n",
       "         ('democrats', 'want'): 8,\n",
       "         ('want', 'illegal'): 3,\n",
       "         ('immigrants', 'in'): 2,\n",
       "         ('in', 'the'): 266,\n",
       "         ('the', '<-url->'): 31,\n",
       "         ('<-url->', 'no'): 8,\n",
       "         ('no', 'matter'): 9,\n",
       "         ('matter', 'how'): 6,\n",
       "         ('how', 'bad'): 1,\n",
       "         ('bad', 'they'): 1,\n",
       "         ('they', 'may'): 3,\n",
       "         ('may', 'be'): 6,\n",
       "         ('be', '#maga'): 1,\n",
       "         ('#maga', '#theresistance'): 1,\n",
       "         ('#theresistance', '#trump'): 1,\n",
       "         ('#trump', '#bordercrisis'): 1,\n",
       "         ('#bordercrisis', 'please'): 1,\n",
       "         ('please', 'vote'): 2,\n",
       "         ('vote', 'rt'): 1,\n",
       "         ('rt', '😊'): 1,\n",
       "         ('😊', 'i'): 1,\n",
       "         ('i', '’'): 35,\n",
       "         ('’', 'm'): 28,\n",
       "         ('m', 'standing'): 1,\n",
       "         ('standing', 'in'): 1,\n",
       "         ('in', 'solidarity'): 1,\n",
       "         ('solidarity', 'with'): 1,\n",
       "         ('with', 'separated'): 1,\n",
       "         ('separated', 'immigrant'): 1,\n",
       "         ('immigrant', 'families'): 9,\n",
       "         ('families', 'and'): 16,\n",
       "         ('and', 'fighting'): 2,\n",
       "         ('fighting', 'to'): 4,\n",
       "         ('to', 'ensure'): 2,\n",
       "         ('ensure', 'that'): 1,\n",
       "         ('that', 'all'): 9,\n",
       "         ('all', 'of'): 39,\n",
       "         ('the', 'children'): 57,\n",
       "         ('separated', 'by'): 3,\n",
       "         ('by', '@realdonaldtrump'): 18,\n",
       "         ('@realdonaldtrump', '’'): 13,\n",
       "         ('policy', 'are'): 1,\n",
       "         ('are', 'reunited'): 3,\n",
       "         ('reunited', 'by'): 2,\n",
       "         ('by', 'today'): 2,\n",
       "         ('s', 'deadline'): 2,\n",
       "         ('deadline', '#familiesbelongtogether'): 3,\n",
       "         ('#familiesbelongtogether', '@realdonaldtrump'): 55,\n",
       "         ('@realdonaldtrump', 'created'): 7,\n",
       "         ('created', 'a'): 6,\n",
       "         ('a', 'crisis'): 7,\n",
       "         ('crisis', 'by'): 2,\n",
       "         ('by', 'separating'): 2,\n",
       "         ('separating', 'families'): 17,\n",
       "         ('families', 'at'): 10,\n",
       "         ('the', 'us-mexico'): 2,\n",
       "         ('us-mexico', 'border'): 2,\n",
       "         ('border', \"it's\"): 2,\n",
       "         (\"it's\", 'his'): 2,\n",
       "         ('his', 'and'): 1,\n",
       "         ('and', 'his'): 31,\n",
       "         ('his', 'administrations'): 1,\n",
       "         ('administrations', '’'): 1,\n",
       "         ('’', 'responsibility'): 1,\n",
       "         ('responsibility', 'to'): 5,\n",
       "         ('to', 'reunite'): 16,\n",
       "         ('reunite', 'families'): 5,\n",
       "         ('families', 'today'): 5,\n",
       "         ('#familiesbelongtogether', 'tomorrow'): 1,\n",
       "         ('tomorrow', 'hundreds'): 1,\n",
       "         ('hundreds', 'of'): 10,\n",
       "         ('of', 'events'): 1,\n",
       "         ('events', 'are'): 1,\n",
       "         ('are', 'happening'): 1,\n",
       "         ('happening', 'all'): 2,\n",
       "         ('all', 'across'): 2,\n",
       "         ('across', 'the'): 23,\n",
       "         ('the', 'country'): 45,\n",
       "         ('country', 'where'): 3,\n",
       "         ('where', 'we'): 3,\n",
       "         ('we', 'will'): 43,\n",
       "         ('will', 'stand'): 4,\n",
       "         ('stand', 'up'): 13,\n",
       "         ('up', 'against'): 1,\n",
       "         ('against', '@realdonaldtrump'): 7,\n",
       "         ('@realdonaldtrump', 's'): 25,\n",
       "         ('s', 'evil'): 1,\n",
       "         ('evil', 'and'): 7,\n",
       "         ('and', 'horrific'): 1,\n",
       "         ('horrific', 'immigration'): 1,\n",
       "         ('immigration', 'policies'): 5,\n",
       "         ('policies', 'sign'): 1,\n",
       "         ('sign', 'up'): 1,\n",
       "         ('up', 'here'): 1,\n",
       "         ('here', 'because'): 2,\n",
       "         ('because', '#familiesbelongtogether'): 4,\n",
       "         ('<-url->', 'belong-together_attend'): 1,\n",
       "         ('belong-together_attend', '1'): 1,\n",
       "         ('1', 'search'): 1,\n",
       "         ('search', '…'): 1,\n",
       "         ('…', 'obama'): 1,\n",
       "         ('obama', 'encouraged'): 1,\n",
       "         ('encouraged', 'illegals'): 1,\n",
       "         ('illegals', 'to'): 59,\n",
       "         ('to', 'vote'): 48,\n",
       "         ('vote', 'and'): 6,\n",
       "         ('and', 'did'): 2,\n",
       "         ('did', 'nothing'): 3,\n",
       "         ('nothing', 'about'): 6,\n",
       "         ('about', 'russian'): 1,\n",
       "         ('russian', 'election'): 1,\n",
       "         ('election', 'meddling'): 6,\n",
       "         ('meddling', 'it'): 1,\n",
       "         ('it', 'was'): 24,\n",
       "         ('was', 'ok'): 3,\n",
       "         ('ok', 'if'): 1,\n",
       "         ('if', 'it'): 13,\n",
       "         ('it', 'went'): 1,\n",
       "         ('went', 'his'): 1,\n",
       "         ('his', 'way'): 3,\n",
       "         ('way', 'he'): 5,\n",
       "         ('he', 'never'): 2,\n",
       "         ('never', 'thought'): 2,\n",
       "         ('thought', 'she'): 1,\n",
       "         ('she', 'would'): 2,\n",
       "         ('would', 'lose'): 1,\n",
       "         ('lose', '#walkaway'): 1,\n",
       "         ('#walkaway', '#draintheswamp'): 1,\n",
       "         ('#draintheswamp', '@realdonaldtrump'): 6,\n",
       "         ('@realdonaldtrump', 'video'): 1,\n",
       "         ('video', 'obama'): 1,\n",
       "         ('obama', '‘'): 1,\n",
       "         ('‘', 'encourages'): 1,\n",
       "         ('encourages', 'illegals'): 1,\n",
       "         ('vote', '’'): 1,\n",
       "         ('’', '<-url->'): 1,\n",
       "         ('<-url->', 'the'): 21,\n",
       "         ('the', 'scars'): 1,\n",
       "         ('scars', 'of'): 1,\n",
       "         ('separation', 'continue'): 1,\n",
       "         ('continue', 'to'): 22,\n",
       "         ('to', 'intensify'): 1,\n",
       "         ('intensify', 'as'): 1,\n",
       "         ('as', 'families'): 1,\n",
       "         ('families', 'remain'): 1,\n",
       "         ('remain', 'separated'): 2,\n",
       "         ('separated', 'because'): 2,\n",
       "         ('because', 'of'): 13,\n",
       "         ('of', '@realdonaldtrump'): 25,\n",
       "         ('policy', 'families'): 1,\n",
       "         ('families', 'must'): 2,\n",
       "         ('deadline', 'the'): 1,\n",
       "         ('the', 'clock'): 1,\n",
       "         ('clock', 'is'): 1,\n",
       "         ('is', 'ticking'): 1,\n",
       "         ('ticking', '#familiesbelongtogether'): 1,\n",
       "         ('s', 'immigration'): 2,\n",
       "         ('immigration', 'policy'): 8,\n",
       "         ('policy', 'of'): 18,\n",
       "         ('of', 'ripping'): 1,\n",
       "         ('ripping', 'children'): 4,\n",
       "         ('children', 'away'): 5,\n",
       "         ('away', 'from'): 21,\n",
       "         ('their', 'parents'): 211,\n",
       "         ('parents', 'is'): 9,\n",
       "         ('is', 'horrific'): 1,\n",
       "         ('horrific', 'we'): 1,\n",
       "         ('we', 'must'): 41,\n",
       "         ('must', 'stand'): 3,\n",
       "         ('up', 'we'): 1,\n",
       "         ('must', 'fight'): 1,\n",
       "         ('fight', 'back'): 1,\n",
       "         ('back', 'here'): 1,\n",
       "         ('here', '’'): 3,\n",
       "         ('s', 'a'): 15,\n",
       "         ('a', 'way'): 15,\n",
       "         ('way', 'that'): 3,\n",
       "         ('that', 'you'): 19,\n",
       "         ('can', 'help'): 2,\n",
       "         ('help', 'right'): 1,\n",
       "         ('now', 'call'): 1,\n",
       "         ('call', 'jeff'): 1,\n",
       "         ('jeff', 'sessions'): 5,\n",
       "         ('sessions', 'at'): 1,\n",
       "         ('at', '202-353-1555'): 1,\n",
       "         ('202-353-1555', 'and'): 1,\n",
       "         ('and', 'tell'): 4,\n",
       "         ('tell', 'him'): 6,\n",
       "         ('him', 'to'): 9,\n",
       "         ('to', '#keepfamiliestogether'): 25,\n",
       "         ('#buildthewall', 'congress'): 2,\n",
       "         ('congress', 'fix'): 1,\n",
       "         ('fix', 'our'): 3,\n",
       "         ('our', 'insane'): 1,\n",
       "         ('insane', 'immigration'): 1,\n",
       "         ('immigration', 'laws'): 19,\n",
       "         ('laws', 'now'): 3,\n",
       "         ('now', '@realdonaldtrump'): 22,\n",
       "         ('@realdonaldtrump', '<-url->'): 138,\n",
       "         ('<-url->', 'build'): 7,\n",
       "         ('wall', '@realdonaldtrump'): 102,\n",
       "         ('@realdonaldtrump', 'the'): 55,\n",
       "         ('the', 'trump'): 8,\n",
       "         ('trump', 'administration'): 1,\n",
       "         ('administration', 'in'): 2,\n",
       "         ('<-url->', 'have'): 7,\n",
       "         ('have', 'just'): 1,\n",
       "         ('just', 'a'): 15,\n",
       "         ('a', 'few'): 13,\n",
       "         ('few', 'short'): 1,\n",
       "         ('short', 'days'): 1,\n",
       "         ('days', 'to'): 3,\n",
       "         ('reunite', 'thousands'): 1,\n",
       "         ('thousands', 'of'): 20,\n",
       "         ('of', 'children'): 24,\n",
       "         ('children', 'with'): 13,\n",
       "         ('with', 'their'): 49,\n",
       "         ('families', '—'): 1,\n",
       "         ('—', 'children'): 1,\n",
       "         ('children', 'they'): 4,\n",
       "         ('they', 'took'): 3,\n",
       "         ('took', 'from'): 2,\n",
       "         ('parents', 'take'): 1,\n",
       "         ('take', 'action'): 7,\n",
       "         ('action', 'to'): 7,\n",
       "         ('to', 'remind'): 2,\n",
       "         ('remind', '@realdonaldtrump'): 1,\n",
       "         ('that', '#familiesbelongtogether'): 6,\n",
       "         ('<-url->', 'involved'): 116,\n",
       "         ('involved', 'take-action'): 116,\n",
       "         ('take-action', 'tell-the-usa-families-belong-together'): 116,\n",
       "         ('tell-the-usa-families-belong-together', '…'): 116,\n",
       "         ('…', '#trusttheplan'): 1,\n",
       "         ('#trusttheplan', '#keepingfamiliestogether'): 1,\n",
       "         ('#keepingfamiliestogether', 'via'): 1,\n",
       "         ('via', '#peaceonearth'): 1,\n",
       "         ('#peaceonearth', 'wherearethechildren'): 1,\n",
       "         ('wherearethechildren', '#theplan'): 1,\n",
       "         ('#theplan', 'is'): 1,\n",
       "         ('is', 'to'): 31,\n",
       "         ('to', 'save'): 4,\n",
       "         ('save', 'the'): 3,\n",
       "         ('the', 'world'): 39,\n",
       "         ('world', 'if'): 1,\n",
       "         ('if', 'u'): 4,\n",
       "         ('u', \"don't\"): 4,\n",
       "         (\"don't\", 'see'): 3,\n",
       "         ('see', 'u'): 1,\n",
       "         ('u', \"won't\"): 1,\n",
       "         (\"won't\", 'know'): 1,\n",
       "         ('know', \"what's\"): 1,\n",
       "         (\"what's\", 'happening'): 3,\n",
       "         ('happening', '🇺'): 1,\n",
       "         ('🇺', '🇸'): 70,\n",
       "         ('🇸', 'dear'): 1,\n",
       "         ('dear', 'libs'): 1,\n",
       "         ('libs', 'listen'): 1,\n",
       "         ('listen', 'closely'): 1,\n",
       "         ('closely', '👏'): 1,\n",
       "         ('👏', 'democrats'): 1,\n",
       "         ('democrats', 'are'): 17,\n",
       "         ('are', 'fine'): 2,\n",
       "         ('fine', 'with'): 3,\n",
       "         ('with', 'obama'): 2,\n",
       "         ('obama', 'interfering'): 1,\n",
       "         ('interfering', 'with'): 3,\n",
       "         ('with', 'our'): 13,\n",
       "         ('our', 'allies'): 1,\n",
       "         ('allies', 'elections'): 1,\n",
       "         ('elections', 'and'): 2,\n",
       "         ('and', 'illegals'): 18,\n",
       "         ('illegals', 'interfering'): 1,\n",
       "         ('our', 'elections'): 12,\n",
       "         ('elections', 'vladimir'): 1,\n",
       "         ('vladimir', \"didn't\"): 1,\n",
       "         (\"didn't\", \"didn't\"): 1,\n",
       "         (\"didn't\", 'force'): 1,\n",
       "         ('force', 'anyone'): 1,\n",
       "         ('anyone', 'else'): 4,\n",
       "         ('else', 'to'): 4,\n",
       "         ('vote', 'with'): 1,\n",
       "         ('with', 'fake'): 1,\n",
       "         ('fake', 'russian'): 1,\n",
       "         ('russian', 'accounts'): 1,\n",
       "         ('accounts', 'we'): 1,\n",
       "         ('we', 'chose'): 1,\n",
       "         ('chose', '@realdonaldtrump'): 1,\n",
       "         ('@realdonaldtrump', 'because'): 3,\n",
       "         ('because', \"we're\"): 1,\n",
       "         (\"we're\", 'sick'): 1,\n",
       "         ('sick', 'of'): 13,\n",
       "         ('of', 'dc'): 1,\n",
       "         ('dc', 'hacks'): 1,\n",
       "         ('hacks', '<-url->'): 1,\n",
       "         ('the', 'most'): 14,\n",
       "         ('most', 'important'): 5,\n",
       "         ('important', 'thing'): 4,\n",
       "         ('thing', 'ronald'): 1,\n",
       "         ('ronald', 'reagan'): 1,\n",
       "         ('reagan', 'ever'): 1,\n",
       "         ('ever', 'did'): 1,\n",
       "         ('did', 'was'): 1,\n",
       "         ('was', 'the'): 9,\n",
       "         ('the', '1986'): 1,\n",
       "         ('1986', 'amnesty'): 1,\n",
       "         ('amnesty', 'he'): 1,\n",
       "         ('he', 'essentially'): 1,\n",
       "         ('essentially', 'destroyed'): 1,\n",
       "         ('destroyed', 'his'): 1,\n",
       "         ('his', 'own'): 5,\n",
       "         ('own', 'state'): 1,\n",
       "         ('state', \"don't\"): 1,\n",
       "         (\"don't\", 'make'): 3,\n",
       "         ('make', 'his'): 2,\n",
       "         ('his', 'mistake'): 1,\n",
       "         ('mistake', '@realdonaldtrump'): 3,\n",
       "         ('@realdonaldtrump', 'keep'): 7,\n",
       "         ('keep', 'your'): 14,\n",
       "         ('your', 'promise'): 6,\n",
       "         ('promise', 'build'): 2,\n",
       "         ('wall', 'busted'): 1,\n",
       "         ('busted', '..'): 1,\n",
       "         ('..', '<-url->'): 91,\n",
       "         ('<-url->', '#fakenews'): 1,\n",
       "         ('#fakenews', 'circulated'): 1,\n",
       "         ('circulated', '2'): 1,\n",
       "         ('2', 'pics'): 1,\n",
       "         ('pics', 'as'): 1,\n",
       "         ('as', 'proof'): 1,\n",
       "         ('proof', '@realdonaldtrump'): 1,\n",
       "         ('@realdonaldtrump', 'is'): 115,\n",
       "         ('is', 'caging'): 1,\n",
       "         ('caging', 'kids'): 1,\n",
       "         ('kids', 'both'): 1,\n",
       "         ('both', 'are'): 3,\n",
       "         ('are', 'fake'): 1,\n",
       "         ('fake', 'l'): 1,\n",
       "         ('l', 'obama'): 1,\n",
       "         ('obama', '2014'): 1,\n",
       "         ('2014', 'r'): 1,\n",
       "         ('r', 'anti'): 1,\n",
       "         ('anti', '#trump'): 2,\n",
       "         ('#trump', 'protest'): 1,\n",
       "         ('protest', 'the'): 1,\n",
       "         ('the', 'thing'): 1,\n",
       "         ('thing', 'is'): 3,\n",
       "         ('is', 'they'): 3,\n",
       "         ('they', 'knew'): 1,\n",
       "         ('knew', 'they'): 1,\n",
       "         ('they', 'were'): 12,\n",
       "         ('were', 'fake'): 1,\n",
       "         ('fake', 'yet'): 1,\n",
       "         ('yet', 'spread'): 1,\n",
       "         ('spread', 'them'): 1,\n",
       "         ('them', 'anyways'): 1,\n",
       "         ('anyways', '🚔'): 1,\n",
       "         ('🚔', 'we'): 1,\n",
       "         ('we', 'hope'): 2,\n",
       "         ('hope', 'this'): 3,\n",
       "         ('this', 'particular'): 2,\n",
       "         ('particular', 'lullaby'): 2,\n",
       "         ('lullaby', 'will'): 2,\n",
       "         ('keep', 'you'): 2,\n",
       "         ('you', 'awake'): 2,\n",
       "         ('awake', 'every'): 2,\n",
       "         ('every', 'night'): 2,\n",
       "         ('night', '@realdonaldtrump'): 3,\n",
       "         ('@realdonaldtrump', 'until'): 2,\n",
       "         ('until', 'you'): 7,\n",
       "         ('you', '#endfamilydetention'): 2,\n",
       "         ('#endfamilydetention', 'because'): 2,\n",
       "         ('<-url->', 'carlos'): 1,\n",
       "         ('carlos', 'and'): 1,\n",
       "         ('his', 'mom'): 1,\n",
       "         ('mom', 'were'): 1,\n",
       "         ('were', 'detained'): 1,\n",
       "         ('detained', 'at'): 1,\n",
       "         ('<-url->', 'mexico'): 1,\n",
       "         ('mexico', 'border'): 1,\n",
       "         ('border', 'thanks'): 1,\n",
       "         ('thanks', 'to'): 11,\n",
       "         ('to', 'the'): 131,\n",
       "         ('the', 'help'): 2,\n",
       "         ('help', 'of'): 1,\n",
       "         ('of', 'our'): 47,\n",
       "         ('our', 'supporters'): 1,\n",
       "         ('supporters', 'they'): 1,\n",
       "         ('were', 'released'): 1,\n",
       "         ('released', 'but'): 1,\n",
       "         ('but', 'now'): 5,\n",
       "         ('now', 'he'): 4,\n",
       "         ('he', 'wants'): 13,\n",
       "         ('wants', 'his'): 3,\n",
       "         ('his', 'friends'): 2,\n",
       "         ('friends', 'to'): 1,\n",
       "         ('to', 'be'): 137,\n",
       "         ('be', 'free'): 3,\n",
       "         ('free', 'too'): 1,\n",
       "         ('too', 'because'): 2,\n",
       "         ('#familiesbelongtogether', 'send'): 1,\n",
       "         ('send', 'a'): 4,\n",
       "         ('a', 'message'): 3,\n",
       "         ('message', 'to'): 3,\n",
       "         ('to', '@realdonaldtrump'): 29,\n",
       "         ('@realdonaldtrump', 'now'): 5,\n",
       "         ('now', '→'): 1,\n",
       "         ('→', '<-url->'): 2,\n",
       "         ('<-url->', '<-url->'): 39,\n",
       "         ('<-url->', 'democrats'): 2,\n",
       "         ('democrats', \"don't\"): 2,\n",
       "         (\"don't\", 'mind'): 1,\n",
       "         ('mind', 'letting'): 1,\n",
       "         ('letting', 'thousands'): 1,\n",
       "         ('of', 'people'): 12,\n",
       "         ('people', 'flow'): 2,\n",
       "         ('flow', 'into'): 1,\n",
       "         ('into', 'our'): 21,\n",
       "         ('our', 'country'): 118,\n",
       "         ('country', 'while'): 1,\n",
       "         ('while', 'we'): 5,\n",
       "         ('have', 'no'): 32,\n",
       "         ('no', 'idea'): 4,\n",
       "         ('idea', 'who'): 1,\n",
       "         ('who', 'they'): 3,\n",
       "         ('they', 'are'): 99,\n",
       "         ('are', 'or'): 2,\n",
       "         ('or', 'their'): 3,\n",
       "         ('their', 'real'): 2,\n",
       "         ('real', 'intentions'): 1,\n",
       "         ('intentions', '#fakenews'): 1,\n",
       "         ('#fakenews', 'wants'): 1,\n",
       "         ('wants', 'us'): 1,\n",
       "         ('us', 'to'): 15,\n",
       "         ('to', 'continue'): 7,\n",
       "         ('continue', 'taking'): 1,\n",
       "         ('taking', 'that'): 1,\n",
       "         ('that', 'risk'): 1,\n",
       "         ('risk', 'why'): 1,\n",
       "         ('why', 'when'): 1,\n",
       "         ('when', 'does'): 2,\n",
       "         ('does', 'it'): 2,\n",
       "         ('it', 'stop'): 2,\n",
       "         ('stop', 'when'): 1,\n",
       "         ('when', 'we'): 14,\n",
       "         ('we', 'stand'): 3,\n",
       "         ('up', 'and'): 16,\n",
       "         ('and', 'reject'): 1,\n",
       "         ('reject', 'propaganda'): 1,\n",
       "         ('propaganda', '#bordersecurity'): 1,\n",
       "         ('#bordersecurity', '@realdonaldtrump'): 4,\n",
       "         ('…', 'privatize'): 1,\n",
       "         ('privatize', 'the'): 1,\n",
       "         ('@realdonaldtrump', 'set'): 2,\n",
       "         ('set', 'up'): 7,\n",
       "         ('up', 'a'): 6,\n",
       "         ('a', 'gofundme'): 4,\n",
       "         ('gofundme', 'account'): 1,\n",
       "         ('account', 'i'): 1,\n",
       "         ('i', 'will'): 23,\n",
       "         ('will', 'donate'): 5,\n",
       "         ('donate', '<-url->'): 2,\n",
       "         ('<-url->', 'you'): 13,\n",
       "         ('you', \"don't\"): 23,\n",
       "         (\"don't\", 'need'): 8,\n",
       "         ('need', 'the'): 12,\n",
       "         ('the', 'left'): 45,\n",
       "         ('left', 'to'): 2,\n",
       "         ('to', 'get'): 69,\n",
       "         ('get', 'this'): 9,\n",
       "         ('this', 'done'): 3,\n",
       "         ('done', '#maga'): 2,\n",
       "         ('#maga', 'patriots'): 1,\n",
       "         ('patriots', 'will'): 3,\n",
       "         ('will', 'do'): 6,\n",
       "         ('do', 'it'): 40,\n",
       "         ('it', 'for'): 2,\n",
       "         ('for', 'all'): 29,\n",
       "         ('of', 'us'): 23,\n",
       "         ('us', 'just'): 1,\n",
       "         ('just', 'give'): 3,\n",
       "         ('give', 'us'): 4,\n",
       "         ('us', 'a'): 2,\n",
       "         ('a', 'conduit'): 1,\n",
       "         ('conduit', 'to'): 1,\n",
       "         ('to', 'help'): 29,\n",
       "         ('help', '#buildthewall'): 1,\n",
       "         ('#buildthewall', '#walkaway'): 3,\n",
       "         ('#walkaway', '#buildthewallnow'): 1,\n",
       "         ('#buildthewallnow', 'we'): 1,\n",
       "         ('<-url->', 'hope'): 1,\n",
       "         ('hope', 'you'): 11,\n",
       "         ('’', 've'): 19,\n",
       "         ('ve', 'arrived'): 1,\n",
       "         ('arrived', 'safely'): 1,\n",
       "         ('safely', 'back'): 1,\n",
       "         ('back', 'in'): 4,\n",
       "         ('the', '#usa'): 113,\n",
       "         ('#usa', 'from'): 1,\n",
       "         ('from', 'your'): 9,\n",
       "         ('your', 'recent'): 1,\n",
       "         ('recent', 'travels'): 1,\n",
       "         ('travels', '@realdonaldtrump'): 1,\n",
       "         ('@realdonaldtrump', 'just'): 24,\n",
       "         ('a', 'friendly'): 1,\n",
       "         ('friendly', 'reminder'): 1,\n",
       "         ('reminder', 'that'): 3,\n",
       "         ('re', 'still'): 1,\n",
       "         ('still', 'detaining'): 1,\n",
       "         ('detaining', 'thousands'): 1,\n",
       "         ('children', 'who'): 9,\n",
       "         ('who', 'need'): 1,\n",
       "         ('need', 'to'): 104,\n",
       "         ('reunited', 'with'): 6,\n",
       "         ('parents', '#familiesbelongtogether'): 6,\n",
       "         ('#familiesbelongtogether', '#endfamilydetention'): 4,\n",
       "         ('#endfamilydetention', '→'): 1,\n",
       "         ('<-url->', 'like'): 2,\n",
       "         ('like', 'i'): 3,\n",
       "         ('i', 'said'): 2,\n",
       "         ('said', 'on'): 2,\n",
       "         ('the', 'surface'): 1,\n",
       "         ('surface', 'it'): 1,\n",
       "         ('it', 'appears'): 2,\n",
       "         ('appears', '#keepfamiliestogether'): 1,\n",
       "         ('#keepfamiliestogether', 'was'): 2,\n",
       "         ('was', 'a'): 11,\n",
       "         ('a', 'hit'): 1,\n",
       "         ('hit', 'job'): 1,\n",
       "         ('job', 'on'): 1,\n",
       "         ('on', '@realdonaldtrump'): 7,\n",
       "         ('@realdonaldtrump', 'but'): 4,\n",
       "         ('but', \"it's\"): 2,\n",
       "         (\"it's\", 'obama'): 1,\n",
       "         ('obama', \"who's\"): 1,\n",
       "         (\"who's\", 'really'): 1,\n",
       "         ('really', 'being'): 1,\n",
       "         ('being', 'exposed'): 1,\n",
       "         ('exposed', 'for'): 1,\n",
       "         ('for', 'his'): 10,\n",
       "         ('his', 'treatment'): 1,\n",
       "         ('treatment', 'of'): 5,\n",
       "         ('kids', 'in'): 8,\n",
       "         ('in', 'detention'): 4,\n",
       "         ('detention', '👉'): 1,\n",
       "         ('👉', 'trump'): 1,\n",
       "         ('trump', 'blamed'): 1,\n",
       "         ('blamed', 'dems'): 1,\n",
       "         ('dems', 'for'): 3,\n",
       "         ('for', 'kids'): 1,\n",
       "         ('kids', 'being'): 3,\n",
       "         ('being', 'caged'): 1,\n",
       "         ('caged', 'saying'): 1,\n",
       "         ('saying', \"we're\"): 1,\n",
       "         (\"we're\", 'the'): 1,\n",
       "         ('the', 'ones'): 4,\n",
       "         ('ones', 'who'): 2,\n",
       "         ('who', 'keep'): 1,\n",
       "         ('keep', 'it'): 7,\n",
       "         ('it', 'going'): 2,\n",
       "         ('going', 'that'): 1,\n",
       "         ('that', 'only'): 6,\n",
       "         ('only', 'we'): 2,\n",
       "         ('we', 'could'): 7,\n",
       "         ('could', 'stop'): 7,\n",
       "         ('stop', 'it'): 15,\n",
       "         ('it', 'then'): 2,\n",
       "         ('then', 'he'): 3,\n",
       "         ('he', 'announced'): 2,\n",
       "         ('announced', \"he's\"): 1,\n",
       "         (\"he's\", 'reversing'): 1,\n",
       "         ('reversing', 'it'): 1,\n",
       "         ('it', 'i'): 7,\n",
       "         ('i', 'thought'): 10,\n",
       "         ('thought', 'you'): 9,\n",
       "         ('you', \"couldn't\"): 3,\n",
       "         (\"couldn't\", 'do'): 1,\n",
       "         ('do', 'anything'): 6,\n",
       "         ('anything', '@realdonaldtrump'): 1,\n",
       "         ('now', 'his'): 1,\n",
       "         ('his', 'base'): 7,\n",
       "         ('base', 'will'): 2,\n",
       "         ('will', 'eat'): 1,\n",
       "         ('eat', 'it'): 1,\n",
       "         ('it', 'up'): 10,\n",
       "         ('up', 'as'): 2,\n",
       "         ('as', 'a'): 50,\n",
       "         ('a', 'win'): 3,\n",
       "         ('win', \"i'm\"): 1,\n",
       "         (\"i'm\", 'so'): 2,\n",
       "         ('so', 'over'): 2,\n",
       "         ('over', 'this'): 4,\n",
       "         ('this', 'bs'): 2,\n",
       "         ('bs', '#keepfamiliestogether'): 1,\n",
       "         ('#keepfamiliestogether', 'you'): 5,\n",
       "         ('you', 'know'): 24,\n",
       "         ('know', \"it's\"): 1,\n",
       "         (\"it's\", 'time'): 7,\n",
       "         ('time', 'to'): 34,\n",
       "         ('to', '#walkaway'): 1,\n",
       "         ('#walkaway', 'from'): 3,\n",
       "         ('from', 'the'): 59,\n",
       "         ('democrats', 'when'): 1,\n",
       "         ('when', 'they'): 14,\n",
       "         ('they', 'argue'): 1,\n",
       "         ('argue', 'vote'): 1,\n",
       "         ('vote', 'against'): 1,\n",
       "         ('against', 'attempts'): 1,\n",
       "         ('attempts', 'for'): 1,\n",
       "         ('for', 'american'): 5,\n",
       "         ('american', 'preservation'): 1,\n",
       "         ('preservation', 'from'): 1,\n",
       "         ('from', 'potus'): 1,\n",
       "         ('potus', '@realdonaldtrump'): 5,\n",
       "         ('@realdonaldtrump', '#bordersecurity'): 2,\n",
       "         ('#bordersecurity', '#maga'): 1,\n",
       "         ('#maga', 'we'): 3,\n",
       "         ('stand', 'with'): 5,\n",
       "         ('with', 'president'): 2,\n",
       "         ('president', '@realdonaldtrump'): 42,\n",
       "         ('@realdonaldtrump', '...'): 8,\n",
       "         ('...', '“'): 2,\n",
       "         ('“', 'americans'): 1,\n",
       "         ('americans', 'are'): 5,\n",
       "         ('are', 'dreamers'): 1,\n",
       "         ('dreamers', 'too'): 1,\n",
       "         ('too', '”'): 1,\n",
       "         ('”', '🇺'): 1,\n",
       "         ('🇸', '@realdonaldtrump'): 18,\n",
       "         ('@realdonaldtrump', 'please'): 64,\n",
       "         ('please', \"don't\"): 11,\n",
       "         (\"don't\", 'be'): 10,\n",
       "         ('be', 'misinformed'): 1,\n",
       "         ('misinformed', 'as'): 1,\n",
       "         ('as', 'to'): 4,\n",
       "         ('to', 'how'): 1,\n",
       "         ('how', 'we'): 6,\n",
       "         ('we', 'feel'): 1,\n",
       "         ('feel', 'we'): 2,\n",
       "         ('we', 'care'): 2,\n",
       "         ('care', 'more'): 12,\n",
       "         ('more', 'about'): 13,\n",
       "         ('about', 'american'): 3,\n",
       "         ('american', 'families'): 9,\n",
       "         ('families', 'than'): 1,\n",
       "         ('than', 'illegal'): 1,\n",
       "         ('illegal', 'alien'): 15,\n",
       "         ('alien', 'families'): 1,\n",
       "         ('and', 'we'): 44,\n",
       "         ('we', 'applaud'): 1,\n",
       "         ('applaud', 'you'): 1,\n",
       "         ('you', 'for'): 42,\n",
       "         ('for', 'enforcing'): 2,\n",
       "         ('enforcing', 'the'): 8,\n",
       "         ('the', 'law'): 58,\n",
       "         ('law', 'keep'): 2,\n",
       "         ('up', 'for'): 11,\n",
       "         ('for', 'as'): 2,\n",
       "         ('as', 'long'): 7,\n",
       "         ('long', 'as'): 7,\n",
       "         ('as', 'it'): 8,\n",
       "         ('it', 'takes'): 3,\n",
       "         ('takes', 'because'): 1,\n",
       "         ('because', 'all'): 1,\n",
       "         ('all', 'the'): 67,\n",
       "         ('the', 'dems'): 41,\n",
       "         ('dems', 'are'): 10,\n",
       "         ('are', 'proving'): 1,\n",
       "         ('proving', 'is'): 1,\n",
       "         ('they', 'care'): 4,\n",
       "         ('about', 'illegals'): 23,\n",
       "         ('illegals', 'again'): 1,\n",
       "         ('again', 'they'): 2,\n",
       "         ('they', \"won't\"): 1,\n",
       "         (\"won't\", 'stop'): 1,\n",
       "         ('stop', 'lying'): 8,\n",
       "         ('lying', '#fakenews'): 1,\n",
       "         ('#fakenews', 'viciously'): 1,\n",
       "         ('viciously', 'attacked'): 1,\n",
       "         ('attacked', '@realdonaldtrump'): 1,\n",
       "         ('@realdonaldtrump', 'for'): 27,\n",
       "         ('for', 'signing'): 5,\n",
       "         ('signing', 'pics'): 1,\n",
       "         ('pics', 'of'): 1,\n",
       "         ('children', 'killed'): 2,\n",
       "         ('killed', 'by'): 16,\n",
       "         ('by', 'illegals'): 32,\n",
       "         ('illegals', 'accusing'): 1,\n",
       "         ('accusing', 'him'): 1,\n",
       "         ('him', 'of'): 1,\n",
       "         ('of', 'doing'): 3,\n",
       "         ('doing', 'so'): 2,\n",
       "         ('so', 'only'): 1,\n",
       "         ('only', 'b'): 1,\n",
       "         ('b', 'c'): 3,\n",
       "         ('c', 'of'): 1,\n",
       "         ('of', 'ego'): 1,\n",
       "         ('ego', 'they'): 1,\n",
       "         ('they', 'lied'): 1,\n",
       "         ('lied', '👉'): 1,\n",
       "         ('👉', 'mr'): 1,\n",
       "         ('president', '\\u2066'): 1,\n",
       "         ('\\u2066', '@realdonaldtrump'): 25,\n",
       "         ('@realdonaldtrump', '\\u2069'): 27,\n",
       "         ('\\u2069', 'have'): 1,\n",
       "         ('have', 'you'): 12,\n",
       "         ('you', 'heard'): 1,\n",
       "         ('heard', 'about'): 2,\n",
       "         ('about', 'this'): 9,\n",
       "         ('this', '👇'): 1,\n",
       "         ('👇', '🏼'): 1,\n",
       "         ('🏼', 'dems'): 1,\n",
       "         ('dems', 'whined'): 1,\n",
       "         ('whined', 'about'): 1,\n",
       "         ('about', 'illegal'): 4,\n",
       "         ('illegal', 'immigrant'): 6,\n",
       "         ('families', 'being'): 3,\n",
       "         ('being', 'separated'): 18,\n",
       "         ('separated', 'so'): 1,\n",
       "         ('so', '@realdonaldtrump'): 10,\n",
       "         ('@realdonaldtrump', 'signs'): 3,\n",
       "         ('signs', 'eo'): 1,\n",
       "         ('eo', 'to'): 8,\n",
       "         ('reunite', 'the'): 4,\n",
       "         ('the', 'families'): 10,\n",
       "         ('families', 'dems'): 1,\n",
       "         ('dems', 'now'): 1,\n",
       "         ('now', 'don'): 1,\n",
       "         ('t', 'want'): 15,\n",
       "         ('want', 'illegals'): 10,\n",
       "         ('illegals', 'detained'): 1,\n",
       "         ('detained', 'that'): 1,\n",
       "         ('that', 'translates'): 1,\n",
       "         ('translates', 'to'): 1,\n",
       "         ('to', 'what'): 4,\n",
       "         ('what', 'they'): 10,\n",
       "         ('they', 'really'): 2,\n",
       "         ('really', 'want'): 3,\n",
       "         ('want', 'dems'): 1,\n",
       "         ('dems', 'want'): 10,\n",
       "         ('want', 'open'): 10,\n",
       "         ('open', 'borders'): 40,\n",
       "         ('borders', 'george'): 1,\n",
       "         ('george', 'soros'): 3,\n",
       "         ('soros', 'promotes'): 1,\n",
       "         ('promotes', 'open'): 1,\n",
       "         ('borders', 'get'): 1,\n",
       "         ('get', 'the'): 31,\n",
       "         ('the', 'picture'): 2,\n",
       "         ('picture', 'that'): 1,\n",
       "         ('that', 'insane'): 1,\n",
       "         ('insane', 'law'): 1,\n",
       "         ('law', 'you'): 2,\n",
       "         ('you', 'refer'): 1,\n",
       "         ('refer', 'to'): 1,\n",
       "         ('to', 'is'): 1,\n",
       "         ('is', 'the'): 82,\n",
       "         ('the', '14th'): 5,\n",
       "         ('14th', 'amendment'): 5,\n",
       "         ('amendment', 'of'): 1,\n",
       "         ('the', 'us'): 56,\n",
       "         ('us', 'constitution'): 1,\n",
       "         ('constitution', 'guaranteeing'): 1,\n",
       "         ('guaranteeing', 'due'): 1,\n",
       "         ('due', 'process'): 8,\n",
       "         ('process', 'to'): 1,\n",
       "         ('to', 'any'): 7,\n",
       "         ('any', 'person'): 2,\n",
       "         ('person', 'why'): 1,\n",
       "         ('why', 'do'): 11,\n",
       "         ('you', 'hate'): 3,\n",
       "         ('hate', 'the'): 5,\n",
       "         ('the', 'constitution'): 9,\n",
       "         ('constitution', 'mr'): 1,\n",
       "         ('mr', '#trump'): 1,\n",
       "         ('#trump', '#immigration'): 1,\n",
       "         ...})"
      ]
     },
     "execution_count": 32,
     "metadata": {},
     "output_type": "execute_result"
    }
   ],
   "source": [
    "dict_samples['1']['obj'].top_grams"
   ]
  },
  {
   "cell_type": "code",
   "execution_count": 33,
   "metadata": {},
   "outputs": [
    {
     "data": {
      "text/plain": [
       "2116"
      ]
     },
     "execution_count": 33,
     "metadata": {},
     "output_type": "execute_result"
    }
   ],
   "source": [
    "dict_samples['1']['obj'].unique_obs_cnt"
   ]
  },
  {
   "cell_type": "markdown",
   "metadata": {},
   "source": [
    "### Maintain the same ordering of users and tweets"
   ]
  },
  {
   "cell_type": "markdown",
   "metadata": {},
   "source": [
    "#### Create one entry per user"
   ]
  },
  {
   "cell_type": "code",
   "execution_count": 34,
   "metadata": {
    "scrolled": true
   },
   "outputs": [
    {
     "name": "stdout",
     "output_type": "stream",
     "text": [
      "1 2116 2116 2116\n",
      "2 1964 1964 1964\n",
      "3 605 605 605\n",
      "4 18 18 18\n",
      "5 9 9 9\n",
      "6 302 302 302\n",
      "7 130 130 130\n",
      "8 398 398 398\n",
      "9 37 37 37\n",
      "10 38 38 38\n"
     ]
    }
   ],
   "source": [
    "# See the unique counts to gather a sense about which module's are worth analyzing\n",
    "dict_samples = nttc.unique_observ_mapper('single', dict_samples, 'username', 'tweet')"
   ]
  },
  {
   "cell_type": "markdown",
   "metadata": {},
   "source": [
    "#### Vectorizer"
   ]
  },
  {
   "cell_type": "code",
   "execution_count": 35,
   "metadata": {},
   "outputs": [
    {
     "name": "stdout",
     "output_type": "stream",
     "text": [
      "Module 4 ValueError  max_features=0, neither a positive integer nor None Assign as None\n",
      "Module 5 ValueError  max_features=0, neither a positive integer nor None Assign as None\n",
      "Module 9 ValueError  max_features=0, neither a positive integer nor None Assign as None\n",
      "Module 10 ValueError  max_features=0, neither a positive integer nor None Assign as None\n"
     ]
    }
   ],
   "source": [
    "# Making vectors will automatically only take possible samples; anything else will error out\n",
    "dict_samples = tm_vectorizer('single', dict_samples, stop_words)"
   ]
  },
  {
   "cell_type": "markdown",
   "metadata": {},
   "source": [
    "### Calculate the data matrix"
   ]
  },
  {
   "cell_type": "code",
   "execution_count": 38,
   "metadata": {},
   "outputs": [],
   "source": [
    "# From here, NTTC will filter out any cluster objects without vectors\n",
    "dict_samples = nttc.calc_matrix('single', dict_samples)"
   ]
  },
  {
   "cell_type": "code",
   "execution_count": 39,
   "metadata": {},
   "outputs": [
    {
     "data": {
      "text/plain": [
       "<2116x21 sparse matrix of type '<class 'numpy.float64'>'\n",
       "\twith 8633 stored elements in Compressed Sparse Row format>"
      ]
     },
     "execution_count": 39,
     "metadata": {},
     "output_type": "execute_result"
    }
   ],
   "source": [
    "dict_samples['1']['obj'].matrix"
   ]
  },
  {
   "cell_type": "code",
   "execution_count": 66,
   "metadata": {
    "scrolled": true
   },
   "outputs": [
    {
     "name": "stdout",
     "output_type": "stream",
     "text": [
      "* original tweet text *\n",
      "\n",
      "0 :  Another example tweet #howcool\n",
      "1 :  If this is a tweet, then I'm @potus.\n",
      "2 :  It's a tweet, @username1. #hashtag  pic.twitter.com/example\n"
     ]
    }
   ],
   "source": [
    "# Print out sampled tweets, if desired, with the .u_texts property\n",
    "print('* original tweet text *\\n')\n",
    "for i,tweet in enumerate(dict_samples['1']['obj'].u_texts[:3]):\n",
    "    print(i,': ', tweet.replace('\\n',' '))\n",
    "    "
   ]
  },
  {
   "cell_type": "code",
   "execution_count": 42,
   "metadata": {},
   "outputs": [
    {
     "data": {
      "text/html": [
       "<div>\n",
       "<style scoped>\n",
       "    .dataframe tbody tr th:only-of-type {\n",
       "        vertical-align: middle;\n",
       "    }\n",
       "\n",
       "    .dataframe tbody tr th {\n",
       "        vertical-align: top;\n",
       "    }\n",
       "\n",
       "    .dataframe thead th {\n",
       "        text-align: right;\n",
       "    }\n",
       "</style>\n",
       "<table border=\"1\" class=\"dataframe\">\n",
       "  <thead>\n",
       "    <tr style=\"text-align: right;\">\n",
       "      <th></th>\n",
       "      <th>ifd_example1</th>\n",
       "      <th>ifd_example2</th>\n",
       "      <th>ifd_example3</th>\n",
       "      <th>&lt;-url-&gt;</th>\n",
       "      <th>ifd_example4</th>\n",
       "      <th>ifd_example5</th>\n",
       "      <th>ifd_example6</th>\n",
       "      <th>ifd_example7</th>\n",
       "      <th>ifd_example8</th>\n",
       "      <th>ifd_example9</th>\n",
       "    </tr>\n",
       "  </thead>\n",
       "  <tbody>\n",
       "    <tr>\n",
       "      <th>0</th>\n",
       "      <td>0.000000</td>\n",
       "      <td>0.631543</td>\n",
       "      <td>0.000000</td>\n",
       "      <td>0.000000</td>\n",
       "      <td>0.273265</td>\n",
       "      <td>0.725589</td>\n",
       "      <td>0.00000</td>\n",
       "      <td>0.000000</td>\n",
       "      <td>0.000000</td>\n",
       "      <td>0.00000</td>\n",
       "    </tr>\n",
       "    <tr>\n",
       "      <th>1</th>\n",
       "      <td>0.000000</td>\n",
       "      <td>0.000000</td>\n",
       "      <td>0.000000</td>\n",
       "      <td>0.000000</td>\n",
       "      <td>0.154827</td>\n",
       "      <td>0.411104</td>\n",
       "      <td>0.00000</td>\n",
       "      <td>0.000000</td>\n",
       "      <td>0.378889</td>\n",
       "      <td>0.00000</td>\n",
       "    </tr>\n",
       "    <tr>\n",
       "      <th>2</th>\n",
       "      <td>0.000000</td>\n",
       "      <td>0.000000</td>\n",
       "      <td>0.529634</td>\n",
       "      <td>0.319186</td>\n",
       "      <td>0.191532</td>\n",
       "      <td>0.000000</td>\n",
       "      <td>0.00000</td>\n",
       "      <td>0.000000</td>\n",
       "      <td>0.000000</td>\n",
       "      <td>0.00000</td>\n",
       "    </tr>\n",
       "    <tr>\n",
       "      <th>3</th>\n",
       "      <td>0.505685</td>\n",
       "      <td>0.000000</td>\n",
       "      <td>0.000000</td>\n",
       "      <td>0.321354</td>\n",
       "      <td>0.192833</td>\n",
       "      <td>0.512022</td>\n",
       "      <td>0.00000</td>\n",
       "      <td>0.000000</td>\n",
       "      <td>0.000000</td>\n",
       "      <td>0.00000</td>\n",
       "    </tr>\n",
       "    <tr>\n",
       "      <th>4</th>\n",
       "      <td>0.000000</td>\n",
       "      <td>0.000000</td>\n",
       "      <td>0.000000</td>\n",
       "      <td>0.857468</td>\n",
       "      <td>0.514537</td>\n",
       "      <td>0.000000</td>\n",
       "      <td>0.00000</td>\n",
       "      <td>0.000000</td>\n",
       "      <td>0.000000</td>\n",
       "      <td>0.00000</td>\n",
       "    </tr>\n",
       "    <tr>\n",
       "      <th>5</th>\n",
       "      <td>0.000000</td>\n",
       "      <td>0.231404</td>\n",
       "      <td>0.000000</td>\n",
       "      <td>0.000000</td>\n",
       "      <td>0.100127</td>\n",
       "      <td>0.000000</td>\n",
       "      <td>0.00000</td>\n",
       "      <td>0.000000</td>\n",
       "      <td>0.000000</td>\n",
       "      <td>0.54899</td>\n",
       "    </tr>\n",
       "    <tr>\n",
       "      <th>6</th>\n",
       "      <td>0.000000</td>\n",
       "      <td>0.000000</td>\n",
       "      <td>0.256513</td>\n",
       "      <td>0.154589</td>\n",
       "      <td>0.092763</td>\n",
       "      <td>0.000000</td>\n",
       "      <td>0.00000</td>\n",
       "      <td>0.292321</td>\n",
       "      <td>0.227009</td>\n",
       "      <td>0.00000</td>\n",
       "    </tr>\n",
       "    <tr>\n",
       "      <th>7</th>\n",
       "      <td>0.000000</td>\n",
       "      <td>0.000000</td>\n",
       "      <td>0.000000</td>\n",
       "      <td>0.000000</td>\n",
       "      <td>1.000000</td>\n",
       "      <td>0.000000</td>\n",
       "      <td>0.00000</td>\n",
       "      <td>0.000000</td>\n",
       "      <td>0.000000</td>\n",
       "      <td>0.00000</td>\n",
       "    </tr>\n",
       "    <tr>\n",
       "      <th>8</th>\n",
       "      <td>0.611395</td>\n",
       "      <td>0.000000</td>\n",
       "      <td>0.000000</td>\n",
       "      <td>0.388532</td>\n",
       "      <td>0.233144</td>\n",
       "      <td>0.000000</td>\n",
       "      <td>0.00000</td>\n",
       "      <td>0.000000</td>\n",
       "      <td>0.000000</td>\n",
       "      <td>0.00000</td>\n",
       "    </tr>\n",
       "    <tr>\n",
       "      <th>9</th>\n",
       "      <td>0.000000</td>\n",
       "      <td>0.000000</td>\n",
       "      <td>0.000000</td>\n",
       "      <td>0.000000</td>\n",
       "      <td>0.293889</td>\n",
       "      <td>0.000000</td>\n",
       "      <td>0.69681</td>\n",
       "      <td>0.000000</td>\n",
       "      <td>0.000000</td>\n",
       "      <td>0.00000</td>\n",
       "    </tr>\n",
       "  </tbody>\n",
       "</table>\n",
       "</div>"
      ],
      "text/plain": [
       "   ifd_example1  ifd_example2  ifd_example3   <-url->  \\\n",
       "0       0.000000                 0.631543               0.000000  0.000000   \n",
       "1       0.000000                 0.000000               0.000000  0.000000   \n",
       "2       0.000000                 0.000000               0.529634  0.319186   \n",
       "3       0.505685                 0.000000               0.000000  0.321354   \n",
       "4       0.000000                 0.000000               0.000000  0.857468   \n",
       "5       0.000000                 0.231404               0.000000  0.000000   \n",
       "6       0.000000                 0.000000               0.256513  0.154589   \n",
       "7       0.000000                 0.000000               0.000000  0.000000   \n",
       "8       0.611395                 0.000000               0.000000  0.388532   \n",
       "9       0.000000                 0.000000               0.000000  0.000000   \n",
       "\n",
       "   ifd_example4    ifd_example5    ifd_example6       ifd_example7  ifd_example8  ifd_example9  \n",
       "0          0.273265  0.725589  0.00000  0.000000  0.000000   0.00000  \n",
       "1          0.154827  0.411104  0.00000  0.000000  0.378889   0.00000  \n",
       "2          0.191532  0.000000  0.00000  0.000000  0.000000   0.00000  \n",
       "3          0.192833  0.512022  0.00000  0.000000  0.000000   0.00000  \n",
       "4          0.514537  0.000000  0.00000  0.000000  0.000000   0.00000  \n",
       "5          0.100127  0.000000  0.00000  0.000000  0.000000   0.54899  \n",
       "6          0.092763  0.000000  0.00000  0.292321  0.227009   0.00000  \n",
       "7          1.000000  0.000000  0.00000  0.000000  0.000000   0.00000  \n",
       "8          0.233144  0.000000  0.00000  0.000000  0.000000   0.00000  \n",
       "9          0.293889  0.000000  0.69681  0.000000  0.000000   0.00000  "
      ]
     },
     "execution_count": 42,
     "metadata": {},
     "output_type": "execute_result"
    }
   ],
   "source": [
    "# Print out sampled matrix, if desired, with the .matrix and .vector properties\n",
    "(pd.DataFrame(dict_samples['1']['obj'].matrix[:10].todense(),\n",
    "              columns=[x for x in dict_samples['1']['obj'].vector.get_feature_names()])\n",
    " # experiment by choosing any range of feature indices (alphabetical order)\n",
    " .iloc[:,0:10])"
   ]
  },
  {
   "cell_type": "markdown",
   "metadata": {},
   "source": [
    "## Selecting and Tuning a Model\n",
    "\n",
    "Original text below modified from MIT-licensed [Twitter Dev \"Do more with Twitter data\"](https://twitterdev.github.io/do_more_with_twitter_data/clustering-users.html#selecting-and-tuning-a-model).\n",
    "\n",
    "### KMeans\n",
    "\n",
    "[KMeans](http://scikit-learn.org/stable/modules/clustering.html#k-means) is a common choice because it is very fast for moderate amounts of data. Like most algorithms, KMeans has parameters that need to be chosen appropriately. In this case, that parameter is k, the number of clusters in our data.\n",
    "\n",
    "In unsupervised learning, we can’t easily calculate (and optimize) an accuracy score, so we have to use other techniques to compare models to one another for selecting k. Since we don’t know this number a priori, one technique involves comparing the value of some quality metric across a range of potential ks. There are a number of [known quality metrics](http://scikit-learn.org/stable/modules/clustering.html#clustering-performance-evaluation), of which we’ll use just a couple: [silhouette score](http://scikit-learn.org/stable/modules/clustering.html#silhouette-coefficient) (larger is better) and inertia (smaller is better).\n",
    "\n",
    "We typically want to survey a wide, course range of ```k``` values, and then possibly narrow in to evaluate a smaller range around the best identified. The aforementioned metrics are an initial step to help choose a good ```k``` value. These metrics will rarely tell you the best answer for how many clusters are appropriate. Both of these plotted metrics will asymptotically approach their “ideal” value, and so the practitioner is typically advised to choose the value in “[the elbow](https://en.wikipedia.org/wiki/Determining_the_number_of_clusters_in_a_data_set#The_elbow_method)” of these curves - that is, the point at which the returns seem to be diminishing for an increase in ```k```.\n",
    "\n",
    "With the nttc ```.compare_kmeans()``` function below, you can quickly visualize an array of coarse values to identify a possible \"elbow\" to then identify and choose a best ```k``` value."
   ]
  },
  {
   "cell_type": "code",
   "execution_count": 43,
   "metadata": {
    "scrolled": true
   },
   "outputs": [
    {
     "data": {
      "application/vnd.jupyter.widget-view+json": {
       "model_id": "2dffc8e2fb1c4c53af1ba26e0b440586",
       "version_major": 2,
       "version_minor": 0
      },
      "text/html": [
       "<p>Progress bar here</p>\n"
      ],
      "text/plain": [
       "HBox(children=(IntProgress(value=0, max=5), HTML(value='')))"
      ]
     },
     "metadata": {},
     "output_type": "display_data"
    },
    {
     "name": "stdout",
     "output_type": "stream",
     "text": [
      "fitting model for 2 clusters\n",
      "fitting model for 132 clusters\n",
      "fitting model for 211 clusters\n",
      "fitting model for 352 clusters\n",
      "fitting model for 1058 clusters\n",
      "\n"
     ]
    },
    {
     "data": {
      "application/vnd.jupyter.widget-view+json": {
       "model_id": "2404ba7f615542ef9aee5c18fac27dea",
       "version_major": 2,
       "version_minor": 0
      },
      "text/html": [
       "<p>Progress bar here</p>\n"
      ],
      "text/plain": [
       "HBox(children=(IntProgress(value=0, max=5), HTML(value='')))"
      ]
     },
     "metadata": {},
     "output_type": "display_data"
    },
    {
     "name": "stdout",
     "output_type": "stream",
     "text": [
      "fitting model for 2 clusters\n",
      "fitting model for 122 clusters\n",
      "fitting model for 196 clusters\n",
      "fitting model for 327 clusters\n",
      "fitting model for 982 clusters\n",
      "\n"
     ]
    },
    {
     "data": {
      "application/vnd.jupyter.widget-view+json": {
       "model_id": "d9159f7618d24c6b8e83c804a239ea40",
       "version_major": 2,
       "version_minor": 0
      },
      "text/html": [
       "<p>Progress bar here</p>\n"
      ],
      "text/plain": [
       "HBox(children=(IntProgress(value=0, max=5), HTML(value='')))"
      ]
     },
     "metadata": {},
     "output_type": "display_data"
    },
    {
     "name": "stdout",
     "output_type": "stream",
     "text": [
      "fitting model for 2 clusters\n",
      "fitting model for 37 clusters\n",
      "fitting model for 60 clusters\n",
      "fitting model for 100 clusters\n",
      "fitting model for 302 clusters\n",
      "\n"
     ]
    },
    {
     "data": {
      "application/vnd.jupyter.widget-view+json": {
       "model_id": "f28cd83dec7a4de0ae70e15ce2dd58bf",
       "version_major": 2,
       "version_minor": 0
      },
      "text/html": [
       "<p>Progress bar here</p>\n"
      ],
      "text/plain": [
       "HBox(children=(IntProgress(value=0, max=5), HTML(value='')))"
      ]
     },
     "metadata": {},
     "output_type": "display_data"
    },
    {
     "name": "stdout",
     "output_type": "stream",
     "text": [
      "fitting model for 2 clusters\n",
      "fitting model for 18 clusters\n",
      "fitting model for 30 clusters\n",
      "fitting model for 50 clusters\n",
      "fitting model for 151 clusters\n",
      "\n"
     ]
    },
    {
     "data": {
      "application/vnd.jupyter.widget-view+json": {
       "model_id": "32bc950875784a908a994fd26702c3a5",
       "version_major": 2,
       "version_minor": 0
      },
      "text/html": [
       "<p>Progress bar here</p>\n"
      ],
      "text/plain": [
       "HBox(children=(IntProgress(value=0, max=5), HTML(value='')))"
      ]
     },
     "metadata": {},
     "output_type": "display_data"
    },
    {
     "name": "stdout",
     "output_type": "stream",
     "text": [
      "fitting model for 2 clusters\n",
      "fitting model for 8 clusters\n",
      "fitting model for 13 clusters\n",
      "fitting model for 21 clusters\n",
      "fitting model for 65 clusters\n",
      "\n"
     ]
    },
    {
     "data": {
      "application/vnd.jupyter.widget-view+json": {
       "model_id": "a9e9d3f9456243f2b6a1afc880a6cbd4",
       "version_major": 2,
       "version_minor": 0
      },
      "text/html": [
       "<p>Progress bar here</p>\n"
      ],
      "text/plain": [
       "HBox(children=(IntProgress(value=0, max=5), HTML(value='')))"
      ]
     },
     "metadata": {},
     "output_type": "display_data"
    },
    {
     "name": "stdout",
     "output_type": "stream",
     "text": [
      "fitting model for 2 clusters\n",
      "fitting model for 24 clusters\n",
      "fitting model for 39 clusters\n",
      "fitting model for 66 clusters\n",
      "fitting model for 199 clusters\n",
      "\n"
     ]
    },
    {
     "data": {
      "image/png": "[encoded data removed]",
      "text/plain": [
       "<Figure size 432x288 with 2 Axes>"
      ]
     },
     "metadata": {
      "needs_background": "light"
     },
     "output_type": "display_data"
    },
    {
     "data": {
      "image/png": "[encoded data removed]",
      "text/plain": [
       "<Figure size 432x288 with 2 Axes>"
      ]
     },
     "metadata": {
      "needs_background": "light"
     },
     "output_type": "display_data"
    },
    {
     "data": {
      "image/png": "[encoded data removed]",
      "text/plain": [
       "<Figure size 432x288 with 2 Axes>"
      ]
     },
     "metadata": {
      "needs_background": "light"
     },
     "output_type": "display_data"
    },
    {
     "data": {
      "image/png": "[encoded data removed]",
      "text/plain": [
       "<Figure size 432x288 with 2 Axes>"
      ]
     },
     "metadata": {
      "needs_background": "light"
     },
     "output_type": "display_data"
    },
    {
     "data": {
      "image/png": "[encoded data removed]",
      "text/plain": [
       "<Figure size 432x288 with 2 Axes>"
      ]
     },
     "metadata": {
      "needs_background": "light"
     },
     "output_type": "display_data"
    },
    {
     "data": {
      "image/png": "[encoded data removed]",
      "text/plain": [
       "<Figure size 432x288 with 2 Axes>"
      ]
     },
     "metadata": {
      "needs_background": "light"
     },
     "output_type": "display_data"
    }
   ],
   "source": [
    "nttc.compare_kmeans('single', dict_samples, seed)"
   ]
  },
  {
   "cell_type": "markdown",
   "metadata": {},
   "source": [
    "Based on the above outputs, consider the best ```k``` to begin with. To be a bit more careful, consider running the same comparison over a narrower range of k values. Furthermore, consider and incorporate other external constraints on your model. Maybe the number of user clusters according to the elbow is too many (or too few) to reasonably consider given the question you’re trying to answer with the data. Or, if you're trying to merely identify potential patterns to help you decide where and who to place your energy for qualitative analysis, OR to name the module for future analyses, use your judgement to decide the best value. Seek counsel, if you are unsure.\n",
    "\n",
    "For now, log your best k value using the below method. Then, train a new model on all of our data, and carry on with the analysis."
   ]
  },
  {
   "cell_type": "code",
   "execution_count": 44,
   "metadata": {},
   "outputs": [
    {
     "data": {
      "text/plain": [
       "KMeans(algorithm='auto', copy_x=True, init='k-means++', max_iter=300,\n",
       "    n_clusters=132, n_init=10, n_jobs=-1, precompute_distances='auto',\n",
       "    random_state=42, tol=0.0001, verbose=0)"
      ]
     },
     "execution_count": 44,
     "metadata": {},
     "output_type": "execute_result"
    }
   ],
   "source": [
    "from sklearn.cluster import KMeans\n",
    "# Based on 'the elbows' visualized above, choose your best_k and write in Dict to assign individually\n",
    "best_k_list = {'1':132,'2':122,'3':37,'6':18,'7':2,'8':24}\n",
    "\n",
    "# Loop thru above Dict, and assign best_k\n",
    "for m in dict_samples:\n",
    "    if dict_samples[m]['obj'].vector is not None:\n",
    "        dict_samples[m]['obj'].best_k = best_k_list[m]\n",
    "        dict_samples[m]['obj'].km_model = KMeans(\n",
    "                                                n_clusters=best_k_list[m], \n",
    "                                                n_jobs=-1, \n",
    "                                                random_state=seed)\n",
    "        dict_samples[m]['obj'].km_model.fit(dict_samples[m]['obj'].matrix)\n",
    "        \n",
    "dict_samples['1']['obj'].km_model"
   ]
  },
  {
   "cell_type": "markdown",
   "metadata": {},
   "source": [
    "### Inspecting model results\n",
    "\n",
    "At this point, the trained model of tweets per module has clustered tweets along the assumptions enacted by the inverse document frequency (IDF) method. We can inspect the clusters to examine the modeled patterns, which can help examine the quality of the model and help qualitative researchers make decisions about how to proceed.\n",
    "\n",
    "#### Population sizes\n",
    "\n",
    "By checking the population of each cluster, you can compare and contrast the distributions. By doing so, you can perhaps use your existing knowledge about the corpus to help tease out unexpected or interesting results."
   ]
  },
  {
   "cell_type": "code",
   "execution_count": 46,
   "metadata": {},
   "outputs": [
    {
     "data": {
      "image/png": "[encoded data removed]",
      "text/plain": [
       "<Figure size 432x288 with 1 Axes>"
      ]
     },
     "metadata": {
      "needs_background": "light"
     },
     "output_type": "display_data"
    }
   ],
   "source": [
    "import numpy as np\n",
    "plt.bar(range(len(set(dict_samples['1']['obj'].km_model.labels_))), np.bincount(dict_samples['1']['obj'].km_model.labels_))\n",
    "\n",
    "plt.ylabel('population')\n",
    "plt.xlabel('cluster label')\n",
    "plt.title('mod 1 population sizes with {} clusters'.format(best_k_list['1']));\n",
    "\n",
    "# truncate y axis to see the rest better\n",
    "# (comment out to see the peak value for the largest cluster)\n",
    "plt.ylim(0,1000);"
   ]
  },
  {
   "cell_type": "code",
   "execution_count": 47,
   "metadata": {},
   "outputs": [],
   "source": [
    "# Function originally from Twitter Dev: https://twitterdev.github.io/do_more_with_twitter_data/clustering-users.html#selecting-and-tuning-a-model\n",
    "def strongest_features(model, vectorizer, topk=10):\n",
    "    \"\"\"\n",
    "    Helper function to display a simple text representation of the top-k most\n",
    "    important features in our fit model and vectorizer.\n",
    "\n",
    "    model: sklearn model\n",
    "    vectorizer: sklearn vectorizer\n",
    "    topk: k numbers of words to get per cluster\n",
    "\n",
    "    \"\"\"\n",
    "    # these parts are model-independent\n",
    "    m_name = model.__class__.__name__\n",
    "    features = vectorizer.get_feature_names()\n",
    "    # different calculations per model type\n",
    "    if m_name is 'KMeans':\n",
    "        relevant_labels = list(set(model.labels_))\n",
    "        centroids = model.cluster_centers_.argsort()[:,::-1]\n",
    "        for this_label in relevant_labels:\n",
    "            print('Cluster {}:'.format(this_label), end='')\n",
    "            for ind in centroids[this_label, :topk]:\n",
    "                print(' {}'.format(features[ind]), end='')\n",
    "            print()\n",
    "    elif m_name is 'HDBSCAN':\n",
    "        # ignore noise labels\n",
    "        relevant_labels = [ x for x in set(model.labels_) if x >= 0 ]\n",
    "        for this_label in relevant_labels:\n",
    "            matching_rows = np.where(hdbs.labels_ == this_label)[0]\n",
    "            coeff_sums = np.sum(bio_matrix[matching_rows], axis=0).A1\n",
    "            sorted_coeff_idxs = np.argsort(coeff_sums)[::-1]\n",
    "            print('Cluster {}: '.format(this_label), end='')\n",
    "            for idx in sorted_coeff_idxs[:topk]:\n",
    "                print('{} '.format(features[idx]), end='')\n",
    "            print()\n",
    "    else:\n",
    "        raise NotImplementedError('This helper method currently only supports KMeans and HDBSCAN models')"
   ]
  },
  {
   "cell_type": "code",
   "execution_count": 48,
   "metadata": {
    "scrolled": true
   },
   "outputs": [
    {
     "name": "stdout",
     "output_type": "stream",
     "text": [
      "Cluster [num]: Example words from cluster will be listed here n",
      "Cluster [num]: Example words from cluster will be listed here n",
      "Cluster [num]: Example words from cluster will be listed here n",
      "Cluster [num]: Example words from cluster will be listed here n",
      "Cluster [num]: Example words from cluster will be listed here n",
      "Cluster [num]: Example words from cluster will be listed here n",
      "Cluster [num]: Example words from cluster will be listed here n",
      "Cluster [num]: Example words from cluster will be listed here n",
      "Cluster [num]: Example words from cluster will be listed here n",
      "Cluster [num]: Example words from cluster will be listed here n",
      "Cluster [num]: Example words from cluster will be listed here n",
      "Cluster [num]: Example words from cluster will be listed here n",
      "Cluster [num]: Example words from cluster will be listed here n",
      "Cluster [num]: Example words from cluster will be listed here n",
      "Cluster [num]: Example words from cluster will be listed here n",
      "Cluster [num]: Example words from cluster will be listed here n",
      "Cluster [num]: Example words from cluster will be listed here n",
      "Cluster [num]: Example words from cluster will be listed here n",
      "Cluster [num]: Example words from cluster will be listed here n",
      "Cluster [num]: Example words from cluster will be listed here n",
      "Cluster [num]: Example words from cluster will be listed here n",
      "Cluster [num]: Example words from cluster will be listed here n",
      "Cluster [num]: Example words from cluster will be listed here n",
      "Cluster [num]: Example words from cluster will be listed here n",
      "Cluster [num]: Example words from cluster will be listed here n",
      "Cluster [num]: Example words from cluster will be listed here n",
      "Cluster [num]: Example words from cluster will be listed here n",
      "Cluster [num]: Example words from cluster will be listed here n",
      "Cluster [num]: Example words from cluster will be listed here n",
      "Cluster [num]: Example words from cluster will be listed here n",
      "Cluster [num]: Example words from cluster will be listed here n",
      "Cluster [num]: Example words from cluster will be listed here n",
      "Cluster [num]: Example words from cluster will be listed here n",
      "Cluster [num]: Example words from cluster will be listed here n",
      "Cluster [num]: Example words from cluster will be listed here n",
      "Cluster [num]: Example words from cluster will be listed here n",
      "Cluster [num]: Example words from cluster will be listed here n",
      "Cluster [num]: Example words from cluster will be listed here n",
      "Cluster [num]: Example words from cluster will be listed here n",
      "Cluster [num]: Example words from cluster will be listed here n",
      "Cluster [num]: Example words from cluster will be listed here n",
      "Cluster [num]: Example words from cluster will be listed here n",
      "Cluster [num]: Example words from cluster will be listed here n",
      "Cluster [num]: Example words from cluster will be listed here n",
      "Cluster [num]: Example words from cluster will be listed here n",
      "Cluster [num]: Example words from cluster will be listed here n",
      "Cluster [num]: Example words from cluster will be listed here n",
      "Cluster [num]: Example words from cluster will be listed here n",
      "Cluster [num]: Example words from cluster will be listed here n",
      "Cluster [num]: Example words from cluster will be listed here n",
      "Cluster [num]: Example words from cluster will be listed here n",
      "Cluster [num]: Example words from cluster will be listed here n",
      "Cluster [num]: Example words from cluster will be listed here n",
      "Cluster [num]: Example words from cluster will be listed here n",
      "Cluster [num]: Example words from cluster will be listed here n",
      "Cluster [num]: Example words from cluster will be listed here n",
      "Cluster [num]: Example words from cluster will be listed here n",
      "Cluster [num]: Example words from cluster will be listed here n",
      "Cluster [num]: Example words from cluster will be listed here n",
      "Cluster [num]: Example words from cluster will be listed here n",
      "Cluster [num]: Example words from cluster will be listed here n",
      "Cluster [num]: Example words from cluster will be listed here n",
      "Cluster [num]: Example words from cluster will be listed here n",
      "Cluster [num]: Example words from cluster will be listed here n",
      "Cluster [num]: Example words from cluster will be listed here n",
      "Cluster [num]: Example words from cluster will be listed here n",
      "Cluster [num]: Example words from cluster will be listed here n",
      "Cluster [num]: Example words from cluster will be listed here n",
      "Cluster [num]: Example words from cluster will be listed here n",
      "Cluster [num]: Example words from cluster will be listed here n",
      "Cluster [num]: Example words from cluster will be listed here n",
      "Cluster [num]: Example words from cluster will be listed here n",
      "Cluster [num]: Example words from cluster will be listed here n",
      "Cluster [num]: Example words from cluster will be listed here n",
      "Cluster [num]: Example words from cluster will be listed here n",
      "Cluster [num]: Example words from cluster will be listed here n",
      "Cluster [num]: Example words from cluster will be listed here n",
      "Cluster [num]: Example words from cluster will be listed here n",
      "Cluster [num]: Example words from cluster will be listed here n",
      "Cluster [num]: Example words from cluster will be listed here n",
      "Cluster [num]: Example words from cluster will be listed here n",
      "Cluster [num]: Example words from cluster will be listed here n",
      "Cluster [num]: Example words from cluster will be listed here n",
      "Cluster [num]: Example words from cluster will be listed here n",
      "Cluster [num]: Example words from cluster will be listed here n",
      "Cluster [num]: Example words from cluster will be listed here n",
      "Cluster [num]: Example words from cluster will be listed here n",
      "Cluster [num]: Example words from cluster will be listed here n",
      "Cluster [num]: Example words from cluster will be listed here n",
      "Cluster [num]: Example words from cluster will be listed here n",
      "Cluster [num]: Example words from cluster will be listed here n",
      "Cluster [num]: Example words from cluster will be listed here n",
      "Cluster [num]: Example words from cluster will be listed here n",
      "Cluster [num]: Example words from cluster will be listed here n",
      "Cluster [num]: Example words from cluster will be listed here n",
      "Cluster [num]: Example words from cluster will be listed here n",
      "Cluster [num]: Example words from cluster will be listed here n",
      "Cluster [num]: Example words from cluster will be listed here n",
      "Cluster [num]: Example words from cluster will be listed here n",
      "Cluster [num]: Example words from cluster will be listed here n",
      "Cluster [num]: Example words from cluster will be listed here n",
      "Cluster [num]: Example words from cluster will be listed here n",
      "Cluster [num]: Example words from cluster will be listed here n",
      "Cluster [num]: Example words from cluster will be listed here n",
      "Cluster [num]: Example words from cluster will be listed here n",
      "Cluster [num]: Example words from cluster will be listed here n",
      "Cluster [num]: Example words from cluster will be listed here n",
      "Cluster [num]: Example words from cluster will be listed here n"
     ]
    },
    {
     "name": "stdout",
     "output_type": "stream",
     "text": [
      "Cluster [num]: Example words from cluster will be listed here n",
      "Cluster [num]: Example words from cluster will be listed here n",
      "Cluster [num]: Example words from cluster will be listed here n",
      "Cluster [num]: Example words from cluster will be listed here n",
      "Cluster [num]: Example words from cluster will be listed here n",
      "Cluster [num]: Example words from cluster will be listed here n",
      "Cluster [num]: Example words from cluster will be listed here n",
      "Cluster [num]: Example words from cluster will be listed here n",
      "Cluster [num]: Example words from cluster will be listed here n",
      "Cluster [num]: Example words from cluster will be listed here n",
      "Cluster [num]: Example words from cluster will be listed here n",
      "Cluster [num]: Example words from cluster will be listed here n",
      "Cluster [num]: Example words from cluster will be listed here n",
      "Cluster [num]: Example words from cluster will be listed here n",
      "Cluster [num]: Example words from cluster will be listed here n",
      "Cluster [num]: Example words from cluster will be listed here n",
      "Cluster [num]: Example words from cluster will be listed here n",
      "Cluster [num]: Example words from cluster will be listed here n",
      "Cluster [num]: Example words from cluster will be listed here n",
      "Cluster [num]: Example words from cluster will be listed here n",
      "Cluster [num]: Example words from cluster will be listed here n",
      "Cluster [num]: Example words from cluster will be listed here n",
      "Cluster [num]: Example words from cluster will be listed here n",
      "Cluster [num]: Example words from cluster will be listed here n"
     ]
    }
   ],
   "source": [
    "strongest_features(dict_samples['1']['obj'].km_model, dict_samples['1']['obj'].vector, topk=15)"
   ]
  },
  {
   "cell_type": "code",
   "execution_count": 49,
   "metadata": {},
   "outputs": [
    {
     "data": {
      "text/plain": [
       "'clustering/tweet_matrix31_2d.npy'"
      ]
     },
     "execution_count": 49,
     "metadata": {},
     "output_type": "execute_result"
    }
   ],
   "source": [
    "file_primer = 'clustering/tweet_matrix'+'3'#adding period number, since not parsed\n",
    "dict_samples = nttc.fit_filename_writer('single', dict_samples, file_primer)\n",
    "dict_samples['1']['obj'].fit_file"
   ]
  },
  {
   "cell_type": "code",
   "execution_count": 56,
   "metadata": {},
   "outputs": [
    {
     "data": {
      "application/vnd.jupyter.widget-view+json": {
       "model_id": "1c0935b9d8c54decb6b690abd78cf2f7",
       "version_major": 2,
       "version_minor": 0
      },
      "text/html": [
       "<p>Progress bar here</p>\n"
      ],
      "text/plain": [
       "HBox(children=(IntProgress(value=0, max=10), HTML(value='')))"
      ]
     },
     "metadata": {},
     "output_type": "display_data"
    },
    {
     "name": "stdout",
     "output_type": "stream",
     "text": [
      "\n"
     ]
    }
   ],
   "source": [
    "dict_samples = nttc.trial_fit_tsne('single', dict_samples, 2000)"
   ]
  },
  {
   "cell_type": "code",
   "execution_count": 57,
   "metadata": {},
   "outputs": [
    {
     "data": {
      "text/plain": [
       "array([  6, 108,  25, ...,  83,  51,  72], dtype=int32)"
      ]
     },
     "execution_count": 57,
     "metadata": {},
     "output_type": "execute_result"
    }
   ],
   "source": [
    "dict_samples['1']['obj'].km_model.labels_"
   ]
  },
  {
   "cell_type": "code",
   "execution_count": 58,
   "metadata": {},
   "outputs": [
    {
     "name": "stdout",
     "output_type": "stream",
     "text": [
      "2116 2116 2116 2116\n",
      "1964 1964 1964 1964\n",
      "605 605 605 605\n",
      "302 302 302 302\n",
      "130 130 130 130\n",
      "398 398 398 398\n"
     ]
    }
   ],
   "source": [
    "# Check fits; If some don't fit, change the randomized seed param in trial_fit_tsne().\n",
    "# Be sure to consider that change in relationship to your goals with these models\n",
    "for m in dict_samples:\n",
    "    if dict_samples[m]['obj'].vector is not None:\n",
    "        print(\n",
    "            len(dict_samples[m]['obj'].u_users), \n",
    "            len(dict_samples[m]['obj'].u_texts), \n",
    "            len(dict_samples[m]['obj'].matrix_2d), \n",
    "            len(dict_samples[m]['obj'].km_model.labels_)\n",
    "        )"
   ]
  },
  {
   "cell_type": "code",
   "execution_count": 59,
   "metadata": {},
   "outputs": [],
   "source": [
    "dict_samples = nttc.get_plottable_controller('single', dict_samples)"
   ]
  },
  {
   "cell_type": "code",
   "execution_count": 60,
   "metadata": {},
   "outputs": [
    {
     "data": {
      "text/html": [
       "<div>\n",
       "<style scoped>\n",
       "    .dataframe tbody tr th:only-of-type {\n",
       "        vertical-align: middle;\n",
       "    }\n",
       "\n",
       "    .dataframe tbody tr th {\n",
       "        vertical-align: top;\n",
       "    }\n",
       "\n",
       "    .dataframe thead th {\n",
       "        text-align: right;\n",
       "    }\n",
       "</style>\n",
       "<table border=\"1\" class=\"dataframe\">\n",
       "  <thead>\n",
       "    <tr style=\"text-align: right;\">\n",
       "      <th></th>\n",
       "      <th>username</th>\n",
       "      <th>text</th>\n",
       "      <th>label</th>\n",
       "      <th>x_val</th>\n",
       "      <th>y_val</th>\n",
       "      <th>color</th>\n",
       "    </tr>\n",
       "  </thead>\n",
       "  <tbody>\n",
       "    <tr>\n",
       "      <th>0</th>\n",
       "      <td>username1</td>\n",
       "      <td>Example tweet here</td>\n",
       "      <td>6</td>\n",
       "      <td>-17.865280</td>\n",
       "      <td>-13.848690</td>\n",
       "      <td>#db8357</td>\n",
       "    </tr>\n",
       "    <tr>\n",
       "      <th>1</th>\n",
       "      <td>usernam2</td>\n",
       "      <td>Example tweet here ...</td>\n",
       "      <td>108</td>\n",
       "      <td>5.496714</td>\n",
       "      <td>-1.309122</td>\n",
       "      <td>#d757db</td>\n",
       "    </tr>\n",
       "    <tr>\n",
       "      <th>2</th>\n",
       "      <td>username3</td>\n",
       "      <td>Example tweet here #hashtag  pic.twitter.com/example</td>\n",
       "      <td>25</td>\n",
       "      <td>-17.056479</td>\n",
       "      <td>16.609867</td>\n",
       "      <td>#c1db57</td>\n",
       "    </tr>\n",
       "    <tr>\n",
       "      <th>3</th>\n",
       "      <td>username4</td>\n",
       "      <td>#hasher:  blah blah blah ...</td>\n",
       "      <td>64</td>\n",
       "      <td>1.257154</td>\n",
       "      <td>26.158756</td>\n",
       "      <td>#57dbd7</td>\n",
       "    </tr>\n",
       "    <tr>\n",
       "      <th>4</th>\n",
       "      <td>another_user</td>\n",
       "      <td>More examples, yo ...</td>\n",
       "      <td>38</td>\n",
       "      <td>5.361260</td>\n",
       "      <td>-27.744196</td>\n",
       "      <td>#73db57</td>\n",
       "    </tr>\n",
       "  </tbody>\n",
       "</table>\n",
       "</div>"
      ],
      "text/plain": [
       "         username  \\\n",
       "0  username1   \n",
       "1    username2   \n",
       "2      username3   \n",
       "3        username4   \n",
       "4      another_user   \n",
       "\n",
       "                                                                                                                                                    text  \\\n",
       "0  Example tweet here   \n",
       "1  Example tweet here ...   \n",
       "2                         Example tweet here #hashtag  pic.twitter.com/example   \n",
       "3  #hasher:  blah blah blah ...   \n",
       "4  More examples, yo ...   \n",
       "\n",
       "   label      x_val      y_val    color  \n",
       "0      6 -17.865280 -13.848690  #db8357  \n",
       "1    108   5.496714  -1.309122  #d757db  \n",
       "2     25 -17.056479  16.609867  #c1db57  \n",
       "3     64   1.257154  26.158756  #57dbd7  \n",
       "4     38   5.361260 -27.744196  #73db57  "
      ]
     },
     "execution_count": 60,
     "metadata": {},
     "output_type": "execute_result"
    }
   ],
   "source": [
    "dict_samples['1']['obj'].km_plottable.head()"
   ]
  },
  {
   "cell_type": "code",
   "execution_count": 61,
   "metadata": {},
   "outputs": [
    {
     "data": {
      "text/html": [
       "\n",
       "    <div class=\"bk-root\">\n",
       "        <a href=\"https://bokeh.pydata.org\" target=\"_blank\" class=\"bk-logo bk-logo-small bk-logo-notebook\"></a>\n",
       "        <span id=\"1001\">Loading BokehJS ...</span>\n",
       "    </div>"
      ]
     },
     "metadata": {},
     "output_type": "display_data"
    },
    {
     "data": {
      "application/javascript": [
       "\n",
       "(function(root) {\n",
       "  function now() {\n",
       "    return new Date();\n",
       "  }\n",
       "\n",
       "  var force = true;\n",
       "\n",
       "  if (typeof (root._bokeh_onload_callbacks) === \"undefined\" || force === true) {\n",
       "    root._bokeh_onload_callbacks = [];\n",
       "    root._bokeh_is_loading = undefined;\n",
       "  }\n",
       "\n",
       "  var JS_MIME_TYPE = 'application/javascript';\n",
       "  var HTML_MIME_TYPE = 'text/html';\n",
       "  var EXEC_MIME_TYPE = 'application/vnd.bokehjs_exec.v0+json';\n",
       "  var CLASS_NAME = 'output_bokeh rendered_html';\n",
       "\n",
       "  /**\n",
       "   * Render data to the DOM node\n",
       "   */\n",
       "  function render(props, node) {\n",
       "    var script = document.createElement(\"script\");\n",
       "    node.appendChild(script);\n",
       "  }\n",
       "\n",
       "  /**\n",
       "   * Handle when an output is cleared or removed\n",
       "   */\n",
       "  function handleClearOutput(event, handle) {\n",
       "    var cell = handle.cell;\n",
       "\n",
       "    var id = cell.output_area._bokeh_element_id;\n",
       "    var server_id = cell.output_area._bokeh_server_id;\n",
       "    // Clean up Bokeh references\n",
       "    if (id != null && id in Bokeh.index) {\n",
       "      Bokeh.index[id].model.document.clear();\n",
       "      delete Bokeh.index[id];\n",
       "    }\n",
       "\n",
       "    if (server_id !== undefined) {\n",
       "      // Clean up Bokeh references\n",
       "      var cmd = \"from bokeh.io.state import curstate; print(curstate().uuid_to_server['\" + server_id + \"'].get_sessions()[0].document.roots[0]._id)\";\n",
       "      cell.notebook.kernel.execute(cmd, {\n",
       "        iopub: {\n",
       "          output: function(msg) {\n",
       "            var id = msg.content.text.trim();\n",
       "            if (id in Bokeh.index) {\n",
       "              Bokeh.index[id].model.document.clear();\n",
       "              delete Bokeh.index[id];\n",
       "            }\n",
       "          }\n",
       "        }\n",
       "      });\n",
       "      // Destroy server and session\n",
       "      var cmd = \"import bokeh.io.notebook as ion; ion.destroy_server('\" + server_id + \"')\";\n",
       "      cell.notebook.kernel.execute(cmd);\n",
       "    }\n",
       "  }\n",
       "\n",
       "  /**\n",
       "   * Handle when a new output is added\n",
       "   */\n",
       "  function handleAddOutput(event, handle) {\n",
       "    var output_area = handle.output_area;\n",
       "    var output = handle.output;\n",
       "\n",
       "    // limit handleAddOutput to display_data with EXEC_MIME_TYPE content only\n",
       "    if ((output.output_type != \"display_data\") || (!output.data.hasOwnProperty(EXEC_MIME_TYPE))) {\n",
       "      return\n",
       "    }\n",
       "\n",
       "    var toinsert = output_area.element.find(\".\" + CLASS_NAME.split(' ')[0]);\n",
       "\n",
       "    if (output.metadata[EXEC_MIME_TYPE][\"id\"] !== undefined) {\n",
       "      toinsert[toinsert.length - 1].firstChild.textContent = output.data[JS_MIME_TYPE];\n",
       "      // store reference to embed id on output_area\n",
       "      output_area._bokeh_element_id = output.metadata[EXEC_MIME_TYPE][\"id\"];\n",
       "    }\n",
       "    if (output.metadata[EXEC_MIME_TYPE][\"server_id\"] !== undefined) {\n",
       "      var bk_div = document.createElement(\"div\");\n",
       "      bk_div.innerHTML = output.data[HTML_MIME_TYPE];\n",
       "      var script_attrs = bk_div.children[0].attributes;\n",
       "      for (var i = 0; i < script_attrs.length; i++) {\n",
       "        toinsert[toinsert.length - 1].firstChild.setAttribute(script_attrs[i].name, script_attrs[i].value);\n",
       "      }\n",
       "      // store reference to server id on output_area\n",
       "      output_area._bokeh_server_id = output.metadata[EXEC_MIME_TYPE][\"server_id\"];\n",
       "    }\n",
       "  }\n",
       "\n",
       "  function register_renderer(events, OutputArea) {\n",
       "\n",
       "    function append_mime(data, metadata, element) {\n",
       "      // create a DOM node to render to\n",
       "      var toinsert = this.create_output_subarea(\n",
       "        metadata,\n",
       "        CLASS_NAME,\n",
       "        EXEC_MIME_TYPE\n",
       "      );\n",
       "      this.keyboard_manager.register_events(toinsert);\n",
       "      // Render to node\n",
       "      var props = {data: data, metadata: metadata[EXEC_MIME_TYPE]};\n",
       "      render(props, toinsert[toinsert.length - 1]);\n",
       "      element.append(toinsert);\n",
       "      return toinsert\n",
       "    }\n",
       "\n",
       "    /* Handle when an output is cleared or removed */\n",
       "    events.on('clear_output.CodeCell', handleClearOutput);\n",
       "    events.on('delete.Cell', handleClearOutput);\n",
       "\n",
       "    /* Handle when a new output is added */\n",
       "    events.on('output_added.OutputArea', handleAddOutput);\n",
       "\n",
       "    /**\n",
       "     * Register the mime type and append_mime function with output_area\n",
       "     */\n",
       "    OutputArea.prototype.register_mime_type(EXEC_MIME_TYPE, append_mime, {\n",
       "      /* Is output safe? */\n",
       "      safe: true,\n",
       "      /* Index of renderer in `output_area.display_order` */\n",
       "      index: 0\n",
       "    });\n",
       "  }\n",
       "\n",
       "  // register the mime type if in Jupyter Notebook environment and previously unregistered\n",
       "  if (root.Jupyter !== undefined) {\n",
       "    var events = require('base/js/events');\n",
       "    var OutputArea = require('notebook/js/outputarea').OutputArea;\n",
       "\n",
       "    if (OutputArea.prototype.mime_types().indexOf(EXEC_MIME_TYPE) == -1) {\n",
       "      register_renderer(events, OutputArea);\n",
       "    }\n",
       "  }\n",
       "\n",
       "  \n",
       "  if (typeof (root._bokeh_timeout) === \"undefined\" || force === true) {\n",
       "    root._bokeh_timeout = Date.now() + 5000;\n",
       "    root._bokeh_failed_load = false;\n",
       "  }\n",
       "\n",
       "  var NB_LOAD_WARNING = {'data': {'text/html':\n",
       "     \"<div style='background-color: #fdd'>\\n\"+\n",
       "     \"<p>\\n\"+\n",
       "     \"BokehJS does not appear to have successfully loaded. If loading BokehJS from CDN, this \\n\"+\n",
       "     \"may be due to a slow or bad network connection. Possible fixes:\\n\"+\n",
       "     \"</p>\\n\"+\n",
       "     \"<ul>\\n\"+\n",
       "     \"<li>re-rerun `output_notebook()` to attempt to load from CDN again, or</li>\\n\"+\n",
       "     \"<li>use INLINE resources instead, as so:</li>\\n\"+\n",
       "     \"</ul>\\n\"+\n",
       "     \"<code>\\n\"+\n",
       "     \"from bokeh.resources import INLINE\\n\"+\n",
       "     \"output_notebook(resources=INLINE)\\n\"+\n",
       "     \"</code>\\n\"+\n",
       "     \"</div>\"}};\n",
       "\n",
       "  function display_loaded() {\n",
       "    var el = document.getElementById(\"1001\");\n",
       "    if (el != null) {\n",
       "      el.textContent = \"BokehJS is loading...\";\n",
       "    }\n",
       "    if (root.Bokeh !== undefined) {\n",
       "      if (el != null) {\n",
       "        el.textContent = \"BokehJS \" + root.Bokeh.version + \" successfully loaded.\";\n",
       "      }\n",
       "    } else if (Date.now() < root._bokeh_timeout) {\n",
       "      setTimeout(display_loaded, 100)\n",
       "    }\n",
       "  }\n",
       "\n",
       "\n",
       "  function run_callbacks() {\n",
       "    try {\n",
       "      root._bokeh_onload_callbacks.forEach(function(callback) { callback() });\n",
       "    }\n",
       "    finally {\n",
       "      delete root._bokeh_onload_callbacks\n",
       "    }\n",
       "    console.info(\"Bokeh: all callbacks have finished\");\n",
       "  }\n",
       "\n",
       "  function load_libs(js_urls, callback) {\n",
       "    root._bokeh_onload_callbacks.push(callback);\n",
       "    if (root._bokeh_is_loading > 0) {\n",
       "      console.log(\"Bokeh: BokehJS is being loaded, scheduling callback at\", now());\n",
       "      return null;\n",
       "    }\n",
       "    if (js_urls == null || js_urls.length === 0) {\n",
       "      run_callbacks();\n",
       "      return null;\n",
       "    }\n",
       "    console.log(\"Bokeh: BokehJS not loaded, scheduling load and callback at\", now());\n",
       "    root._bokeh_is_loading = js_urls.length;\n",
       "    for (var i = 0; i < js_urls.length; i++) {\n",
       "      var url = js_urls[i];\n",
       "      var s = document.createElement('script');\n",
       "      s.src = url;\n",
       "      s.async = false;\n",
       "      s.onreadystatechange = s.onload = function() {\n",
       "        root._bokeh_is_loading--;\n",
       "        if (root._bokeh_is_loading === 0) {\n",
       "          console.log(\"Bokeh: all BokehJS libraries loaded\");\n",
       "          run_callbacks()\n",
       "        }\n",
       "      };\n",
       "      s.onerror = function() {\n",
       "        console.warn(\"failed to load library \" + url);\n",
       "      };\n",
       "      console.log(\"Bokeh: injecting script tag for BokehJS library: \", url);\n",
       "      document.getElementsByTagName(\"head\")[0].appendChild(s);\n",
       "    }\n",
       "  };var element = document.getElementById(\"1001\");\n",
       "  if (element == null) {\n",
       "    console.log(\"Bokeh: ERROR: autoload.js configured with elementid '1001' but no matching script tag was found. \")\n",
       "    return false;\n",
       "  }\n",
       "\n",
       "  var js_urls = [\"https://cdn.pydata.org/bokeh/release/bokeh-1.0.2.min.js\", \"https://cdn.pydata.org/bokeh/release/bokeh-widgets-1.0.2.min.js\", \"https://cdn.pydata.org/bokeh/release/bokeh-tables-1.0.2.min.js\", \"https://cdn.pydata.org/bokeh/release/bokeh-gl-1.0.2.min.js\"];\n",
       "\n",
       "  var inline_js = [\n",
       "    function(Bokeh) {\n",
       "      Bokeh.set_log_level(\"info\");\n",
       "    },\n",
       "    \n",
       "    function(Bokeh) {\n",
       "      \n",
       "    },\n",
       "    function(Bokeh) {\n",
       "      console.log(\"Bokeh: injecting CSS: https://cdn.pydata.org/bokeh/release/bokeh-1.0.2.min.css\");\n",
       "      Bokeh.embed.inject_css(\"https://cdn.pydata.org/bokeh/release/bokeh-1.0.2.min.css\");\n",
       "      console.log(\"Bokeh: injecting CSS: https://cdn.pydata.org/bokeh/release/bokeh-widgets-1.0.2.min.css\");\n",
       "      Bokeh.embed.inject_css(\"https://cdn.pydata.org/bokeh/release/bokeh-widgets-1.0.2.min.css\");\n",
       "      console.log(\"Bokeh: injecting CSS: https://cdn.pydata.org/bokeh/release/bokeh-tables-1.0.2.min.css\");\n",
       "      Bokeh.embed.inject_css(\"https://cdn.pydata.org/bokeh/release/bokeh-tables-1.0.2.min.css\");\n",
       "    }\n",
       "  ];\n",
       "\n",
       "  function run_inline_js() {\n",
       "    \n",
       "    if ((root.Bokeh !== undefined) || (force === true)) {\n",
       "      for (var i = 0; i < inline_js.length; i++) {\n",
       "        inline_js[i].call(root, root.Bokeh);\n",
       "      }if (force === true) {\n",
       "        display_loaded();\n",
       "      }} else if (Date.now() < root._bokeh_timeout) {\n",
       "      setTimeout(run_inline_js, 100);\n",
       "    } else if (!root._bokeh_failed_load) {\n",
       "      console.log(\"Bokeh: BokehJS failed to load within specified timeout.\");\n",
       "      root._bokeh_failed_load = true;\n",
       "    } else if (force !== true) {\n",
       "      var cell = $(document.getElementById(\"1001\")).parents('.cell').data().cell;\n",
       "      cell.output_area.append_execute_result(NB_LOAD_WARNING)\n",
       "    }\n",
       "\n",
       "  }\n",
       "\n",
       "  if (root._bokeh_is_loading === 0) {\n",
       "    console.log(\"Bokeh: BokehJS loaded, going straight to plotting\");\n",
       "    run_inline_js();\n",
       "  } else {\n",
       "    load_libs(js_urls, function() {\n",
       "      console.log(\"Bokeh: BokehJS plotting callback run at\", now());\n",
       "      run_inline_js();\n",
       "    });\n",
       "  }\n",
       "}(window));"
      ],
      "application/vnd.bokehjs_load.v0+json": "\n(function(root) {\n  function now() {\n    return new Date();\n  }\n\n  var force = true;\n\n  if (typeof (root._bokeh_onload_callbacks) === \"undefined\" || force === true) {\n    root._bokeh_onload_callbacks = [];\n    root._bokeh_is_loading = undefined;\n  }\n\n  \n\n  \n  if (typeof (root._bokeh_timeout) === \"undefined\" || force === true) {\n    root._bokeh_timeout = Date.now() + 5000;\n    root._bokeh_failed_load = false;\n  }\n\n  var NB_LOAD_WARNING = {'data': {'text/html':\n     \"<div style='background-color: #fdd'>\\n\"+\n     \"<p>\\n\"+\n     \"BokehJS does not appear to have successfully loaded. If loading BokehJS from CDN, this \\n\"+\n     \"may be due to a slow or bad network connection. Possible fixes:\\n\"+\n     \"</p>\\n\"+\n     \"<ul>\\n\"+\n     \"<li>re-rerun `output_notebook()` to attempt to load from CDN again, or</li>\\n\"+\n     \"<li>use INLINE resources instead, as so:</li>\\n\"+\n     \"</ul>\\n\"+\n     \"<code>\\n\"+\n     \"from bokeh.resources import INLINE\\n\"+\n     \"output_notebook(resources=INLINE)\\n\"+\n     \"</code>\\n\"+\n     \"</div>\"}};\n\n  function display_loaded() {\n    var el = document.getElementById(\"1001\");\n    if (el != null) {\n      el.textContent = \"BokehJS is loading...\";\n    }\n    if (root.Bokeh !== undefined) {\n      if (el != null) {\n        el.textContent = \"BokehJS \" + root.Bokeh.version + \" successfully loaded.\";\n      }\n    } else if (Date.now() < root._bokeh_timeout) {\n      setTimeout(display_loaded, 100)\n    }\n  }\n\n\n  function run_callbacks() {\n    try {\n      root._bokeh_onload_callbacks.forEach(function(callback) { callback() });\n    }\n    finally {\n      delete root._bokeh_onload_callbacks\n    }\n    console.info(\"Bokeh: all callbacks have finished\");\n  }\n\n  function load_libs(js_urls, callback) {\n    root._bokeh_onload_callbacks.push(callback);\n    if (root._bokeh_is_loading > 0) {\n      console.log(\"Bokeh: BokehJS is being loaded, scheduling callback at\", now());\n      return null;\n    }\n    if (js_urls == null || js_urls.length === 0) {\n      run_callbacks();\n      return null;\n    }\n    console.log(\"Bokeh: BokehJS not loaded, scheduling load and callback at\", now());\n    root._bokeh_is_loading = js_urls.length;\n    for (var i = 0; i < js_urls.length; i++) {\n      var url = js_urls[i];\n      var s = document.createElement('script');\n      s.src = url;\n      s.async = false;\n      s.onreadystatechange = s.onload = function() {\n        root._bokeh_is_loading--;\n        if (root._bokeh_is_loading === 0) {\n          console.log(\"Bokeh: all BokehJS libraries loaded\");\n          run_callbacks()\n        }\n      };\n      s.onerror = function() {\n        console.warn(\"failed to load library \" + url);\n      };\n      console.log(\"Bokeh: injecting script tag for BokehJS library: \", url);\n      document.getElementsByTagName(\"head\")[0].appendChild(s);\n    }\n  };var element = document.getElementById(\"1001\");\n  if (element == null) {\n    console.log(\"Bokeh: ERROR: autoload.js configured with elementid '1001' but no matching script tag was found. \")\n    return false;\n  }\n\n  var js_urls = [\"https://cdn.pydata.org/bokeh/release/bokeh-1.0.2.min.js\", \"https://cdn.pydata.org/bokeh/release/bokeh-widgets-1.0.2.min.js\", \"https://cdn.pydata.org/bokeh/release/bokeh-tables-1.0.2.min.js\", \"https://cdn.pydata.org/bokeh/release/bokeh-gl-1.0.2.min.js\"];\n\n  var inline_js = [\n    function(Bokeh) {\n      Bokeh.set_log_level(\"info\");\n    },\n    \n    function(Bokeh) {\n      \n    },\n    function(Bokeh) {\n      console.log(\"Bokeh: injecting CSS: https://cdn.pydata.org/bokeh/release/bokeh-1.0.2.min.css\");\n      Bokeh.embed.inject_css(\"https://cdn.pydata.org/bokeh/release/bokeh-1.0.2.min.css\");\n      console.log(\"Bokeh: injecting CSS: https://cdn.pydata.org/bokeh/release/bokeh-widgets-1.0.2.min.css\");\n      Bokeh.embed.inject_css(\"https://cdn.pydata.org/bokeh/release/bokeh-widgets-1.0.2.min.css\");\n      console.log(\"Bokeh: injecting CSS: https://cdn.pydata.org/bokeh/release/bokeh-tables-1.0.2.min.css\");\n      Bokeh.embed.inject_css(\"https://cdn.pydata.org/bokeh/release/bokeh-tables-1.0.2.min.css\");\n    }\n  ];\n\n  function run_inline_js() {\n    \n    if ((root.Bokeh !== undefined) || (force === true)) {\n      for (var i = 0; i < inline_js.length; i++) {\n        inline_js[i].call(root, root.Bokeh);\n      }if (force === true) {\n        display_loaded();\n      }} else if (Date.now() < root._bokeh_timeout) {\n      setTimeout(run_inline_js, 100);\n    } else if (!root._bokeh_failed_load) {\n      console.log(\"Bokeh: BokehJS failed to load within specified timeout.\");\n      root._bokeh_failed_load = true;\n    } else if (force !== true) {\n      var cell = $(document.getElementById(\"1001\")).parents('.cell').data().cell;\n      cell.output_area.append_execute_result(NB_LOAD_WARNING)\n    }\n\n  }\n\n  if (root._bokeh_is_loading === 0) {\n    console.log(\"Bokeh: BokehJS loaded, going straight to plotting\");\n    run_inline_js();\n  } else {\n    load_libs(js_urls, function() {\n      console.log(\"Bokeh: BokehJS plotting callback run at\", now());\n      run_inline_js();\n    });\n  }\n}(window));"
     },
     "metadata": {},
     "output_type": "display_data"
    }
   ],
   "source": [
    "# Function originally from Twitter Dev: https://twitterdev.github.io/do_more_with_twitter_data/clustering-users.html\n",
    "from bokeh.plotting import figure, ColumnDataSource, show, output_notebook; output_notebook()\n",
    "from bokeh.models import HoverTool\n",
    "\n",
    "def plot_tsne(df, title='t-SNE plot'):\n",
    "    # add our DataFrame as a ColumnDataSource for Bokeh\n",
    "    plot_data = ColumnDataSource(df)\n",
    "    # configure the chart\n",
    "    tsne_plot = figure(title=title, plot_width=800, plot_height=700, tools=('pan, box_zoom, reset'))\n",
    "    # add a hover tool to display words on roll-over\n",
    "    tsne_plot.add_tools(\n",
    "        HoverTool(tooltips = \"\"\"<div style=\"width: 400px;\">(@label)(@ @username) @text</div>\"\"\")\n",
    "    )\n",
    "    # draw the words as circles on the plot\n",
    "    tsne_plot.circle('x_val', 'y_val',\n",
    "                     source=plot_data,\n",
    "                     color='color',\n",
    "                     line_alpha=0.2,\n",
    "                     fill_alpha=0.1,\n",
    "                     size=7,\n",
    "                     hover_line_color='black')\n",
    "    # configure visual elements of the plot\n",
    "    tsne_plot.title.text_font_size = '12pt'\n",
    "    tsne_plot.xaxis.visible = False\n",
    "    tsne_plot.yaxis.visible = False\n",
    "    tsne_plot.grid.grid_line_color = None\n",
    "    tsne_plot.outline_line_color = None\n",
    "    return tsne_plot"
   ]
  },
  {
   "cell_type": "markdown",
   "metadata": {},
   "source": [
    "### Add cluster sample counts and percentages\n",
    "\n",
    "Before plotting your modules, perhaps add a new column with the percentage of the clusters share of tweets to the total for the module. This can help you see how the modeled clusters do not always mean they represenet a significant proportion of the sampled tweets. \n",
    "\n",
    "This information can help provide some additional context, when naming the module, or considering which modules and their features to trace and qualitatively code further.\n",
    "\n",
    "You can also combine these dataframes and export them as CSV files for later analysis."
   ]
  },
  {
   "cell_type": "code",
   "execution_count": null,
   "metadata": {},
   "outputs": [],
   "source": [
    "# Add new percentage ratios for sampled data for comparison\n",
    "dict_samples['1']['obj'].km_plottable['cluster_counts'] = dict_samples['1']['obj'].km_plottable.groupby('label')['label'].transform('count')\n",
    "dict_samples['1']['obj'].km_plottable['cluster_perc'] = (dict_samples['1']['obj'].km_plottable.groupby('label')['label'].transform(lambda l: (l / len(dict_samples['1']['obj'].km_plottable))*100))\n",
    "dict_samples['1']['obj'].km_plottable[:10]"
   ]
  },
  {
   "cell_type": "code",
   "execution_count": 62,
   "metadata": {},
   "outputs": [
    {
     "data": {
      "text/html": [
       "\n",
       "\n",
       "\n",
       "\n",
       "\n",
       "\n",
       "  <div class=\"bk-root\" id=\"52cdbfe2-de9e-4d53-b8b1-57e3a2778230\"></div>\n"
      ]
     },
     "metadata": {},
     "output_type": "display_data"
    },
    {
     "data": {
      "application/javascript": [
       "(function(root) {\n",
       "  function embed_document(root) {\n",
       "    \n",
       "  var docs_json = {\"a3ad6587-85fb-4fe3-a907-68b0dfbf3144\":{\"roots\":{\"references\":[{\"attributes\":{\"below\":[{\"id\":\"1014\",\"type\":\"LinearAxis\"}],\"left\":[{\"id\":\"1019\",\"type\":\"LinearAxis\"}],\"outline_line_color\":{\"value\":null},\"plot_height\":700,\"plot_width\":800,\"renderers\":[{\"id\":\"1014\",\"type\":\"LinearAxis\"},{\"id\":\"1018\",\"type\":\"Grid\"},{\"id\":\"1019\",\"type\":\"LinearAxis\"},{\"id\":\"1023\",\"type\":\"Grid\"},{\"id\":\"1028\",\"type\":\"BoxAnnotation\"},{\"id\":\"1039\",\"type\":\"GlyphRenderer\"}],\"title\":{\"id\":\"1003\",\"type\":\"Title\"},\"toolbar\":{\"id\":\"1027\",\"type\":\"Toolbar\"},\"x_range\":{\"id\":\"1006\",\"type\":\"DataRange1d\"},\"x_scale\":{\"id\":\"1010\",\"type\":\"LinearScale\"},\"y_range\":{\"id\":\"1008\",\"type\":\"DataRange1d\"},\"y_scale\":{\"id\":\"1012\",\"type\":\"LinearScale\"}},\"id\":\"1004\",\"subtype\":\"Figure\",\"type\":\"Plot\"},{\"attributes\":{},\"id\":\"1010\",\"type\":\"LinearScale\"},{\"attributes\":{},\"id\":\"1015\",\"type\":\"BasicTicker\"},{\"attributes\":{},\"id\":\"1026\",\"type\":\"ResetTool\"},{\"attributes\":{\"callback\":null,\"data\":{\"color\":[\"#db8357\",\"#d757db\",\"#c1db57\",\"#57dbd7\",\"#73db57\",\"#db57cd\",\"#db5773\",\"#dbd757\",\"#db5791\",\"#dbc557\",\"#57a3db\",\"#db9b57\",\"#db9b57\",\"#dba157\",\"#dbc557\",\"#dbb957\",\"#57db77\",\"#57db9b\",\"#575bdb\",\"#dbd757\",\"#8357db\",\"#db7757\",\"#db7d57\",\"#db6b57\",\"#57d3db\",\"#d9db57\",\"#57c7db\",\"#5773db\",\"#db57a9\",\"#57db89\",\"#7757db\",\"#5785db\",\"#57db77\",\"#6ddb57\",\"#5797db\",\"#57dbbf\",\"#bbdb57\",\"#73db57\",\"#db8957\",\"#db57af\",\"#a3db57\",\"#cddb57\",\"#85db57\",\"#dbd757\",\"#db7157\",\"#73db57\",\"#db9b57\",\"#57dbd7\",\"#7157db\",\"#57a9db\",\"#db7157\",\"#bbdb57\",\"#dbc557\",\"#dbd757\",\"#dbc557\",\"#57dbb9\",\"#c1db57\",\"#d9db57\",\"#dbd757\",\"#57c1db\",\"#db7d57\",\"#85db57\",\"#db7157\",\"#57db9b\",\"#db57cd\",\"#57db59\",\"#7d57db\",\"#db6b57\",\"#d157db\",\"#dbb357\",\"#db6b57\",\"#97db57\",\"#57d3db\",\"#db7157\",\"#57afdb\",\"#57db77\",\"#57db71\",\"#cb57db\",\"#c557db\",\"#dbc557\",\"#db9b57\",\"#6b57db\",\"#dbbf57\",\"#97db57\",\"#dbb357\",\"#57db89\",\"#db5767\",\"#d9db57\",\"#d9db57\",\"#dbad57\",\"#5779db\",\"#dbd757\",\"#73db57\",\"#db5791\",\"#db9b57\",\"#c1db57\",\"#57db9b\",\"#57c1db\",\"#57dbc5\",\"#57dbbf\",\"#db5791\",\"#79db57\",\"#57a3db\",\"#db6b57\",\"#85db57\",\"#dbd757\",\"#dbbf57\",\"#85db57\",\"#9ddb57\",\"#db9557\",\"#57db77\",\"#dbbf57\",\"#b357db\",\"#57dbbf\",\"#67db57\",\"#dbd157\",\"#5f57db\",\"#db57d9\",\"#5773db\",\"#57db83\",\"#d9db57\",\"#9b57db\",\"#db7157\",\"#db9b57\",\"#57db77\",\"#dbbf57\",\"#d3db57\",\"#db5791\",\"#7fdb57\",\"#57db65\",\"#575bdb\",\"#57dbbf\",\"#db6b57\",\"#57db65\",\"#85db57\",\"#dbc557\",\"#db57cd\",\"#7157db\",\"#db57a3\",\"#db57d9\",\"#57b5db\",\"#57dbd1\",\"#db5779\",\"#db6b57\",\"#a3db57\",\"#85db57\",\"#57dbbf\",\"#d9db57\",\"#db57d3\",\"#57dbc5\",\"#9557db\",\"#57dbd1\",\"#db7757\",\"#79db57\",\"#db575b\",\"#8957db\",\"#cddb57\",\"#5791db\",\"#97db57\",\"#dbb957\",\"#73db57\",\"#5779db\",\"#57b5db\",\"#57dba1\",\"#db8f57\",\"#57dba7\",\"#bbdb57\",\"#57afdb\",\"#d9db57\",\"#d9db57\",\"#57db9b\",\"#6b57db\",\"#dbb957\",\"#85db57\",\"#db57c1\",\"#57dbbf\",\"#c7db57\",\"#5773db\",\"#d9db57\",\"#57db77\",\"#db9b57\",\"#db6b57\",\"#db7757\",\"#57dba1\",\"#57c1db\",\"#db7157\",\"#57afdb\",\"#db6b57\",\"#8357db\",\"#57db9b\",\"#dbb957\",\"#57db77\",\"#db7d57\",\"#57dbbf\",\"#57dbbf\",\"#c557db\",\"#db9b57\",\"#dbd757\",\"#db5785\",\"#db7757\",\"#57a9db\",\"#db57b5\",\"#dbd757\",\"#57db89\",\"#57db71\",\"#7d57db\",\"#db6b57\",\"#57db77\",\"#5f57db\",\"#dbbf57\",\"#7157db\",\"#6b57db\",\"#57db59\",\"#db7757\",\"#57db5f\",\"#57dba7\",\"#57dbb9\",\"#57dbb9\",\"#db57d3\",\"#d9db57\",\"#85db57\",\"#57d3db\",\"#d9db57\",\"#85db57\",\"#a757db\",\"#dba757\",\"#dbbf57\",\"#79db57\",\"#57d9db\",\"#57db5f\",\"#db6b57\",\"#a157db\",\"#57dba1\",\"#57c1db\",\"#dbc557\",\"#d9db57\",\"#db7757\",\"#db8357\",\"#d9db57\",\"#57dbcb\",\"#d9db57\",\"#db57c1\",\"#57db9b\",\"#db57b5\",\"#db578b\",\"#db9557\",\"#73db57\",\"#6ddb57\",\"#dbbf57\",\"#db7157\",\"#d9db57\",\"#dbcb57\",\"#d9db57\",\"#dbc557\",\"#db9557\",\"#57afdb\",\"#dbbf57\",\"#db5797\",\"#a9db57\",\"#57a9db\",\"#57dbd7\",\"#57dba1\",\"#db5785\",\"#db6b57\",\"#dbb957\",\"#db7157\",\"#6ddb57\",\"#c1db57\",\"#57db9b\",\"#57db77\",\"#db7757\",\"#d9db57\",\"#57dbbf\",\"#db8957\",\"#61db57\",\"#57c1db\",\"#db57d9\",\"#d757db\",\"#57db7d\",\"#79db57\",\"#57afdb\",\"#db9557\",\"#61db57\",\"#db7757\",\"#57db65\",\"#a9db57\",\"#9557db\",\"#db7757\",\"#6ddb57\",\"#db57b5\",\"#c1db57\",\"#57dbad\",\"#db9557\",\"#dbd157\",\"#85db57\",\"#dbb957\",\"#db57c1\",\"#dbd757\",\"#61db57\",\"#7757db\",\"#8957db\",\"#57db65\",\"#dba757\",\"#85db57\",\"#57db65\",\"#db57d9\",\"#db57d9\",\"#d3db57\",\"#db9b57\",\"#57dbcb\",\"#57dbb9\",\"#85db57\",\"#dbd157\",\"#57dba1\",\"#a9db57\",\"#9557db\",\"#7157db\",\"#57db65\",\"#afdb57\",\"#85db57\",\"#578bdb\",\"#db5773\",\"#57dbd7\",\"#a9db57\",\"#db6b57\",\"#57db95\",\"#dbb957\",\"#db57a9\",\"#57a3db\",\"#57dba7\",\"#dbbf57\",\"#61db57\",\"#d757db\",\"#dbd757\",\"#57b5db\",\"#577fdb\",\"#a9db57\",\"#dbc557\",\"#57db95\",\"#db5767\",\"#a9db57\",\"#dbd757\",\"#dbb957\",\"#579ddb\",\"#57dbbf\",\"#dbb957\",\"#db57d9\",\"#57dbb9\",\"#db8f57\",\"#db8357\",\"#db57c1\",\"#d9db57\",\"#dbbf57\",\"#57db89\",\"#bf57db\",\"#dbcb57\",\"#57bbdb\",\"#b357db\",\"#57dbbf\",\"#db5785\",\"#dbb957\",\"#57c1db\",\"#57db59\",\"#57db5f\",\"#c1db57\",\"#57dbad\",\"#db5773\",\"#97db57\",\"#6ddb57\",\"#db57c7\",\"#57dbad\",\"#57dbbf\",\"#7757db\",\"#dbd757\",\"#61db57\",\"#db6b57\",\"#8bdb57\",\"#d3db57\",\"#db9557\",\"#db5773\",\"#db9b57\",\"#d9db57\",\"#85db57\",\"#d9db57\",\"#db6b57\",\"#57d3db\",\"#a9db57\",\"#57db77\",\"#57dbc5\",\"#57dbbf\",\"#73db57\",\"#7fdb57\",\"#57afdb\",\"#c7db57\",\"#dba157\",\"#d9db57\",\"#d9db57\",\"#c557db\",\"#dbbf57\",\"#db578b\",\"#db7157\",\"#dbd157\",\"#db57d9\",\"#8bdb57\",\"#57c1db\",\"#57db95\",\"#576ddb\",\"#61db57\",\"#9557db\",\"#dbbf57\",\"#a9db57\",\"#db7757\",\"#dbd757\",\"#d757db\",\"#57db65\",\"#db576d\",\"#57dbbf\",\"#db5797\",\"#ad57db\",\"#57afdb\",\"#db8f57\",\"#7fdb57\",\"#cb57db\",\"#db9557\",\"#5791db\",\"#db579d\",\"#57db65\",\"#db7157\",\"#577fdb\",\"#57dbad\",\"#57dbd1\",\"#db5761\",\"#5767db\",\"#579ddb\",\"#dbc557\",\"#7157db\",\"#5791db\",\"#57afdb\",\"#73db57\",\"#d9db57\",\"#57dbbf\",\"#9ddb57\",\"#7157db\",\"#57bbdb\",\"#a157db\",\"#a9db57\",\"#57afdb\",\"#a9db57\",\"#dbbf57\",\"#57db65\",\"#5f57db\",\"#db8357\",\"#dbd757\",\"#d3db57\",\"#5773db\",\"#57d9db\",\"#db8957\",\"#575bdb\",\"#c557db\",\"#db8357\",\"#db7157\",\"#db57b5\",\"#57db77\",\"#db7757\",\"#db5767\",\"#db578b\",\"#db57d9\",\"#dbc557\",\"#db6b57\",\"#5761db\",\"#57d9db\",\"#db8f57\",\"#dba757\",\"#577fdb\",\"#db57d3\",\"#57dbcb\",\"#db9557\",\"#57bbdb\",\"#db9557\",\"#db9557\",\"#db9557\",\"#d9db57\",\"#db9557\",\"#91db57\",\"#dbd757\",\"#73db57\",\"#db7157\",\"#85db57\",\"#6b57db\",\"#57db77\",\"#dbc557\",\"#9ddb57\",\"#db57d9\",\"#57db9b\",\"#db9b57\",\"#dbd757\",\"#db575b\",\"#db5797\",\"#85db57\",\"#dbcb57\",\"#db5761\",\"#6ddb57\",\"#db9557\",\"#dbbf57\",\"#d9db57\",\"#db57c1\",\"#dbbf57\",\"#dbb357\",\"#57db77\",\"#db7157\",\"#db7d57\",\"#7157db\",\"#61db57\",\"#9ddb57\",\"#57db7d\",\"#a3db57\",\"#579ddb\",\"#57afdb\",\"#91db57\",\"#57dba7\",\"#57a9db\",\"#db5791\",\"#57db95\",\"#57dbc5\",\"#db57d9\",\"#db9557\",\"#5f57db\",\"#57db89\",\"#61db57\",\"#db5791\",\"#db5791\",\"#7157db\",\"#57db83\",\"#57dbcb\",\"#db8357\",\"#5791db\",\"#57dbbf\",\"#57db77\",\"#db57cd\",\"#57dbb9\",\"#5779db\",\"#db7757\",\"#db8357\",\"#57db9b\",\"#57db9b\",\"#db9557\",\"#57dbbf\",\"#db57c1\",\"#97db57\",\"#7fdb57\",\"#db57cd\",\"#5791db\",\"#5bdb57\",\"#57db83\",\"#57c1db\",\"#8957db\",\"#57afdb\",\"#b957db\",\"#dbc557\",\"#57dbcb\",\"#db57b5\",\"#57db7d\",\"#57db8f\",\"#db7157\",\"#57dbbf\",\"#9ddb57\",\"#7fdb57\",\"#57db65\",\"#91db57\",\"#57dbbf\",\"#d9db57\",\"#85db57\",\"#85db57\",\"#dbb957\",\"#db7757\",\"#dbb957\",\"#a3db57\",\"#db8357\",\"#5797db\",\"#578bdb\",\"#6b57db\",\"#dbb957\",\"#db8357\",\"#db57a9\",\"#db5957\",\"#db5957\",\"#db8957\",\"#db9557\",\"#db9557\",\"#bbdb57\",\"#57dbcb\",\"#db9557\",\"#db9557\",\"#dbad57\",\"#bf57db\",\"#a3db57\",\"#576ddb\",\"#a9db57\",\"#cddb57\",\"#c557db\",\"#5f57db\",\"#db8357\",\"#57afdb\",\"#5785db\",\"#bbdb57\",\"#db5767\",\"#a9db57\",\"#57db95\",\"#bf57db\",\"#57db5f\",\"#db5785\",\"#db57b5\",\"#d9db57\",\"#57db59\",\"#575bdb\",\"#578bdb\",\"#5f57db\",\"#57c1db\",\"#577fdb\",\"#db9557\",\"#db9557\",\"#a3db57\",\"#db576d\",\"#db7157\",\"#db5785\",\"#db5791\",\"#57dba7\",\"#b5db57\",\"#db6b57\",\"#61db57\",\"#dbc557\",\"#dbc557\",\"#57a9db\",\"#db57d9\",\"#db7d57\",\"#c1db57\",\"#57db71\",\"#db7d57\",\"#5785db\",\"#57db71\",\"#57db77\",\"#d9db57\",\"#db579d\",\"#5791db\",\"#db57a9\",\"#dbc557\",\"#57db5f\",\"#57d9db\",\"#57db5f\",\"#57db95\",\"#db9557\",\"#db7157\",\"#db5767\",\"#db5f57\",\"#5761db\",\"#dbc557\",\"#db6b57\",\"#57afdb\",\"#db7157\",\"#c1db57\",\"#db57b5\",\"#db7157\",\"#dbcb57\",\"#57d3db\",\"#577fdb\",\"#dbb357\",\"#57afdb\",\"#57d9db\",\"#5785db\",\"#db5761\",\"#dbc557\",\"#57db89\",\"#dbc557\",\"#db7157\",\"#dbb957\",\"#db6b57\",\"#57db95\",\"#6ddb57\",\"#dbc557\",\"#d3db57\",\"#db5785\",\"#db57a9\",\"#57dbd1\",\"#57dbc5\",\"#db5f57\",\"#db7157\",\"#db5767\",\"#8f57db\",\"#61db57\",\"#57dbd7\",\"#dbad57\",\"#85db57\",\"#57dbbf\",\"#57db5f\",\"#db6b57\",\"#dbc557\",\"#db5f57\",\"#db5767\",\"#dbc557\",\"#5761db\",\"#57dbb9\",\"#57c1db\",\"#73db57\",\"#9557db\",\"#db57d9\",\"#79db57\",\"#57dbbf\",\"#db7157\",\"#57dbad\",\"#db5773\",\"#cb57db\",\"#7757db\",\"#c1db57\",\"#db57d9\",\"#57dba1\",\"#a3db57\",\"#c7db57\",\"#57db8f\",\"#6b57db\",\"#7fdb57\",\"#a3db57\",\"#5761db\",\"#57dbd7\",\"#57dbd7\",\"#db7157\",\"#db6557\",\"#db5791\",\"#57afdb\",\"#57c1db\",\"#57dbc5\",\"#dbb357\",\"#57db95\",\"#db6b57\",\"#d9db57\",\"#db8357\",\"#7fdb57\",\"#db57a9\",\"#db5797\",\"#db5785\",\"#db7757\",\"#dbb357\",\"#dbd757\",\"#dbcb57\",\"#db57d9\",\"#dbc557\",\"#b357db\",\"#57db89\",\"#db57d9\",\"#576ddb\",\"#d9db57\",\"#8f57db\",\"#cb57db\",\"#db5761\",\"#db5791\",\"#db7157\",\"#57db5f\",\"#57a9db\",\"#7157db\",\"#57a3db\",\"#a3db57\",\"#dbc557\",\"#57dbbf\",\"#85db57\",\"#7157db\",\"#d157db\",\"#5773db\",\"#57dbd1\",\"#97db57\",\"#7157db\",\"#db7157\",\"#57dbad\",\"#afdb57\",\"#db7d57\",\"#db7157\",\"#57db71\",\"#57db59\",\"#85db57\",\"#57dbc5\",\"#9ddb57\",\"#dbad57\",\"#db7157\",\"#db5f57\",\"#ad57db\",\"#dbd757\",\"#67db57\",\"#57db83\",\"#57db77\",\"#db57a9\",\"#57dbc5\",\"#dbc557\",\"#dbc557\",\"#a157db\",\"#85db57\",\"#7157db\",\"#db9b57\",\"#57dbad\",\"#9557db\",\"#dbcb57\",\"#5bdb57\",\"#5bdb57\",\"#d9db57\",\"#d3db57\",\"#57db65\",\"#db9557\",\"#db5785\",\"#575bdb\",\"#db7157\",\"#db6b57\",\"#db7157\",\"#5bdb57\",\"#5761db\",\"#db9557\",\"#577fdb\",\"#5773db\",\"#dbad57\",\"#85db57\",\"#dbb357\",\"#dbbf57\",\"#9557db\",\"#67db57\",\"#57db9b\",\"#db57d9\",\"#db7157\",\"#dbc557\",\"#61db57\",\"#afdb57\",\"#57dba1\",\"#7157db\",\"#57db65\",\"#db6b57\",\"#57db83\",\"#c1db57\",\"#db7157\",\"#db5791\",\"#57db95\",\"#8f57db\",\"#85db57\",\"#6557db\",\"#57db71\",\"#dbc557\",\"#cb57db\",\"#d3db57\",\"#a157db\",\"#db8357\",\"#a9db57\",\"#dba157\",\"#dbcb57\",\"#57d9db\",\"#b357db\",\"#dbc557\",\"#dba157\",\"#67db57\",\"#dbcb57\",\"#a3db57\",\"#a157db\",\"#c557db\",\"#db8357\",\"#dbb957\",\"#57dbad\",\"#57db7d\",\"#57c1db\",\"#db7157\",\"#db9557\",\"#dbd757\",\"#c7db57\",\"#c557db\",\"#57db5f\",\"#5779db\",\"#c1db57\",\"#7d57db\",\"#afdb57\",\"#a9db57\",\"#db9b57\",\"#5767db\",\"#9557db\",\"#dbc557\",\"#578bdb\",\"#6b57db\",\"#dbc557\",\"#61db57\",\"#db6b57\",\"#61db57\",\"#7157db\",\"#5957db\",\"#dbc557\",\"#dbc557\",\"#dba757\",\"#7fdb57\",\"#d3db57\",\"#dbc557\",\"#5bdb57\",\"#db7157\",\"#57db95\",\"#57afdb\",\"#db57d3\",\"#a3db57\",\"#57dbcb\",\"#5957db\",\"#dbd157\",\"#57db77\",\"#dbad57\",\"#c557db\",\"#7757db\",\"#db9557\",\"#db6b57\",\"#db5767\",\"#5957db\",\"#57dbbf\",\"#d757db\",\"#cddb57\",\"#6ddb57\",\"#d3db57\",\"#9ddb57\",\"#d9db57\",\"#db7157\",\"#db5f57\",\"#577fdb\",\"#57b5db\",\"#db7157\",\"#57dbd7\",\"#57b5db\",\"#db8357\",\"#57db77\",\"#db7d57\",\"#db9b57\",\"#85db57\",\"#db6b57\",\"#db57d9\",\"#73db57\",\"#db9557\",\"#57dba7\",\"#dbcb57\",\"#db6557\",\"#db7157\",\"#dbd757\",\"#575bdb\",\"#57db59\",\"#57dbd1\",\"#57c1db\",\"#5957db\",\"#57dbcb\",\"#dbc557\",\"#db7157\",\"#db57d9\",\"#c7db57\",\"#db7157\",\"#a3db57\",\"#dbc557\",\"#d3db57\",\"#57dbd1\",\"#db7157\",\"#db7157\",\"#6ddb57\",\"#bbdb57\",\"#8957db\",\"#57afdb\",\"#dbc557\",\"#db57c7\",\"#57db89\",\"#61db57\",\"#a157db\",\"#8f57db\",\"#dbc557\",\"#db57d9\",\"#8f57db\",\"#db6b57\",\"#7157db\",\"#db7757\",\"#d3db57\",\"#8bdb57\",\"#db7157\",\"#57dbb3\",\"#db6b57\",\"#57db7d\",\"#5bdb57\",\"#dba757\",\"#a157db\",\"#6557db\",\"#5797db\",\"#7fdb57\",\"#dbcb57\",\"#5791db\",\"#db5773\",\"#db7157\",\"#57dbc5\",\"#d3db57\",\"#57db95\",\"#57db65\",\"#dbcb57\",\"#57db6b\",\"#57db7d\",\"#d9db57\",\"#61db57\",\"#dbb357\",\"#db5957\",\"#c1db57\",\"#cddb57\",\"#57dbcb\",\"#5773db\",\"#d3db57\",\"#57dbbf\",\"#db7157\",\"#d9db57\",\"#dbb957\",\"#57db71\",\"#57dbb9\",\"#dbc557\",\"#db576d\",\"#dbad57\",\"#dbc557\",\"#91db57\",\"#dbad57\",\"#57c1db\",\"#a3db57\",\"#db8357\",\"#57db9b\",\"#dbc557\",\"#d157db\",\"#b357db\",\"#d3db57\",\"#db577f\",\"#57afdb\",\"#d3db57\",\"#db577f\",\"#db7d57\",\"#cddb57\",\"#dbd757\",\"#dba757\",\"#db9557\",\"#db57af\",\"#57cddb\",\"#db7157\",\"#57afdb\",\"#85db57\",\"#a157db\",\"#57dbbf\",\"#db8357\",\"#db9557\",\"#dbd757\",\"#57c1db\",\"#dbd757\",\"#dbbf57\",\"#6b57db\",\"#d3db57\",\"#dbcb57\",\"#57db7d\",\"#a157db\",\"#dbc557\",\"#576ddb\",\"#b5db57\",\"#57dbad\",\"#db9557\",\"#dbc557\",\"#57db89\",\"#a9db57\",\"#d9db57\",\"#a757db\",\"#dbcb57\",\"#dba757\",\"#57dbcb\",\"#85db57\",\"#57db8f\",\"#85db57\",\"#db57d3\",\"#db6b57\",\"#c1db57\",\"#57db77\",\"#dbb357\",\"#57db83\",\"#57dbc5\",\"#6b57db\",\"#9557db\",\"#db5957\",\"#57db65\",\"#57db83\",\"#5797db\",\"#dbc557\",\"#db57d9\",\"#67db57\",\"#57dbad\",\"#57afdb\",\"#a3db57\",\"#db5785\",\"#bf57db\",\"#db7157\",\"#dbc557\",\"#dbc557\",\"#d3db57\",\"#7157db\",\"#57db89\",\"#9557db\",\"#db57cd\",\"#57a3db\",\"#db57cd\",\"#a3db57\",\"#57a3db\",\"#57b5db\",\"#57dbad\",\"#57d9db\",\"#a157db\",\"#dbcb57\",\"#dbbf57\",\"#5773db\",\"#db8357\",\"#6ddb57\",\"#dbad57\",\"#db9557\",\"#57db5f\",\"#db7157\",\"#57db65\",\"#d3db57\",\"#dbc557\",\"#dbd757\",\"#97db57\",\"#db8357\",\"#db8357\",\"#85db57\",\"#5bdb57\",\"#73db57\",\"#57db83\",\"#db578b\",\"#db7157\",\"#db576d\",\"#d757db\",\"#85db57\",\"#db7157\",\"#61db57\",\"#57db9b\",\"#5773db\",\"#db8357\",\"#9ddb57\",\"#57db83\",\"#db7757\",\"#57db89\",\"#85db57\",\"#db7757\",\"#57dbd7\",\"#a157db\",\"#91db57\",\"#dbc557\",\"#d3db57\",\"#57dbad\",\"#85db57\",\"#db6b57\",\"#dbc557\",\"#85db57\",\"#d3db57\",\"#b5db57\",\"#cddb57\",\"#57b5db\",\"#57db77\",\"#d3db57\",\"#5779db\",\"#57db89\",\"#57db59\",\"#c1db57\",\"#5bdb57\",\"#57db6b\",\"#5957db\",\"#db57bb\",\"#dbc557\",\"#db9557\",\"#db8357\",\"#57db89\",\"#dbcb57\",\"#57d3db\",\"#57db95\",\"#db6b57\",\"#57db5f\",\"#db6b57\",\"#57dbad\",\"#db7157\",\"#57dbc5\",\"#57d9db\",\"#57db65\",\"#57dbcb\",\"#db5761\",\"#73db57\",\"#db8357\",\"#57db9b\",\"#57bbdb\",\"#db576d\",\"#57afdb\",\"#57dbb9\",\"#dbb357\",\"#db5773\",\"#a9db57\",\"#db7157\",\"#db57a3\",\"#57dbcb\",\"#57dbc5\",\"#a9db57\",\"#576ddb\",\"#578bdb\",\"#db7157\",\"#57dbb3\",\"#57db71\",\"#db8357\",\"#db7757\",\"#cddb57\",\"#5773db\",\"#57db65\",\"#db5f57\",\"#db7157\",\"#d9db57\",\"#57db95\",\"#a3db57\",\"#b957db\",\"#a9db57\",\"#57c7db\",\"#db9557\",\"#db9557\",\"#dbd757\",\"#57db7d\",\"#dbbf57\",\"#dbc557\",\"#dbad57\",\"#57dbcb\",\"#c1db57\",\"#57dbbf\",\"#a3db57\",\"#a9db57\",\"#d9db57\",\"#a757db\",\"#57db65\",\"#dbd757\",\"#7757db\",\"#c557db\",\"#dbad57\",\"#db7157\",\"#576ddb\",\"#8bdb57\",\"#a3db57\",\"#db8357\",\"#db9b57\",\"#576ddb\",\"#dbcb57\",\"#57dbcb\",\"#57db95\",\"#db9557\",\"#db9557\",\"#db9557\",\"#dbc557\",\"#db57a9\",\"#57d3db\",\"#db57bb\",\"#db57af\",\"#bbdb57\",\"#a157db\",\"#57afdb\",\"#57dbad\",\"#db5779\",\"#57db65\",\"#5773db\",\"#d757db\",\"#8357db\",\"#7157db\",\"#79db57\",\"#dbc557\",\"#79db57\",\"#a3db57\",\"#6b57db\",\"#57db71\",\"#dbc557\",\"#57afdb\",\"#57dbb3\",\"#57dba7\",\"#a3db57\",\"#db5767\",\"#dba757\",\"#57c1db\",\"#5767db\",\"#57dba1\",\"#57db95\",\"#57dba7\",\"#d9db57\",\"#57dbc5\",\"#57db95\",\"#57db77\",\"#c7db57\",\"#57db71\",\"#db8357\",\"#57db95\",\"#db57d9\",\"#a9db57\",\"#57dbc5\",\"#dbb357\",\"#db9557\",\"#bf57db\",\"#dbad57\",\"#a3db57\",\"#57db7d\",\"#db7157\",\"#dbc557\",\"#dbbf57\",\"#b5db57\",\"#5779db\",\"#db7757\",\"#db7157\",\"#9b57db\",\"#57db83\",\"#dbb357\",\"#d9db57\",\"#db7157\",\"#6ddb57\",\"#dbd757\",\"#db9557\",\"#db8357\",\"#5bdb57\",\"#db9557\",\"#57db71\",\"#bbdb57\",\"#d157db\",\"#57db89\",\"#57d9db\",\"#57db77\",\"#db57d3\",\"#97db57\",\"#a157db\",\"#57db89\",\"#5779db\",\"#578bdb\",\"#db7157\",\"#dbcb57\",\"#db57d9\",\"#dbb357\",\"#57db77\",\"#dbcb57\",\"#73db57\",\"#57db65\",\"#579ddb\",\"#57db65\",\"#57db5f\",\"#db57a9\",\"#57c7db\",\"#db6b57\",\"#d9db57\",\"#57db7d\",\"#db7157\",\"#dbbf57\",\"#dbc557\",\"#db577f\",\"#57db77\",\"#dbcb57\",\"#c557db\",\"#db57af\",\"#dbc557\",\"#dbd757\",\"#57a9db\",\"#67db57\",\"#6ddb57\",\"#a9db57\",\"#c1db57\",\"#57bbdb\",\"#57d3db\",\"#a3db57\",\"#57afdb\",\"#57dbad\",\"#575bdb\",\"#8357db\",\"#73db57\",\"#57d9db\",\"#d9db57\",\"#db576d\",\"#67db57\",\"#db5761\",\"#db9557\",\"#6ddb57\",\"#dbc557\",\"#db8357\",\"#db9557\",\"#db9557\",\"#85db57\",\"#db5773\",\"#57afdb\",\"#db9557\",\"#a3db57\",\"#dbad57\",\"#79db57\",\"#dbd757\",\"#57db89\",\"#5f57db\",\"#db7157\",\"#dbad57\",\"#db7157\",\"#57afdb\",\"#c1db57\",\"#5791db\",\"#c1db57\",\"#57db89\",\"#578bdb\",\"#db7157\",\"#db5957\",\"#dbc557\",\"#7fdb57\",\"#577fdb\",\"#79db57\",\"#dbcb57\",\"#dbb957\",\"#57dbcb\",\"#7157db\",\"#57dbc5\",\"#bbdb57\",\"#5957db\",\"#dbd757\",\"#db6b57\",\"#7157db\",\"#57db71\",\"#d9db57\",\"#db8f57\",\"#db57b5\",\"#dbc557\",\"#57c1db\",\"#dbb957\",\"#5779db\",\"#db7157\",\"#57db7d\",\"#db7157\",\"#db9557\",\"#67db57\",\"#db9b57\",\"#db7157\",\"#57dbd7\",\"#57dbad\",\"#57dbd1\",\"#dbc557\",\"#67db57\",\"#bbdb57\",\"#db7757\",\"#db9557\",\"#67db57\",\"#db8357\",\"#cddb57\",\"#bbdb57\",\"#db7157\",\"#db7157\",\"#db8357\",\"#85db57\",\"#a9db57\",\"#85db57\",\"#57dbad\",\"#dbc557\",\"#5785db\",\"#db7157\",\"#bbdb57\",\"#c1db57\",\"#57db59\",\"#57db71\",\"#dbc557\",\"#5773db\",\"#db7757\",\"#85db57\",\"#57d9db\",\"#db57bb\",\"#5791db\",\"#57db89\",\"#db7157\",\"#db7157\",\"#d9db57\",\"#db577f\",\"#8957db\",\"#db9557\",\"#db9557\",\"#db9557\",\"#dbd757\",\"#c7db57\",\"#db7757\",\"#57db77\",\"#b357db\",\"#7157db\",\"#dbc557\",\"#61db57\",\"#85db57\",\"#9ddb57\",\"#85db57\",\"#57c1db\",\"#d9db57\",\"#dba157\",\"#73db57\",\"#57d9db\",\"#dbcb57\",\"#db7157\",\"#5773db\",\"#dbc557\",\"#57db71\",\"#dbb357\",\"#db7d57\",\"#8957db\",\"#577fdb\",\"#57b5db\",\"#85db57\",\"#db57a3\",\"#dbc557\",\"#57dbad\",\"#dbcb57\",\"#c557db\",\"#57db83\",\"#dba157\",\"#db9b57\",\"#5773db\",\"#dbc557\",\"#dbc557\",\"#57db5f\",\"#db7157\",\"#57cddb\",\"#dbd757\",\"#db57af\",\"#57db77\",\"#9ddb57\",\"#dba757\",\"#57db65\",\"#73db57\",\"#57db89\",\"#57d9db\",\"#576ddb\",\"#7fdb57\",\"#db5779\",\"#6b57db\",\"#db7757\",\"#57db7d\",\"#bbdb57\",\"#dbd157\",\"#9ddb57\",\"#d3db57\",\"#a9db57\",\"#dbd757\",\"#57db9b\",\"#db8357\",\"#bbdb57\",\"#db5767\",\"#578bdb\",\"#57b5db\",\"#db5767\",\"#db577f\",\"#dbb357\",\"#73db57\",\"#d9db57\",\"#db579d\",\"#5779db\",\"#db57d9\",\"#dbd757\",\"#57d3db\",\"#db9557\",\"#5957db\",\"#db9557\",\"#5773db\",\"#db8957\",\"#db9557\",\"#db9557\",\"#db9557\",\"#7fdb57\",\"#db9557\",\"#57d3db\",\"#57db9b\",\"#b957db\",\"#c557db\",\"#6557db\",\"#dbad57\",\"#db578b\",\"#a9db57\",\"#dbc557\",\"#dbb357\",\"#57dbbf\",\"#85db57\",\"#db7d57\",\"#57db7d\",\"#5779db\",\"#cb57db\",\"#57db9b\",\"#57d9db\",\"#a157db\",\"#7757db\",\"#57db71\",\"#d9db57\",\"#97db57\",\"#85db57\",\"#db6b57\",\"#dbcb57\",\"#57db95\",\"#db7157\",\"#dbd757\",\"#db9557\",\"#85db57\",\"#d9db57\",\"#db5797\",\"#5bdb57\",\"#bbdb57\",\"#db8357\",\"#db8357\",\"#db5797\",\"#8f57db\",\"#dbb357\",\"#73db57\",\"#d9db57\",\"#db8357\",\"#9557db\",\"#db8357\",\"#d157db\",\"#57db9b\",\"#db7157\",\"#576ddb\",\"#dbcb57\",\"#db7157\",\"#85db57\",\"#d9db57\",\"#7157db\",\"#576ddb\",\"#db9557\",\"#a9db57\",\"#575bdb\",\"#db5761\",\"#db9557\",\"#db8357\",\"#db9557\",\"#db9557\",\"#db9557\",\"#5957db\",\"#db57a3\",\"#db9557\",\"#5791db\",\"#db5957\",\"#5791db\",\"#57a9db\",\"#5779db\",\"#85db57\",\"#dbd157\",\"#85db57\",\"#61db57\",\"#57db65\",\"#a3db57\",\"#db9557\",\"#a3db57\",\"#db9557\",\"#db9557\",\"#57db71\",\"#db9557\",\"#db8357\",\"#57db9b\",\"#db8357\",\"#afdb57\",\"#57afdb\",\"#6557db\",\"#9557db\",\"#578bdb\",\"#57db89\",\"#a9db57\",\"#6ddb57\",\"#cb57db\",\"#dbc557\",\"#dbc557\",\"#5797db\",\"#db9557\",\"#57a9db\",\"#db9557\",\"#db6b57\",\"#57afdb\",\"#57db71\",\"#57db6b\",\"#57afdb\",\"#dbad57\",\"#dbc557\",\"#db9557\",\"#db7d57\",\"#db57cd\",\"#ad57db\",\"#db57bb\",\"#5791db\",\"#db9557\",\"#dba157\",\"#dbad57\",\"#a3db57\",\"#db577f\",\"#57db83\",\"#dbb957\",\"#db5761\",\"#7157db\",\"#db9557\",\"#dbd757\",\"#577fdb\",\"#57dbcb\",\"#57dbd7\",\"#7157db\",\"#57db71\",\"#dbcb57\",\"#d757db\",\"#57db95\",\"#dba757\",\"#db5767\",\"#db9557\",\"#57afdb\",\"#db57b5\",\"#57dbbf\",\"#a157db\",\"#57db95\",\"#db57a9\",\"#dbad57\",\"#57afdb\",\"#db9557\",\"#57afdb\",\"#d157db\",\"#ad57db\",\"#d9db57\",\"#57db65\",\"#c7db57\",\"#dbc557\",\"#57dba7\",\"#57db83\",\"#dbcb57\",\"#a9db57\",\"#dbd757\",\"#db5767\",\"#578bdb\",\"#db7757\",\"#d157db\",\"#577fdb\",\"#db9557\",\"#db8357\",\"#db9557\",\"#db8357\",\"#db9557\",\"#db9557\",\"#dbc557\",\"#dbc557\",\"#db8f57\",\"#bf57db\",\"#db9557\",\"#dbd757\",\"#57db77\",\"#dbc557\",\"#dba757\",\"#57db7d\",\"#d9db57\",\"#85db57\",\"#ad57db\",\"#c557db\",\"#d3db57\",\"#5773db\",\"#db9b57\",\"#576ddb\",\"#85db57\",\"#57db65\",\"#5779db\",\"#8357db\",\"#db7157\",\"#db8357\",\"#a3db57\",\"#db8357\",\"#db8357\",\"#a3db57\",\"#b957db\",\"#db9557\",\"#57dbd1\",\"#c1db57\",\"#57db77\",\"#61db57\",\"#7157db\",\"#57dbc5\",\"#d757db\",\"#57db65\",\"#db7157\",\"#dbd157\",\"#db7157\",\"#577fdb\",\"#85db57\",\"#db5f57\",\"#db7157\",\"#b5db57\",\"#7d57db\",\"#cddb57\",\"#57dbcb\",\"#b957db\",\"#5761db\",\"#5761db\",\"#57db7d\",\"#7157db\",\"#57dbd7\",\"#85db57\",\"#57db5f\",\"#57db71\",\"#5767db\",\"#dbc557\",\"#cb57db\",\"#db57c1\",\"#7757db\",\"#c557db\",\"#db7157\",\"#d757db\",\"#57dbad\",\"#dbc557\",\"#5761db\",\"#7757db\",\"#57db77\",\"#61db57\",\"#57dbbf\",\"#a157db\",\"#57db6b\",\"#dbc557\",\"#57db5f\",\"#57c1db\",\"#c1db57\",\"#db7157\",\"#dbcb57\",\"#dbcb57\",\"#dbc557\",\"#db7d57\",\"#57dbc5\",\"#61db57\",\"#575bdb\",\"#d9db57\",\"#a3db57\",\"#5f57db\",\"#577fdb\",\"#d3db57\",\"#61db57\",\"#9ddb57\",\"#db57d9\",\"#dbd757\",\"#61db57\",\"#afdb57\",\"#57db9b\",\"#7157db\",\"#7fdb57\",\"#5957db\",\"#57db95\",\"#576ddb\",\"#a3db57\",\"#c1db57\",\"#9557db\",\"#7d57db\",\"#575bdb\",\"#85db57\",\"#57db65\",\"#9b57db\",\"#db7d57\",\"#db5797\",\"#57db9b\",\"#dbc557\",\"#cddb57\",\"#db5767\",\"#bbdb57\",\"#db7757\",\"#c7db57\",\"#57a3db\",\"#578bdb\",\"#dbcb57\",\"#dbc557\",\"#dbc557\",\"#db7157\",\"#57dbcb\",\"#73db57\",\"#d9db57\",\"#7fdb57\",\"#5785db\",\"#db5779\",\"#57dbcb\",\"#578bdb\",\"#db9b57\",\"#9b57db\",\"#dba757\",\"#57a3db\",\"#d9db57\",\"#db9b57\",\"#57db9b\",\"#db8357\",\"#db9557\",\"#5957db\",\"#db9557\",\"#db9557\",\"#5797db\",\"#db9557\",\"#db9557\",\"#db8357\",\"#db9557\",\"#db576d\",\"#db9557\",\"#db9557\",\"#db9557\",\"#db9557\",\"#57db89\",\"#a3db57\",\"#57d3db\",\"#db8357\",\"#db9557\",\"#db9557\",\"#db9557\",\"#db8357\",\"#db9557\",\"#db9557\",\"#db575b\",\"#61db57\",\"#dbd757\",\"#bbdb57\",\"#db8357\",\"#dbad57\",\"#a3db57\",\"#a3db57\",\"#db8357\",\"#db9557\",\"#db9557\",\"#dbb957\",\"#d3db57\",\"#57db89\",\"#db9557\",\"#a3db57\",\"#db9557\",\"#dbd757\",\"#a157db\",\"#a3db57\",\"#db9557\",\"#57db9b\",\"#db9557\",\"#67db57\",\"#db9557\",\"#57a9db\",\"#db9557\",\"#5957db\",\"#db9557\",\"#5797db\",\"#57dba7\",\"#db575b\",\"#db8357\",\"#5bdb57\",\"#db57c7\",\"#db57cd\",\"#57a9db\",\"#a3db57\",\"#5bdb57\",\"#67db57\",\"#5797db\",\"#dbad57\",\"#57bbdb\",\"#db7757\",\"#6557db\",\"#a3db57\",\"#db5761\",\"#57afdb\",\"#57db77\",\"#8bdb57\",\"#5bdb57\",\"#5791db\",\"#db8957\",\"#db57d3\",\"#c557db\",\"#6b57db\",\"#dbd757\",\"#dbc557\",\"#5791db\",\"#db575b\",\"#dbd757\",\"#57b5db\",\"#dbd757\",\"#db57c1\",\"#57afdb\",\"#57bbdb\",\"#5f57db\",\"#dba757\",\"#a9db57\",\"#db578b\",\"#d157db\",\"#5785db\",\"#c7db57\",\"#dbd157\",\"#db8357\",\"#c1db57\",\"#57afdb\",\"#db57a3\",\"#db9b57\",\"#db578b\",\"#a9db57\",\"#dbad57\",\"#db9557\",\"#db7157\",\"#57db95\",\"#57dbd1\",\"#dbd757\",\"#57c7db\",\"#a3db57\",\"#dbcb57\",\"#57db8f\",\"#57db8f\",\"#97db57\",\"#db57a9\",\"#dbc557\",\"#5767db\",\"#57a9db\",\"#db7157\",\"#57dbad\",\"#577fdb\",\"#cddb57\",\"#a9db57\",\"#57afdb\",\"#57db89\",\"#db5797\",\"#578bdb\",\"#bbdb57\",\"#c7db57\",\"#5f57db\",\"#57db89\",\"#db579d\",\"#dbd757\",\"#c1db57\",\"#c1db57\",\"#c1db57\",\"#c1db57\",\"#c1db57\",\"#c1db57\",\"#9557db\",\"#7157db\",\"#7157db\",\"#db7157\",\"#db7157\",\"#db57d3\",\"#57dbd1\",\"#db7157\",\"#db7157\",\"#57dbad\",\"#db9557\",\"#57dbc5\",\"#a757db\",\"#57dbcb\",\"#db7157\",\"#a157db\",\"#85db57\",\"#57db71\",\"#57db8f\",\"#57db65\",\"#db7157\",\"#db57a9\",\"#db7d57\",\"#dbc557\",\"#dbc557\",\"#a757db\",\"#dbc557\",\"#dbc557\",\"#db6557\",\"#b357db\",\"#57afdb\",\"#dbc557\",\"#57dbd1\",\"#a157db\",\"#57dbad\",\"#db7157\",\"#d757db\",\"#d9db57\",\"#6ddb57\",\"#a157db\",\"#db57d9\",\"#db6b57\",\"#57dbad\",\"#db7157\",\"#57dbad\",\"#db6557\",\"#db57a9\",\"#db6b57\",\"#db6b57\",\"#7757db\",\"#9b57db\",\"#a157db\",\"#a157db\",\"#dbb957\",\"#db57d3\",\"#ad57db\",\"#d3db57\",\"#57db65\",\"#db7757\",\"#57db59\",\"#bbdb57\",\"#dbad57\",\"#db9557\",\"#7d57db\",\"#6557db\",\"#5f57db\",\"#db7757\",\"#a3db57\",\"#dbd157\",\"#dbad57\",\"#91db57\",\"#dbcb57\",\"#57dbbf\",\"#db57d9\",\"#db7157\",\"#db57c1\",\"#8bdb57\",\"#73db57\",\"#db7157\",\"#dbc557\",\"#57dbad\",\"#dbc557\",\"#57b5db\",\"#d3db57\",\"#db8357\",\"#db9557\",\"#67db57\",\"#db576d\",\"#db9557\",\"#db8957\",\"#db8357\",\"#db9557\",\"#db9557\",\"#d9db57\",\"#a3db57\",\"#db9b57\",\"#57dba7\",\"#578bdb\",\"#67db57\",\"#b957db\",\"#db8357\",\"#dbd757\",\"#5bdb57\",\"#57db89\",\"#a3db57\",\"#db57cd\",\"#67db57\",\"#576ddb\",\"#57db89\",\"#57afdb\"],\"index\":[0,1,2,3,4,5,6,7,8,9,10,11,12,13,14,15,16,17,18,19,20,21,22,23,24,25,26,27,28,29,30,31,32,33,34,35,36,37,38,39,40,41,42,43,44,45,46,47,48,49,50,51,52,53,54,55,56,57,58,59,60,61,62,63,64,65,66,67,68,69,70,71,72,73,74,75,76,77,78,79,80,81,82,83,84,85,86,87,88,89,90,91,92,93,94,95,96,97,98,99,100,101,102,103,104,105,106,107,108,109,110,111,112,113,114,115,116,117,118,119,120,121,122,123,124,125,126,127,128,129,130,131,132,133,134,135,136,137,138,139,140,141,142,143,144,145,146,147,148,149,150,151,152,153,154,155,156,157,158,159,160,161,162,163,164,165,166,167,168,169,170,171,172,173,174,175,176,177,178,179,180,181,182,183,184,185,186,187,188,189,190,191,192,193,194,195,196,197,198,199,200,201,202,203,204,205,206,207,208,209,210,211,212,213,214,215,216,217,218,219,220,221,222,223,224,225,226,227,228,229,230,231,232,233,234,235,236,237,238,239,240,241,242,243,244,245,246,247,248,249,250,251,252,253,254,255,256,257,258,259,260,261,262,263,264,265,266,267,268,269,270,271,272,273,274,275,276,277,278,279,280,281,282,283,284,285,286,287,288,289,290,291,292,293,294,295,296,297,298,299,300,301,302,303,304,305,306,307,308,309,310,311,312,313,314,315,316,317,318,319,320,321,322,323,324,325,326,327,328,329,330,331,332,333,334,335,336,337,338,339,340,341,342,343,344,345,346,347,348,349,350,351,352,353,354,355,356,357,358,359,360,361,362,363,364,365,366,367,368,369,370,371,372,373,374,375,376,377,378,379,380,381,382,383,384,385,386,387,388,389,390,391,392,393,394,395,396,397,398,399,400,401,402,403,404,405,406,407,408,409,410,411,412,413,414,415,416,417,418,419,420,421,422,423,424,425,426,427,428,429,430,431,432,433,434,435,436,437,438,439,440,441,442,443,444,445,446,447,448,449,450,451,452,453,454,455,456,457,458,459,460,461,462,463,464,465,466,467,468,469,470,471,472,473,474,475,476,477,478,479,480,481,482,483,484,485,486,487,488,489,490,491,492,493,494,495,496,497,498,499,500,501,502,503,504,505,506,507,508,509,510,511,512,513,514,515,516,517,518,519,520,521,522,523,524,525,526,527,528,529,530,531,532,533,534,535,536,537,538,539,540,541,542,543,544,545,546,547,548,549,550,551,552,553,554,555,556,557,558,559,560,561,562,563,564,565,566,567,568,569,570,571,572,573,574,575,576,577,578,579,580,581,582,583,584,585,586,587,588,589,590,591,592,593,594,595,596,597,598,599,600,601,602,603,604,605,606,607,608,609,610,611,612,613,614,615,616,617,618,619,620,621,622,623,624,625,626,627,628,629,630,631,632,633,634,635,636,637,638,639,640,641,642,643,644,645,646,647,648,649,650,651,652,653,654,655,656,657,658,659,660,661,662,663,664,665,666,667,668,669,670,671,672,673,674,675,676,677,678,679,680,681,682,683,684,685,686,687,688,689,690,691,692,693,694,695,696,697,698,699,700,701,702,703,704,705,706,707,708,709,710,711,712,713,714,715,716,717,718,719,720,721,722,723,724,725,726,727,728,729,730,731,732,733,734,735,736,737,738,739,740,741,742,743,744,745,746,747,748,749,750,751,752,753,754,755,756,757,758,759,760,761,762,763,764,765,766,767,768,769,770,771,772,773,774,775,776,777,778,779,780,781,782,783,784,785,786,787,788,789,790,791,792,793,794,795,796,797,798,799,800,801,802,803,804,805,806,807,808,809,810,811,812,813,814,815,816,817,818,819,820,821,822,823,824,825,826,827,828,829,830,831,832,833,834,835,836,837,838,839,840,841,842,843,844,845,846,847,848,849,850,851,852,853,854,855,856,857,858,859,860,861,862,863,864,865,866,867,868,869,870,871,872,873,874,875,876,877,878,879,880,881,882,883,884,885,886,887,888,889,890,891,892,893,894,895,896,897,898,899,900,901,902,903,904,905,906,907,908,909,910,911,912,913,914,915,916,917,918,919,920,921,922,923,924,925,926,927,928,929,930,931,932,933,934,935,936,937,938,939,940,941,942,943,944,945,946,947,948,949,950,951,952,953,954,955,956,957,958,959,960,961,962,963,964,965,966,967,968,969,970,971,972,973,974,975,976,977,978,979,980,981,982,983,984,985,986,987,988,989,990,991,992,993,994,995,996,997,998,999,1000,1001,1002,1003,1004,1005,1006,1007,1008,1009,1010,1011,1012,1013,1014,1015,1016,1017,1018,1019,1020,1021,1022,1023,1024,1025,1026,1027,1028,1029,1030,1031,1032,1033,1034,1035,1036,1037,1038,1039,1040,1041,1042,1043,1044,1045,1046,1047,1048,1049,1050,1051,1052,1053,1054,1055,1056,1057,1058,1059,1060,1061,1062,1063,1064,1065,1066,1067,1068,1069,1070,1071,1072,1073,1074,1075,1076,1077,1078,1079,1080,1081,1082,1083,1084,1085,1086,1087,1088,1089,1090,1091,1092,1093,1094,1095,1096,1097,1098,1099,1100,1101,1102,1103,1104,1105,1106,1107,1108,1109,1110,1111,1112,1113,1114,1115,1116,1117,1118,1119,1120,1121,1122,1123,1124,1125,1126,1127,1128,1129,1130,1131,1132,1133,1134,1135,1136,1137,1138,1139,1140,1141,1142,1143,1144,1145,1146,1147,1148,1149,1150,1151,1152,1153,1154,1155,1156,1157,1158,1159,1160,1161,1162,1163,1164,1165,1166,1167,1168,1169,1170,1171,1172,1173,1174,1175,1176,1177,1178,1179,1180,1181,1182,1183,1184,1185,1186,1187,1188,1189,1190,1191,1192,1193,1194,1195,1196,1197,1198,1199,1200,1201,1202,1203,1204,1205,1206,1207,1208,1209,1210,1211,1212,1213,1214,1215,1216,1217,1218,1219,1220,1221,1222,1223,1224,1225,1226,1227,1228,1229,1230,1231,1232,1233,1234,1235,1236,1237,1238,1239,1240,1241,1242,1243,1244,1245,1246,1247,1248,1249,1250,1251,1252,1253,1254,1255,1256,1257,1258,1259,1260,1261,1262,1263,1264,1265,1266,1267,1268,1269,1270,1271,1272,1273,1274,1275,1276,1277,1278,1279,1280,1281,1282,1283,1284,1285,1286,1287,1288,1289,1290,1291,1292,1293,1294,1295,1296,1297,1298,1299,1300,1301,1302,1303,1304,1305,1306,1307,1308,1309,1310,1311,1312,1313,1314,1315,1316,1317,1318,1319,1320,1321,1322,1323,1324,1325,1326,1327,1328,1329,1330,1331,1332,1333,1334,1335,1336,1337,1338,1339,1340,1341,1342,1343,1344,1345,1346,1347,1348,1349,1350,1351,1352,1353,1354,1355,1356,1357,1358,1359,1360,1361,1362,1363,1364,1365,1366,1367,1368,1369,1370,1371,1372,1373,1374,1375,1376,1377,1378,1379,1380,1381,1382,1383,1384,1385,1386,1387,1388,1389,1390,1391,1392,1393,1394,1395,1396,1397,1398,1399,1400,1401,1402,1403,1404,1405,1406,1407,1408,1409,1410,1411,1412,1413,1414,1415,1416,1417,1418,1419,1420,1421,1422,1423,1424,1425,1426,1427,1428,1429,1430,1431,1432,1433,1434,1435,1436,1437,1438,1439,1440,1441,1442,1443,1444,1445,1446,1447,1448,1449,1450,1451,1452,1453,1454,1455,1456,1457,1458,1459,1460,1461,1462,1463,1464,1465,1466,1467,1468,1469,1470,1471,1472,1473,1474,1475,1476,1477,1478,1479,1480,1481,1482,1483,1484,1485,1486,1487,1488,1489,1490,1491,1492,1493,1494,1495,1496,1497,1498,1499,1500,1501,1502,1503,1504,1505,1506,1507,1508,1509,1510,1511,1512,1513,1514,1515,1516,1517,1518,1519,1520,1521,1522,1523,1524,1525,1526,1527,1528,1529,1530,1531,1532,1533,1534,1535,1536,1537,1538,1539,1540,1541,1542,1543,1544,1545,1546,1547,1548,1549,1550,1551,1552,1553,1554,1555,1556,1557,1558,1559,1560,1561,1562,1563,1564,1565,1566,1567,1568,1569,1570,1571,1572,1573,1574,1575,1576,1577,1578,1579,1580,1581,1582,1583,1584,1585,1586,1587,1588,1589,1590,1591,1592,1593,1594,1595,1596,1597,1598,1599,1600,1601,1602,1603,1604,1605,1606,1607,1608,1609,1610,1611,1612,1613,1614,1615,1616,1617,1618,1619,1620,1621,1622,1623,1624,1625,1626,1627,1628,1629,1630,1631,1632,1633,1634,1635,1636,1637,1638,1639,1640,1641,1642,1643,1644,1645,1646,1647,1648,1649,1650,1651,1652,1653,1654,1655,1656,1657,1658,1659,1660,1661,1662,1663,1664,1665,1666,1667,1668,1669,1670,1671,1672,1673,1674,1675,1676,1677,1678,1679,1680,1681,1682,1683,1684,1685,1686,1687,1688,1689,1690,1691,1692,1693,1694,1695,1696,1697,1698,1699,1700,1701,1702,1703,1704,1705,1706,1707,1708,1709,1710,1711,1712,1713,1714,1715,1716,1717,1718,1719,1720,1721,1722,1723,1724,1725,1726,1727,1728,1729,1730,1731,1732,1733,1734,1735,1736,1737,1738,1739,1740,1741,1742,1743,1744,1745,1746,1747,1748,1749,1750,1751,1752,1753,1754,1755,1756,1757,1758,1759,1760,1761,1762,1763,1764,1765,1766,1767,1768,1769,1770,1771,1772,1773,1774,1775,1776,1777,1778,1779,1780,1781,1782,1783,1784,1785,1786,1787,1788,1789,1790,1791,1792,1793,1794,1795,1796,1797,1798,1799,1800,1801,1802,1803,1804,1805,1806,1807,1808,1809,1810,1811,1812,1813,1814,1815,1816,1817,1818,1819,1820,1821,1822,1823,1824,1825,1826,1827,1828,1829,1830,1831,1832,1833,1834,1835,1836,1837,1838,1839,1840,1841,1842,1843,1844,1845,1846,1847,1848,1849,1850,1851,1852,1853,1854,1855,1856,1857,1858,1859,1860,1861,1862,1863,1864,1865,1866,1867,1868,1869,1870,1871,1872,1873,1874,1875,1876,1877,1878,1879,1880,1881,1882,1883,1884,1885,1886,1887,1888,1889,1890,1891,1892,1893,1894,1895,1896,1897,1898,1899,1900,1901,1902,1903,1904,1905,1906,1907,1908,1909,1910,1911,1912,1913,1914,1915,1916,1917,1918,1919,1920,1921,1922,1923,1924,1925,1926,1927,1928,1929,1930,1931,1932,1933,1934,1935,1936,1937,1938,1939,1940,1941,1942,1943,1944,1945,1946,1947,1948,1949,1950,1951,1952,1953,1954,1955,1956,1957,1958,1959,1960,1961,1962,1963,1964,1965,1966,1967,1968,1969,1970,1971,1972,1973,1974,1975,1976,1977,1978,1979,1980,1981,1982,1983,1984,1985,1986,1987,1988,1989,1990,1991,1992,1993,1994,1995,1996,1997,1998,1999,2000,2001,2002,2003,2004,2005,2006,2007,2008,2009,2010,2011,2012,2013,2014,2015,2016,2017,2018,2019,2020,2021,2022,2023,2024,2025,2026,2027,2028,2029,2030,2031,2032,2033,2034,2035,2036,2037,2038,2039,2040,2041,2042,2043,2044,2045,2046,2047,2048,2049,2050,2051,2052,2053,2054,2055,2056,2057,2058,2059,2060,2061,2062,2063,2064,2065,2066,2067,2068,2069,2070,2071,2072,2073,2074,2075,2076,2077,2078,2079,2080,2081,2082,2083,2084,2085,2086,2087,2088,2089,2090,2091,2092,2093,2094,2095,2096,2097,2098,2099,2100,2101,2102,2103,2104,2105,2106,2107,2108,2109,2110,2111,2112,2113,2114,2115],\"label\":{\"__ndarray__\":\"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\",\"dtype\":\"int32\",\"shape\":[2116]},\"text\":[\"Example tweet doubt\",\"Example tweet actual\",\"Example tweet spirit\",\"Example tweet dangerous\",\"Example tweet law\",\"Example tweet eye\",\"Example tweet cast\",\"Example tweet please\",\"Example tweet rock\",\"Example tweet jack\",\"Example tweet leave\",\"Example tweet fifth\",\"Example tweet brown\",\"Example tweet tube\",\"Example tweet outside\",\"Example tweet queen\",\"Example tweet mix\",\"Example tweet electric\",\"Example tweet element\",\"Example tweet rubber\",\"Example tweet mountain\",\"Example tweet expression\",\"Example tweet rapidly\",\"Example tweet rope\",\"Example tweet author\",\"Example tweet ice\",\"Example tweet what\",\"Example tweet important\",\"Example tweet thank\",\"Example tweet stick\",\"Example tweet mice\",\"Example tweet forgotten\",\"Example tweet headed\",\"Example tweet state\",\"Example tweet stay\",\"Example tweet crowd\",\"Example tweet experience\",\"Example tweet growth\",\"Example tweet look\",\"Example tweet lovely\",\"Example tweet rather\",\"Example tweet excellent\",\"Example tweet kill\",\"Example tweet newspaper\",\"Example tweet point\",\"Example tweet everyone\",\"Example tweet mental\",\"Example tweet widely\",\"Example tweet rubber\",\"Example tweet aside\",\"Example tweet same\",\"Example tweet talk\",\"Example tweet gulf\",\"Example tweet earn\",\"Example tweet second\",\"Example tweet reach\",\"Example tweet seven\",\"Example tweet heavy\",\"Example tweet threw\",\"Example tweet settle\",\"Example tweet tower\",\"Example tweet hide\",\"Example tweet thick\",\"Example tweet search\",\"Example tweet evidence\",\"Example tweet tightly\",\"Example tweet roll\",\"Example tweet leaving\",\"Example tweet fact\",\"Example tweet on\",\"Example tweet everything\",\"Example tweet terrible\",\"Example tweet school\",\"Example tweet dance\",\"Example tweet end\",\"Example tweet kept\",\"Example tweet consist\",\"Example tweet quiet\",\"Example tweet nails\",\"Example tweet center\",\"Example tweet curve\",\"Example tweet allow\",\"Example tweet represent\",\"Example tweet simply\",\"Example tweet bank\",\"Example tweet discovery\",\"Example tweet loss\",\"Example tweet crack\",\"Example tweet expression\",\"Example tweet image\",\"Example tweet store\",\"Example tweet live\",\"Example tweet great\",\"Example tweet chart\",\"Example tweet happy\",\"Example tweet brave\",\"Example tweet car\",\"Example tweet let\",\"Example tweet good\",\"Example tweet stopped\",\"Example tweet conversation\",\"Example tweet phrase\",\"Example tweet pour\",\"Example tweet river\",\"Example tweet aboard\",\"Example tweet slightly\",\"Example tweet won\",\"Example tweet combination\",\"Example tweet shut\",\"Example tweet identity\",\"Example tweet together\",\"Example tweet bent\",\"Example tweet package\",\"Example tweet clearly\",\"Example tweet carefully\",\"Example tweet location\",\"Example tweet source\",\"Example tweet about\",\"Example tweet fresh\",\"Example tweet examine\",\"Example tweet develop\",\"Example tweet point\",\"Example tweet brother\",\"Example tweet fireplace\",\"Example tweet check\",\"Example tweet bigger\",\"Example tweet hide\",\"Example tweet angle\",\"Example tweet material\",\"Example tweet inch\",\"Example tweet column\",\"Example tweet enter\",\"Example tweet hollow\",\"Example tweet hundred\",\"Example tweet grass\",\"Example tweet since\",\"Example tweet scientist\",\"Example tweet spend\",\"Example tweet gray\",\"Example tweet thread\",\"Example tweet they\",\"Example tweet though\",\"Example tweet mainly\",\"Example tweet had\",\"Example tweet most\",\"Example tweet gulf\",\"Example tweet smoke\",\"Example tweet curious\",\"Example tweet represent\",\"Example tweet therefore\",\"Example tweet human\",\"Example tweet support\",\"Example tweet useful\",\"Example tweet design\",\"Example tweet stronger\",\"Example tweet mistake\",\"Example tweet soft\",\"Example tweet able\",\"Example tweet world\",\"Example tweet cage\",\"Example tweet motion\",\"Example tweet material\",\"Example tweet afraid\",\"Example tweet spell\",\"Example tweet numeral\",\"Example tweet matter\",\"Example tweet divide\",\"Example tweet light\",\"Example tweet require\",\"Example tweet area\",\"Example tweet chest\",\"Example tweet who\",\"Example tweet love\",\"Example tweet stretch\",\"Example tweet hollow\",\"Example tweet mile\",\"Example tweet favorite\",\"Example tweet sit\",\"Example tweet alphabet\",\"Example tweet except\",\"Example tweet develop\",\"Example tweet means\",\"Example tweet fruit\",\"Example tweet important\",\"Example tweet tears\",\"Example tweet hospital\",\"Example tweet time\",\"Example tweet salt\",\"Example tweet straight\",\"Example tweet family\",\"Example tweet solar\",\"Example tweet lamp\",\"Example tweet coal\",\"Example tweet stove\",\"Example tweet screen\",\"Example tweet cold\",\"Example tweet herd\",\"Example tweet teacher\",\"Example tweet slipped\",\"Example tweet club\",\"Example tweet lying\",\"Example tweet gravity\",\"Example tweet not\",\"Example tweet apple\",\"Example tweet anything\",\"Example tweet already\",\"Example tweet round\",\"Example tweet group\",\"Example tweet able\",\"Example tweet replace\",\"Example tweet even\",\"Example tweet author\",\"Example tweet short\",\"Example tweet transportation\",\"Example tweet college\",\"Example tweet zoo\",\"Example tweet loss\",\"Example tweet fence\",\"Example tweet disappear\",\"Example tweet gather\",\"Example tweet job\",\"Example tweet meat\",\"Example tweet needed\",\"Example tweet freedom\",\"Example tweet definition\",\"Example tweet recognize\",\"Example tweet various\",\"Example tweet cloth\",\"Example tweet sail\",\"Example tweet built\",\"Example tweet had\",\"Example tweet engineer\",\"Example tweet sent\",\"Example tweet cap\",\"Example tweet heat\",\"Example tweet none\",\"Example tweet least\",\"Example tweet writing\",\"Example tweet dollar\",\"Example tweet paper\",\"Example tweet possible\",\"Example tweet giving\",\"Example tweet additional\",\"Example tweet wave\",\"Example tweet bread\",\"Example tweet simplest\",\"Example tweet citizen\",\"Example tweet sometime\",\"Example tweet fewer\",\"Example tweet driver\",\"Example tweet consonant\",\"Example tweet part\",\"Example tweet walk\",\"Example tweet honor\",\"Example tweet son\",\"Example tweet soft\",\"Example tweet frozen\",\"Example tweet atmosphere\",\"Example tweet consist\",\"Example tweet reason\",\"Example tweet globe\",\"Example tweet include\",\"Example tweet all\",\"Example tweet vote\",\"Example tweet some\",\"Example tweet on\",\"Example tweet older\",\"Example tweet double\",\"Example tweet joined\",\"Example tweet later\",\"Example tweet it\",\"Example tweet very\",\"Example tweet one\",\"Example tweet diagram\",\"Example tweet acres\",\"Example tweet forth\",\"Example tweet pressure\",\"Example tweet brown\",\"Example tweet fill\",\"Example tweet met\",\"Example tweet honor\",\"Example tweet move\",\"Example tweet course\",\"Example tweet turn\",\"Example tweet matter\",\"Example tweet exact\",\"Example tweet library\",\"Example tweet roll\",\"Example tweet depend\",\"Example tweet vegetable\",\"Example tweet men\",\"Example tweet pour\",\"Example tweet taste\",\"Example tweet bite\",\"Example tweet wear\",\"Example tweet clay\",\"Example tweet hollow\",\"Example tweet hunter\",\"Example tweet shoe\",\"Example tweet nearer\",\"Example tweet across\",\"Example tweet broke\",\"Example tweet hurried\",\"Example tweet themselves\",\"Example tweet castle\",\"Example tweet thread\",\"Example tweet stronger\",\"Example tweet club\",\"Example tweet hunter\",\"Example tweet writer\",\"Example tweet series\",\"Example tweet curve\",\"Example tweet dead\",\"Example tweet century\",\"Example tweet except\",\"Example tweet probably\",\"Example tweet mud\",\"Example tweet paid\",\"Example tweet noted\",\"Example tweet every\",\"Example tweet attached\",\"Example tweet point\",\"Example tweet horn\",\"Example tweet gentle\",\"Example tweet element\",\"Example tweet decide\",\"Example tweet begun\",\"Example tweet market\",\"Example tweet entire\",\"Example tweet travel\",\"Example tweet wrong\",\"Example tweet guide\",\"Example tweet drive\",\"Example tweet bright\",\"Example tweet made\",\"Example tweet wonderful\",\"Example tweet simplest\",\"Example tweet queen\",\"Example tweet this\",\"Example tweet itself\",\"Example tweet coat\",\"Example tweet gold\",\"Example tweet can\",\"Example tweet modern\",\"Example tweet continued\",\"Example tweet term\",\"Example tweet model\",\"Example tweet maybe\",\"Example tweet took\",\"Example tweet coming\",\"Example tweet author\",\"Example tweet frighten\",\"Example tweet talk\",\"Example tweet mill\",\"Example tweet level\",\"Example tweet voyage\",\"Example tweet leader\",\"Example tweet environment\",\"Example tweet there\",\"Example tweet men\",\"Example tweet why\",\"Example tweet some\",\"Example tweet play\",\"Example tweet slope\",\"Example tweet whale\",\"Example tweet quite\",\"Example tweet eleven\",\"Example tweet scared\",\"Example tweet write\",\"Example tweet through\",\"Example tweet simple\",\"Example tweet health\",\"Example tweet affect\",\"Example tweet river\",\"Example tweet decide\",\"Example tweet come\",\"Example tweet hunter\",\"Example tweet him\",\"Example tweet silent\",\"Example tweet met\",\"Example tweet handle\",\"Example tweet visitor\",\"Example tweet plan\",\"Example tweet grass\",\"Example tweet general\",\"Example tweet empty\",\"Example tweet far\",\"Example tweet grabbed\",\"Example tweet search\",\"Example tweet engineer\",\"Example tweet in\",\"Example tweet agree\",\"Example tweet ruler\",\"Example tweet round\",\"Example tweet sheep\",\"Example tweet thrown\",\"Example tweet rapidly\",\"Example tweet tune\",\"Example tweet third\",\"Example tweet running\",\"Example tweet hair\",\"Example tweet palace\",\"Example tweet get\",\"Example tweet quietly\",\"Example tweet you\",\"Example tweet band\",\"Example tweet lost\",\"Example tweet remarkable\",\"Example tweet pull\",\"Example tweet duty\",\"Example tweet sign\",\"Example tweet inch\",\"Example tweet stranger\",\"Example tweet map\",\"Example tweet right\",\"Example tweet made\",\"Example tweet was\",\"Example tweet ball\",\"Example tweet grew\",\"Example tweet provide\",\"Example tweet doing\",\"Example tweet loud\",\"Example tweet horn\",\"Example tweet concerned\",\"Example tweet skill\",\"Example tweet die\",\"Example tweet empty\",\"Example tweet shine\",\"Example tweet accept\",\"Example tweet letter\",\"Example tweet past\",\"Example tweet fact\",\"Example tweet yellow\",\"Example tweet draw\",\"Example tweet whatever\",\"Example tweet tired\",\"Example tweet lucky\",\"Example tweet whether\",\"Example tweet particles\",\"Example tweet teacher\",\"Example tweet silk\",\"Example tweet bend\",\"Example tweet finest\",\"Example tweet forgotten\",\"Example tweet flew\",\"Example tweet gray\",\"Example tweet home\",\"Example tweet horn\",\"Example tweet saddle\",\"Example tweet birthday\",\"Example tweet excited\",\"Example tweet coast\",\"Example tweet protection\",\"Example tweet do\",\"Example tweet football\",\"Example tweet situation\",\"Example tweet total\",\"Example tweet vowel\",\"Example tweet previous\",\"Example tweet stood\",\"Example tweet indeed\",\"Example tweet sang\",\"Example tweet blue\",\"Example tweet welcome\",\"Example tweet however\",\"Example tweet cookies\",\"Example tweet therefore\",\"Example tweet actually\",\"Example tweet no\",\"Example tweet local\",\"Example tweet stairs\",\"Example tweet finger\",\"Example tweet rays\",\"Example tweet recall\",\"Example tweet storm\",\"Example tweet creature\",\"Example tweet heading\",\"Example tweet whether\",\"Example tweet law\",\"Example tweet instrument\",\"Example tweet full\",\"Example tweet cast\",\"Example tweet command\",\"Example tweet six\",\"Example tweet people\",\"Example tweet himself\",\"Example tweet capital\",\"Example tweet win\",\"Example tweet tribe\",\"Example tweet support\",\"Example tweet also\",\"Example tweet skin\",\"Example tweet husband\",\"Example tweet organization\",\"Example tweet allow\",\"Example tweet given\",\"Example tweet creature\",\"Example tweet ago\",\"Example tweet had\",\"Example tweet continent\",\"Example tweet mirror\",\"Example tweet drink\",\"Example tweet solar\",\"Example tweet shallow\",\"Example tweet port\",\"Example tweet sent\",\"Example tweet manufacturing\",\"Example tweet sitting\",\"Example tweet any\",\"Example tweet form\",\"Example tweet factory\",\"Example tweet wherever\",\"Example tweet fewer\",\"Example tweet save\",\"Example tweet former\",\"Example tweet unless\",\"Example tweet quiet\",\"Example tweet recent\",\"Example tweet become\",\"Example tweet throat\",\"Example tweet direct\",\"Example tweet handsome\",\"Example tweet write\",\"Example tweet away\",\"Example tweet leg\",\"Example tweet least\",\"Example tweet climate\",\"Example tweet region\",\"Example tweet price\",\"Example tweet manufacturing\",\"Example tweet second\",\"Example tweet known\",\"Example tweet herself\",\"Example tweet calm\",\"Example tweet settlers\",\"Example tweet think\",\"Example tweet enter\",\"Example tweet pour\",\"Example tweet success\",\"Example tweet police\",\"Example tweet number\",\"Example tweet rear\",\"Example tweet may\",\"Example tweet poetry\",\"Example tweet gift\",\"Example tweet meat\",\"Example tweet size\",\"Example tweet married\",\"Example tweet during\",\"Example tweet exactly\",\"Example tweet nobody\",\"Example tweet poor\",\"Example tweet difference\",\"Example tweet cut\",\"Example tweet enemy\",\"Example tweet term\",\"Example tweet tie\",\"Example tweet movement\",\"Example tweet trade\",\"Example tweet three\",\"Example tweet drawn\",\"Example tweet before\",\"Example tweet vapor\",\"Example tweet plant\",\"Example tweet beyond\",\"Example tweet lift\",\"Example tweet began\",\"Example tweet means\",\"Example tweet stand\",\"Example tweet use\",\"Example tweet bag\",\"Example tweet plan\",\"Example tweet mixture\",\"Example tweet daily\",\"Example tweet brother\",\"Example tweet tobacco\",\"Example tweet clock\",\"Example tweet tight\",\"Example tweet laid\",\"Example tweet liquid\",\"Example tweet division\",\"Example tweet mathematics\",\"Example tweet chance\",\"Example tweet agree\",\"Example tweet thread\",\"Example tweet below\",\"Example tweet prove\",\"Example tweet label\",\"Example tweet aside\",\"Example tweet feature\",\"Example tweet taste\",\"Example tweet club\",\"Example tweet eye\",\"Example tweet law\",\"Example tweet personal\",\"Example tweet everybody\",\"Example tweet muscle\",\"Example tweet knowledge\",\"Example tweet smoke\",\"Example tweet spite\",\"Example tweet walk\",\"Example tweet powerful\",\"Example tweet oldest\",\"Example tweet children\",\"Example tweet largest\",\"Example tweet think\",\"Example tweet gather\",\"Example tweet find\",\"Example tweet asleep\",\"Example tweet complete\",\"Example tweet interest\",\"Example tweet should\",\"Example tweet blind\",\"Example tweet surface\",\"Example tweet camp\",\"Example tweet ball\",\"Example tweet plate\",\"Example tweet speech\",\"Example tweet material\",\"Example tweet planning\",\"Example tweet lips\",\"Example tweet offer\",\"Example tweet mean\",\"Example tweet fire\",\"Example tweet military\",\"Example tweet where\",\"Example tweet history\",\"Example tweet model\",\"Example tweet pie\",\"Example tweet land\",\"Example tweet expression\",\"Example tweet explore\",\"Example tweet list\",\"Example tweet work\",\"Example tweet nearer\",\"Example tweet coal\",\"Example tweet steady\",\"Example tweet broken\",\"Example tweet lower\",\"Example tweet body\",\"Example tweet system\",\"Example tweet ordinary\",\"Example tweet care\",\"Example tweet broad\",\"Example tweet cutting\",\"Example tweet able\",\"Example tweet fix\",\"Example tweet storm\",\"Example tweet impossible\",\"Example tweet experience\",\"Example tweet trouble\",\"Example tweet favorite\",\"Example tweet shelf\",\"Example tweet rather\",\"Example tweet century\",\"Example tweet ran\",\"Example tweet spirit\",\"Example tweet fully\",\"Example tweet paid\",\"Example tweet limited\",\"Example tweet drew\",\"Example tweet silver\",\"Example tweet basket\",\"Example tweet camp\",\"Example tweet manner\",\"Example tweet wolf\",\"Example tweet bend\",\"Example tweet construction\",\"Example tweet fall\",\"Example tweet grew\",\"Example tweet five\",\"Example tweet hour\",\"Example tweet easier\",\"Example tweet victory\",\"Example tweet second\",\"Example tweet went\",\"Example tweet personal\",\"Example tweet slipped\",\"Example tweet wheel\",\"Example tweet already\",\"Example tweet spread\",\"Example tweet could\",\"Example tweet comfortable\",\"Example tweet jungle\",\"Example tweet plate\",\"Example tweet fire\",\"Example tweet adult\",\"Example tweet him\",\"Example tweet lack\",\"Example tweet tightly\",\"Example tweet forget\",\"Example tweet brave\",\"Example tweet degree\",\"Example tweet generally\",\"Example tweet lucky\",\"Example tweet since\",\"Example tweet mail\",\"Example tweet surprise\",\"Example tweet level\",\"Example tweet being\",\"Example tweet carry\",\"Example tweet death\",\"Example tweet small\",\"Example tweet yard\",\"Example tweet suit\",\"Example tweet continued\",\"Example tweet of\",\"Example tweet bad\",\"Example tweet stay\",\"Example tweet fair\",\"Example tweet situation\",\"Example tweet prevent\",\"Example tweet tonight\",\"Example tweet compass\",\"Example tweet key\",\"Example tweet farm\",\"Example tweet pay\",\"Example tweet military\",\"Example tweet peace\",\"Example tweet begun\",\"Example tweet shelf\",\"Example tweet case\",\"Example tweet locate\",\"Example tweet gently\",\"Example tweet degree\",\"Example tweet record\",\"Example tweet half\",\"Example tweet pressure\",\"Example tweet given\",\"Example tweet gone\",\"Example tweet section\",\"Example tweet till\",\"Example tweet harder\",\"Example tweet swimming\",\"Example tweet further\",\"Example tweet electricity\",\"Example tweet replace\",\"Example tweet silly\",\"Example tweet pay\",\"Example tweet shore\",\"Example tweet political\",\"Example tweet scientist\",\"Example tweet our\",\"Example tweet room\",\"Example tweet make\",\"Example tweet personal\",\"Example tweet advice\",\"Example tweet ship\",\"Example tweet coffee\",\"Example tweet gas\",\"Example tweet from\",\"Example tweet seldom\",\"Example tweet drive\",\"Example tweet atmosphere\",\"Example tweet prepare\",\"Example tweet tired\",\"Example tweet traffic\",\"Example tweet nine\",\"Example tweet copy\",\"Example tweet for\",\"Example tweet dust\",\"Example tweet equally\",\"Example tweet moment\",\"Example tweet situation\",\"Example tweet brave\",\"Example tweet development\",\"Example tweet job\",\"Example tweet reach\",\"Example tweet becoming\",\"Example tweet appropriate\",\"Example tweet swim\",\"Example tweet base\",\"Example tweet writer\",\"Example tweet industry\",\"Example tweet sport\",\"Example tweet save\",\"Example tweet draw\",\"Example tweet cost\",\"Example tweet buried\",\"Example tweet about\",\"Example tweet mirror\",\"Example tweet tonight\",\"Example tweet whether\",\"Example tweet owner\",\"Example tweet interior\",\"Example tweet bottom\",\"Example tweet ranch\",\"Example tweet born\",\"Example tweet give\",\"Example tweet cost\",\"Example tweet send\",\"Example tweet indeed\",\"Example tweet age\",\"Example tweet major\",\"Example tweet double\",\"Example tweet whatever\",\"Example tweet tired\",\"Example tweet coast\",\"Example tweet plain\",\"Example tweet forgotten\",\"Example tweet grass\",\"Example tweet rhyme\",\"Example tweet immediately\",\"Example tweet thing\",\"Example tweet car\",\"Example tweet last\",\"Example tweet sky\",\"Example tweet contrast\",\"Example tweet slabs\",\"Example tweet begun\",\"Example tweet substance\",\"Example tweet especially\",\"Example tweet native\",\"Example tweet since\",\"Example tweet according\",\"Example tweet highway\",\"Example tweet given\",\"Example tweet solid\",\"Example tweet religious\",\"Example tweet refused\",\"Example tweet drove\",\"Example tweet accident\",\"Example tweet slip\",\"Example tweet bush\",\"Example tweet escape\",\"Example tweet ball\",\"Example tweet human\",\"Example tweet parent\",\"Example tweet string\",\"Example tweet dollar\",\"Example tweet harder\",\"Example tweet copy\",\"Example tweet steam\",\"Example tweet toy\",\"Example tweet influence\",\"Example tweet type\",\"Example tweet flower\",\"Example tweet tell\",\"Example tweet stretch\",\"Example tweet plural\",\"Example tweet mouse\",\"Example tweet fell\",\"Example tweet customs\",\"Example tweet jungle\",\"Example tweet increase\",\"Example tweet affect\",\"Example tweet cream\",\"Example tweet contain\",\"Example tweet national\",\"Example tweet men\",\"Example tweet blew\",\"Example tweet solve\",\"Example tweet out\",\"Example tweet represent\",\"Example tweet caught\",\"Example tweet behavior\",\"Example tweet wherever\",\"Example tweet at\",\"Example tweet teacher\",\"Example tweet year\",\"Example tweet claws\",\"Example tweet modern\",\"Example tweet individual\",\"Example tweet vessels\",\"Example tweet get\",\"Example tweet save\",\"Example tweet after\",\"Example tweet consist\",\"Example tweet heard\",\"Example tweet silly\",\"Example tweet create\",\"Example tweet cloth\",\"Example tweet done\",\"Example tweet tax\",\"Example tweet friend\",\"Example tweet island\",\"Example tweet principle\",\"Example tweet chosen\",\"Example tweet gasoline\",\"Example tweet worth\",\"Example tweet could\",\"Example tweet art\",\"Example tweet war\",\"Example tweet field\",\"Example tweet became\",\"Example tweet summer\",\"Example tweet danger\",\"Example tweet above\",\"Example tweet tall\",\"Example tweet do\",\"Example tweet frighten\",\"Example tweet remember\",\"Example tweet grandfather\",\"Example tweet mine\",\"Example tweet not\",\"Example tweet putting\",\"Example tweet lie\",\"Example tweet trap\",\"Example tweet depend\",\"Example tweet explain\",\"Example tweet exist\",\"Example tweet blank\",\"Example tweet divide\",\"Example tweet interest\",\"Example tweet direct\",\"Example tweet social\",\"Example tweet good\",\"Example tweet pass\",\"Example tweet automobile\",\"Example tweet smile\",\"Example tweet village\",\"Example tweet two\",\"Example tweet storm\",\"Example tweet section\",\"Example tweet occur\",\"Example tweet forget\",\"Example tweet held\",\"Example tweet lonely\",\"Example tweet younger\",\"Example tweet break\",\"Example tweet your\",\"Example tweet shells\",\"Example tweet arrow\",\"Example tweet congress\",\"Example tweet else\",\"Example tweet favorite\",\"Example tweet vertical\",\"Example tweet question\",\"Example tweet thumb\",\"Example tweet purpose\",\"Example tweet cover\",\"Example tweet composition\",\"Example tweet given\",\"Example tweet goes\",\"Example tweet page\",\"Example tweet zoo\",\"Example tweet grain\",\"Example tweet largest\",\"Example tweet wood\",\"Example tweet information\",\"Example tweet talk\",\"Example tweet calm\",\"Example tweet secret\",\"Example tweet ancient\",\"Example tweet dark\",\"Example tweet number\",\"Example tweet mud\",\"Example tweet nearby\",\"Example tweet face\",\"Example tweet wave\",\"Example tweet equator\",\"Example tweet view\",\"Example tweet unit\",\"Example tweet disease\",\"Example tweet weather\",\"Example tweet more\",\"Example tweet meet\",\"Example tweet come\",\"Example tweet driven\",\"Example tweet loud\",\"Example tweet dry\",\"Example tweet law\",\"Example tweet travel\",\"Example tweet silver\",\"Example tweet warm\",\"Example tweet south\",\"Example tweet sudden\",\"Example tweet temperature\",\"Example tweet careful\",\"Example tweet changing\",\"Example tweet except\",\"Example tweet door\",\"Example tweet area\",\"Example tweet service\",\"Example tweet brave\",\"Example tweet bend\",\"Example tweet ready\",\"Example tweet were\",\"Example tweet flight\",\"Example tweet point\",\"Example tweet monkey\",\"Example tweet pressure\",\"Example tweet shut\",\"Example tweet knew\",\"Example tweet composition\",\"Example tweet forgotten\",\"Example tweet muscle\",\"Example tweet roof\",\"Example tweet valuable\",\"Example tweet film\",\"Example tweet disease\",\"Example tweet eat\",\"Example tweet everything\",\"Example tweet replied\",\"Example tweet escape\",\"Example tweet exact\",\"Example tweet fear\",\"Example tweet atomic\",\"Example tweet sheep\",\"Example tweet few\",\"Example tweet exclaimed\",\"Example tweet dirty\",\"Example tweet combination\",\"Example tweet heard\",\"Example tweet touch\",\"Example tweet list\",\"Example tweet minute\",\"Example tweet contain\",\"Example tweet represent\",\"Example tweet finger\",\"Example tweet floor\",\"Example tweet value\",\"Example tweet castle\",\"Example tweet parent\",\"Example tweet serve\",\"Example tweet peace\",\"Example tweet ring\",\"Example tweet outer\",\"Example tweet hard\",\"Example tweet greater\",\"Example tweet available\",\"Example tweet likely\",\"Example tweet just\",\"Example tweet treated\",\"Example tweet oil\",\"Example tweet useful\",\"Example tweet everybody\",\"Example tweet glass\",\"Example tweet quickly\",\"Example tweet six\",\"Example tweet hold\",\"Example tweet little\",\"Example tweet soldier\",\"Example tweet tin\",\"Example tweet government\",\"Example tweet pain\",\"Example tweet missing\",\"Example tweet ready\",\"Example tweet shall\",\"Example tweet member\",\"Example tweet touch\",\"Example tweet port\",\"Example tweet keep\",\"Example tweet slabs\",\"Example tweet done\",\"Example tweet speak\",\"Example tweet men\",\"Example tweet vapor\",\"Example tweet slowly\",\"Example tweet thirty\",\"Example tweet potatoes\",\"Example tweet copy\",\"Example tweet tight\",\"Example tweet fall\",\"Example tweet bottom\",\"Example tweet upper\",\"Example tweet influence\",\"Example tweet double\",\"Example tweet pass\",\"Example tweet tube\",\"Example tweet widely\",\"Example tweet give\",\"Example tweet thy\",\"Example tweet catch\",\"Example tweet sea\",\"Example tweet selection\",\"Example tweet bush\",\"Example tweet team\",\"Example tweet sale\",\"Example tweet practice\",\"Example tweet seen\",\"Example tweet follow\",\"Example tweet battle\",\"Example tweet flew\",\"Example tweet additional\",\"Example tweet capital\",\"Example tweet medicine\",\"Example tweet railroad\",\"Example tweet help\",\"Example tweet gulf\",\"Example tweet freedom\",\"Example tweet floating\",\"Example tweet possibly\",\"Example tweet giant\",\"Example tweet steel\",\"Example tweet needs\",\"Example tweet detail\",\"Example tweet beyond\",\"Example tweet image\",\"Example tweet indeed\",\"Example tweet told\",\"Example tweet possible\",\"Example tweet poor\",\"Example tweet college\",\"Example tweet personal\",\"Example tweet none\",\"Example tweet knowledge\",\"Example tweet essential\",\"Example tweet equator\",\"Example tweet student\",\"Example tweet increase\",\"Example tweet rough\",\"Example tweet close\",\"Example tweet fell\",\"Example tweet discuss\",\"Example tweet low\",\"Example tweet queen\",\"Example tweet excellent\",\"Example tweet new\",\"Example tweet changing\",\"Example tweet inside\",\"Example tweet clothes\",\"Example tweet owner\",\"Example tweet pink\",\"Example tweet most\",\"Example tweet drove\",\"Example tweet gas\",\"Example tweet grandmother\",\"Example tweet six\",\"Example tweet activity\",\"Example tweet car\",\"Example tweet author\",\"Example tweet major\",\"Example tweet stuck\",\"Example tweet began\",\"Example tweet alike\",\"Example tweet greater\",\"Example tweet hurt\",\"Example tweet except\",\"Example tweet wheat\",\"Example tweet lost\",\"Example tweet depth\",\"Example tweet dawn\",\"Example tweet whispered\",\"Example tweet stop\",\"Example tweet writing\",\"Example tweet airplane\",\"Example tweet mice\",\"Example tweet college\",\"Example tweet setting\",\"Example tweet cake\",\"Example tweet noon\",\"Example tweet numeral\",\"Example tweet writer\",\"Example tweet general\",\"Example tweet willing\",\"Example tweet cabin\",\"Example tweet mass\",\"Example tweet effect\",\"Example tweet went\",\"Example tweet hungry\",\"Example tweet part\",\"Example tweet family\",\"Example tweet appearance\",\"Example tweet using\",\"Example tweet note\",\"Example tweet police\",\"Example tweet snow\",\"Example tweet whole\",\"Example tweet water\",\"Example tweet satellites\",\"Example tweet of\",\"Example tweet mind\",\"Example tweet situation\",\"Example tweet lonely\",\"Example tweet attack\",\"Example tweet pleasant\",\"Example tweet running\",\"Example tweet riding\",\"Example tweet sun\",\"Example tweet four\",\"Example tweet hill\",\"Example tweet farther\",\"Example tweet setting\",\"Example tweet sad\",\"Example tweet follow\",\"Example tweet help\",\"Example tweet correct\",\"Example tweet exactly\",\"Example tweet burst\",\"Example tweet nearby\",\"Example tweet sum\",\"Example tweet stood\",\"Example tweet square\",\"Example tweet take\",\"Example tweet down\",\"Example tweet they\",\"Example tweet wonderful\",\"Example tweet grass\",\"Example tweet unless\",\"Example tweet explain\",\"Example tweet soon\",\"Example tweet ten\",\"Example tweet ants\",\"Example tweet merely\",\"Example tweet another\",\"Example tweet shaking\",\"Example tweet father\",\"Example tweet finger\",\"Example tweet build\",\"Example tweet guess\",\"Example tweet were\",\"Example tweet least\",\"Example tweet raw\",\"Example tweet which\",\"Example tweet southern\",\"Example tweet recent\",\"Example tweet layers\",\"Example tweet driven\",\"Example tweet pay\",\"Example tweet equally\",\"Example tweet bread\",\"Example tweet want\",\"Example tweet weather\",\"Example tweet cent\",\"Example tweet club\",\"Example tweet merely\",\"Example tweet stems\",\"Example tweet here\",\"Example tweet swung\",\"Example tweet brother\",\"Example tweet cake\",\"Example tweet price\",\"Example tweet once\",\"Example tweet young\",\"Example tweet stay\",\"Example tweet forget\",\"Example tweet correct\",\"Example tweet sang\",\"Example tweet protection\",\"Example tweet gather\",\"Example tweet believed\",\"Example tweet without\",\"Example tweet respect\",\"Example tweet chose\",\"Example tweet married\",\"Example tweet twenty\",\"Example tweet perhaps\",\"Example tweet swing\",\"Example tweet attack\",\"Example tweet related\",\"Example tweet felt\",\"Example tweet army\",\"Example tweet lost\",\"Example tweet impossible\",\"Example tweet popular\",\"Example tweet ever\",\"Example tweet instead\",\"Example tweet trouble\",\"Example tweet attached\",\"Example tweet fly\",\"Example tweet lunch\",\"Example tweet thick\",\"Example tweet century\",\"Example tweet coming\",\"Example tweet coffee\",\"Example tweet record\",\"Example tweet brick\",\"Example tweet usual\",\"Example tweet this\",\"Example tweet larger\",\"Example tweet molecular\",\"Example tweet growth\",\"Example tweet worse\",\"Example tweet attached\",\"Example tweet fact\",\"Example tweet scale\",\"Example tweet practical\",\"Example tweet flat\",\"Example tweet vote\",\"Example tweet classroom\",\"Example tweet bound\",\"Example tweet pick\",\"Example tweet dry\",\"Example tweet would\",\"Example tweet held\",\"Example tweet boat\",\"Example tweet unusual\",\"Example tweet parallel\",\"Example tweet friendly\",\"Example tweet can\",\"Example tweet who\",\"Example tweet talk\",\"Example tweet him\",\"Example tweet crack\",\"Example tweet two\",\"Example tweet wonder\",\"Example tweet disease\",\"Example tweet nine\",\"Example tweet voyage\",\"Example tweet people\",\"Example tweet met\",\"Example tweet carry\",\"Example tweet feel\",\"Example tweet good\",\"Example tweet west\",\"Example tweet than\",\"Example tweet fun\",\"Example tweet expression\",\"Example tweet solid\",\"Example tweet yourself\",\"Example tweet longer\",\"Example tweet pretty\",\"Example tweet dozen\",\"Example tweet broke\",\"Example tweet brain\",\"Example tweet scene\",\"Example tweet pupil\",\"Example tweet bound\",\"Example tweet sound\",\"Example tweet entirely\",\"Example tweet fill\",\"Example tweet let\",\"Example tweet onto\",\"Example tweet complete\",\"Example tweet lamp\",\"Example tweet trap\",\"Example tweet split\",\"Example tweet particles\",\"Example tweet frozen\",\"Example tweet president\",\"Example tweet married\",\"Example tweet wrapped\",\"Example tweet neighborhood\",\"Example tweet receive\",\"Example tweet ice\",\"Example tweet doll\",\"Example tweet sheet\",\"Example tweet immediately\",\"Example tweet herd\",\"Example tweet require\",\"Example tweet increase\",\"Example tweet state\",\"Example tweet steel\",\"Example tweet wood\",\"Example tweet continued\",\"Example tweet service\",\"Example tweet half\",\"Example tweet trip\",\"Example tweet next\",\"Example tweet gravity\",\"Example tweet lunch\",\"Example tweet activity\",\"Example tweet condition\",\"Example tweet discuss\",\"Example tweet result\",\"Example tweet hurry\",\"Example tweet of\",\"Example tweet am\",\"Example tweet review\",\"Example tweet log\",\"Example tweet voyage\",\"Example tweet safety\",\"Example tweet have\",\"Example tweet stick\",\"Example tweet thirty\",\"Example tweet spirit\",\"Example tweet prepare\",\"Example tweet pick\",\"Example tweet play\",\"Example tweet bus\",\"Example tweet gray\",\"Example tweet properly\",\"Example tweet song\",\"Example tweet wash\",\"Example tweet mountain\",\"Example tweet plates\",\"Example tweet tie\",\"Example tweet row\",\"Example tweet even\",\"Example tweet girl\",\"Example tweet jump\",\"Example tweet saved\",\"Example tweet naturally\",\"Example tweet refused\",\"Example tweet due\",\"Example tweet nervous\",\"Example tweet cell\",\"Example tweet light\",\"Example tweet interior\",\"Example tweet search\",\"Example tweet mountain\",\"Example tweet leather\",\"Example tweet no\",\"Example tweet deer\",\"Example tweet goose\",\"Example tweet natural\",\"Example tweet solve\",\"Example tweet century\",\"Example tweet degree\",\"Example tweet gas\",\"Example tweet become\",\"Example tweet inch\",\"Example tweet use\",\"Example tweet road\",\"Example tweet teach\",\"Example tweet attempt\",\"Example tweet prove\",\"Example tweet fish\",\"Example tweet floating\",\"Example tweet wore\",\"Example tweet series\",\"Example tweet late\",\"Example tweet pain\",\"Example tweet ability\",\"Example tweet porch\",\"Example tweet till\",\"Example tweet rear\",\"Example tweet think\",\"Example tweet bicycle\",\"Example tweet dropped\",\"Example tweet dozen\",\"Example tweet sick\",\"Example tweet rough\",\"Example tweet state\",\"Example tweet exciting\",\"Example tweet tune\",\"Example tweet fully\",\"Example tweet simple\",\"Example tweet railroad\",\"Example tweet frighten\",\"Example tweet atmosphere\",\"Example tweet noise\",\"Example tweet size\",\"Example tweet unless\",\"Example tweet essential\",\"Example tweet period\",\"Example tweet studied\",\"Example tweet level\",\"Example tweet song\",\"Example tweet finger\",\"Example tweet thee\",\"Example tweet cry\",\"Example tweet more\",\"Example tweet those\",\"Example tweet above\",\"Example tweet son\",\"Example tweet pan\",\"Example tweet public\",\"Example tweet love\",\"Example tweet teach\",\"Example tweet fastened\",\"Example tweet partly\",\"Example tweet dig\",\"Example tweet suddenly\",\"Example tweet ranch\",\"Example tweet law\",\"Example tweet satellites\",\"Example tweet must\",\"Example tweet flower\",\"Example tweet verb\",\"Example tweet leader\",\"Example tweet college\",\"Example tweet correct\",\"Example tweet bridge\",\"Example tweet country\",\"Example tweet development\",\"Example tweet library\",\"Example tweet direct\",\"Example tweet clean\",\"Example tweet friendly\",\"Example tweet wheat\",\"Example tweet piano\",\"Example tweet means\",\"Example tweet noon\",\"Example tweet built\",\"Example tweet fight\",\"Example tweet rubbed\",\"Example tweet foreign\",\"Example tweet birds\",\"Example tweet beyond\",\"Example tweet wool\",\"Example tweet crowd\",\"Example tweet door\",\"Example tweet standard\",\"Example tweet upper\",\"Example tweet driven\",\"Example tweet cross\",\"Example tweet just\",\"Example tweet accept\",\"Example tweet meat\",\"Example tweet manufacturing\",\"Example tweet wherever\",\"Example tweet pine\",\"Example tweet family\",\"Example tweet sold\",\"Example tweet rays\",\"Example tweet given\",\"Example tweet those\",\"Example tweet article\",\"Example tweet sell\",\"Example tweet fought\",\"Example tweet rays\",\"Example tweet element\",\"Example tweet example\",\"Example tweet worry\",\"Example tweet none\",\"Example tweet information\",\"Example tweet factor\",\"Example tweet not\",\"Example tweet glad\",\"Example tweet wooden\",\"Example tweet ocean\",\"Example tweet sheep\",\"Example tweet standard\",\"Example tweet grandmother\",\"Example tweet check\",\"Example tweet smaller\",\"Example tweet pencil\",\"Example tweet cream\",\"Example tweet perhaps\",\"Example tweet bean\",\"Example tweet discovery\",\"Example tweet paper\",\"Example tweet threw\",\"Example tweet wild\",\"Example tweet grabbed\",\"Example tweet several\",\"Example tweet force\",\"Example tweet pride\",\"Example tweet dear\",\"Example tweet nails\",\"Example tweet develop\",\"Example tweet fastened\",\"Example tweet attempt\",\"Example tweet weigh\",\"Example tweet noted\",\"Example tweet heard\",\"Example tweet camp\",\"Example tweet middle\",\"Example tweet disease\",\"Example tweet nor\",\"Example tweet model\",\"Example tweet safety\",\"Example tweet indicate\",\"Example tweet rain\",\"Example tweet fully\",\"Example tweet tree\",\"Example tweet shown\",\"Example tweet food\",\"Example tweet sent\",\"Example tweet equator\",\"Example tweet parallel\",\"Example tweet total\",\"Example tweet hello\",\"Example tweet account\",\"Example tweet point\",\"Example tweet worse\",\"Example tweet lost\",\"Example tweet dirty\",\"Example tweet thirty\",\"Example tweet shoe\",\"Example tweet valuable\",\"Example tweet particularly\",\"Example tweet about\",\"Example tweet general\",\"Example tweet instant\",\"Example tweet refused\",\"Example tweet thick\",\"Example tweet provide\",\"Example tweet than\",\"Example tweet lips\",\"Example tweet ear\",\"Example tweet form\",\"Example tweet highest\",\"Example tweet everywhere\",\"Example tweet forgotten\",\"Example tweet wooden\",\"Example tweet transportation\",\"Example tweet date\",\"Example tweet key\",\"Example tweet hurt\",\"Example tweet base\",\"Example tweet therefore\",\"Example tweet bar\",\"Example tweet thy\",\"Example tweet goes\",\"Example tweet characteristic\",\"Example tweet herself\",\"Example tweet basic\",\"Example tweet history\",\"Example tweet laid\",\"Example tweet explain\",\"Example tweet hospital\",\"Example tweet greatly\",\"Example tweet favorite\",\"Example tweet beautiful\",\"Example tweet aside\",\"Example tweet carry\",\"Example tweet continent\",\"Example tweet cake\",\"Example tweet lead\",\"Example tweet spell\",\"Example tweet shirt\",\"Example tweet date\",\"Example tweet street\",\"Example tweet characteristic\",\"Example tweet chicken\",\"Example tweet native\",\"Example tweet congress\",\"Example tweet known\",\"Example tweet court\",\"Example tweet large\",\"Example tweet soft\",\"Example tweet built\",\"Example tweet exciting\",\"Example tweet moon\",\"Example tweet scale\",\"Example tweet short\",\"Example tweet folks\",\"Example tweet better\",\"Example tweet character\",\"Example tweet station\",\"Example tweet ability\",\"Example tweet eager\",\"Example tweet growth\",\"Example tweet beautiful\",\"Example tweet grain\",\"Example tweet lose\",\"Example tweet shelf\",\"Example tweet thank\",\"Example tweet warm\",\"Example tweet author\",\"Example tweet sure\",\"Example tweet north\",\"Example tweet drink\",\"Example tweet weather\",\"Example tweet hat\",\"Example tweet usually\",\"Example tweet grown\",\"Example tweet atomic\",\"Example tweet bite\",\"Example tweet brave\",\"Example tweet appearance\",\"Example tweet pick\",\"Example tweet but\",\"Example tweet accurate\",\"Example tweet of\",\"Example tweet pine\",\"Example tweet come\",\"Example tweet cap\",\"Example tweet thy\",\"Example tweet lose\",\"Example tweet compound\",\"Example tweet beginning\",\"Example tweet sent\",\"Example tweet solid\",\"Example tweet beautiful\",\"Example tweet human\",\"Example tweet related\",\"Example tweet atomic\",\"Example tweet take\",\"Example tweet strong\",\"Example tweet not\",\"Example tweet teeth\",\"Example tweet anybody\",\"Example tweet rabbit\",\"Example tweet elephant\",\"Example tweet blow\",\"Example tweet got\",\"Example tweet flower\",\"Example tweet traffic\",\"Example tweet mind\",\"Example tweet broke\",\"Example tweet cutting\",\"Example tweet member\",\"Example tweet prepare\",\"Example tweet breathe\",\"Example tweet mill\",\"Example tweet tears\",\"Example tweet purpose\",\"Example tweet eleven\",\"Example tweet remain\",\"Example tweet path\",\"Example tweet sick\",\"Example tweet feel\",\"Example tweet angle\",\"Example tweet stood\",\"Example tweet call\",\"Example tweet cost\",\"Example tweet done\",\"Example tweet memory\",\"Example tweet worry\",\"Example tweet determine\",\"Example tweet element\",\"Example tweet sand\",\"Example tweet fewer\",\"Example tweet either\",\"Example tweet tobacco\",\"Example tweet studying\",\"Example tweet also\",\"Example tweet hang\",\"Example tweet forty\",\"Example tweet ranch\",\"Example tweet grain\",\"Example tweet enough\",\"Example tweet zero\",\"Example tweet tree\",\"Example tweet cell\",\"Example tweet night\",\"Example tweet missing\",\"Example tweet hunter\",\"Example tweet drop\",\"Example tweet laid\",\"Example tweet bear\",\"Example tweet explain\",\"Example tweet slept\",\"Example tweet exact\",\"Example tweet rise\",\"Example tweet split\",\"Example tweet youth\",\"Example tweet cheese\",\"Example tweet value\",\"Example tweet army\",\"Example tweet disappear\",\"Example tweet trace\",\"Example tweet own\",\"Example tweet parent\",\"Example tweet any\",\"Example tweet seldom\",\"Example tweet solution\",\"Example tweet gate\",\"Example tweet tool\",\"Example tweet changing\",\"Example tweet pink\",\"Example tweet lake\",\"Example tweet human\",\"Example tweet series\",\"Example tweet term\",\"Example tweet shoulder\",\"Example tweet condition\",\"Example tweet stomach\",\"Example tweet author\",\"Example tweet southern\",\"Example tweet pictured\",\"Example tweet court\",\"Example tweet dangerous\",\"Example tweet railroad\",\"Example tweet chemical\",\"Example tweet before\",\"Example tweet bag\",\"Example tweet danger\",\"Example tweet transportation\",\"Example tweet gradually\",\"Example tweet deal\",\"Example tweet one\",\"Example tweet tin\",\"Example tweet by\",\"Example tweet trail\",\"Example tweet station\",\"Example tweet cheese\",\"Example tweet section\",\"Example tweet or\",\"Example tweet wait\",\"Example tweet mine\",\"Example tweet feet\",\"Example tweet sink\",\"Example tweet instance\",\"Example tweet larger\",\"Example tweet laugh\",\"Example tweet cent\",\"Example tweet loose\",\"Example tweet lower\",\"Example tweet light\",\"Example tweet year\",\"Example tweet rabbit\",\"Example tweet especially\",\"Example tweet out\",\"Example tweet flat\",\"Example tweet essential\",\"Example tweet darkness\",\"Example tweet tower\",\"Example tweet sense\",\"Example tweet nothing\",\"Example tweet terrible\",\"Example tweet thus\",\"Example tweet slowly\",\"Example tweet eleven\",\"Example tweet won\",\"Example tweet song\",\"Example tweet hang\",\"Example tweet yard\",\"Example tweet event\",\"Example tweet now\",\"Example tweet chose\",\"Example tweet spirit\",\"Example tweet leg\",\"Example tweet stronger\",\"Example tweet village\",\"Example tweet heard\",\"Example tweet led\",\"Example tweet paint\",\"Example tweet cast\",\"Example tweet collect\",\"Example tweet cast\",\"Example tweet sang\",\"Example tweet thumb\",\"Example tweet nodded\",\"Example tweet gold\",\"Example tweet cell\",\"Example tweet pressure\",\"Example tweet bee\",\"Example tweet sick\",\"Example tweet program\",\"Example tweet bar\",\"Example tweet gift\",\"Example tweet may\",\"Example tweet last\",\"Example tweet made\",\"Example tweet needed\",\"Example tweet fast\",\"Example tweet giving\",\"Example tweet somehow\",\"Example tweet shape\",\"Example tweet element\",\"Example tweet respect\",\"Example tweet shut\",\"Example tweet tall\",\"Example tweet than\",\"Example tweet particular\",\"Example tweet knew\",\"Example tweet pilot\",\"Example tweet whatever\",\"Example tweet together\",\"Example tweet sunlight\",\"Example tweet wool\",\"Example tweet image\",\"Example tweet hunter\",\"Example tweet close\",\"Example tweet leather\",\"Example tweet visit\",\"Example tweet please\",\"Example tweet circle\",\"Example tweet magic\",\"Example tweet declared\",\"Example tweet verb\",\"Example tweet chain\",\"Example tweet slave\",\"Example tweet movie\",\"Example tweet connected\",\"Example tweet lie\",\"Example tweet easily\",\"Example tweet hold\",\"Example tweet energy\",\"Example tweet leave\",\"Example tweet ill\",\"Example tweet dish\",\"Example tweet leg\",\"Example tweet constantly\",\"Example tweet type\",\"Example tweet kill\",\"Example tweet nearer\",\"Example tweet excitement\",\"Example tweet colony\",\"Example tweet stronger\",\"Example tweet forest\",\"Example tweet wolf\",\"Example tweet ball\",\"Example tweet gold\",\"Example tweet including\",\"Example tweet language\",\"Example tweet child\",\"Example tweet bear\",\"Example tweet meal\",\"Example tweet engine\",\"Example tweet universe\",\"Example tweet sink\",\"Example tweet shine\",\"Example tweet seeing\",\"Example tweet chart\",\"Example tweet sweet\",\"Example tweet away\",\"Example tweet sight\",\"Example tweet listen\",\"Example tweet single\",\"Example tweet record\",\"Example tweet cave\",\"Example tweet class\",\"Example tweet popular\",\"Example tweet desk\",\"Example tweet attempt\",\"Example tweet bicycle\",\"Example tweet greatly\",\"Example tweet discuss\",\"Example tweet fine\",\"Example tweet unusual\",\"Example tweet rapidly\",\"Example tweet machine\",\"Example tweet fuel\",\"Example tweet inch\",\"Example tweet taken\",\"Example tweet sold\",\"Example tweet declared\",\"Example tweet build\",\"Example tweet thin\",\"Example tweet building\",\"Example tweet whatever\",\"Example tweet corn\",\"Example tweet regular\",\"Example tweet personal\",\"Example tweet model\",\"Example tweet deal\",\"Example tweet verb\",\"Example tweet anything\",\"Example tweet seen\",\"Example tweet choose\",\"Example tweet copy\",\"Example tweet naturally\",\"Example tweet trip\",\"Example tweet fish\",\"Example tweet give\",\"Example tweet wide\",\"Example tweet wonderful\",\"Example tweet company\",\"Example tweet pour\",\"Example tweet dinner\",\"Example tweet leader\",\"Example tweet creature\",\"Example tweet pen\",\"Example tweet crowd\",\"Example tweet year\",\"Example tweet border\",\"Example tweet noon\",\"Example tweet instant\",\"Example tweet forget\",\"Example tweet crowd\",\"Example tweet blue\",\"Example tweet lot\",\"Example tweet memory\",\"Example tweet else\",\"Example tweet fair\",\"Example tweet early\",\"Example tweet individual\",\"Example tweet face\",\"Example tweet visitor\",\"Example tweet arrow\",\"Example tweet where\",\"Example tweet hurried\",\"Example tweet largest\",\"Example tweet pale\",\"Example tweet neighbor\",\"Example tweet different\",\"Example tweet browserling\",\"Example tweet rear\",\"Example tweet enemy\",\"Example tweet primitive\",\"Example tweet chart\",\"Example tweet monkey\",\"Example tweet reason\",\"Example tweet related\",\"Example tweet climb\",\"Example tweet opinion\",\"Example tweet death\",\"Example tweet gulf\",\"Example tweet between\",\"Example tweet snow\",\"Example tweet easy\",\"Example tweet event\",\"Example tweet teacher\",\"Example tweet front\",\"Example tweet positive\",\"Example tweet visit\",\"Example tweet brush\",\"Example tweet said\",\"Example tweet definition\",\"Example tweet enemy\",\"Example tweet run\",\"Example tweet safe\",\"Example tweet upper\",\"Example tweet identity\",\"Example tweet during\",\"Example tweet top\",\"Example tweet old\",\"Example tweet necessary\",\"Example tweet suddenly\",\"Example tweet cake\",\"Example tweet verb\",\"Example tweet kill\",\"Example tweet across\",\"Example tweet give\",\"Example tweet require\",\"Example tweet tide\",\"Example tweet particles\",\"Example tweet church\",\"Example tweet sort\",\"Example tweet bring\",\"Example tweet wind\",\"Example tweet for\",\"Example tweet choice\",\"Example tweet alike\",\"Example tweet tree\",\"Example tweet muscle\",\"Example tweet straw\",\"Example tweet comfortable\",\"Example tweet bit\",\"Example tweet vertical\",\"Example tweet feathers\",\"Example tweet village\",\"Example tweet policeman\",\"Example tweet printed\",\"Example tweet bend\",\"Example tweet key\",\"Example tweet explore\",\"Example tweet not\",\"Example tweet gas\",\"Example tweet press\",\"Example tweet creature\",\"Example tweet carefully\",\"Example tweet ancient\",\"Example tweet shinning\",\"Example tweet birthday\",\"Example tweet fight\",\"Example tweet discussion\",\"Example tweet away\",\"Example tweet active\",\"Example tweet couple\",\"Example tweet therefore\",\"Example tweet element\",\"Example tweet mistake\",\"Example tweet hall\",\"Example tweet over\",\"Example tweet special\",\"Example tweet must\",\"Example tweet rush\",\"Example tweet kitchen\",\"Example tweet fewer\",\"Example tweet mistake\",\"Example tweet hay\",\"Example tweet fastened\",\"Example tweet environment\",\"Example tweet sheep\",\"Example tweet political\",\"Example tweet huge\",\"Example tweet putting\",\"Example tweet nearer\",\"Example tweet discover\",\"Example tweet onto\",\"Example tweet safety\",\"Example tweet star\",\"Example tweet situation\",\"Example tweet card\",\"Example tweet pupil\",\"Example tweet caught\",\"Example tweet sick\",\"Example tweet bit\",\"Example tweet broken\",\"Example tweet fruit\",\"Example tweet special\",\"Example tweet pile\",\"Example tweet prize\",\"Example tweet tax\",\"Example tweet arrow\",\"Example tweet your\",\"Example tweet nails\",\"Example tweet trip\",\"Example tweet hunter\",\"Example tweet accurate\",\"Example tweet effect\",\"Example tweet important\",\"Example tweet source\",\"Example tweet scientist\",\"Example tweet bee\",\"Example tweet very\",\"Example tweet improve\",\"Example tweet molecular\",\"Example tweet package\",\"Example tweet difficulty\",\"Example tweet curious\",\"Example tweet vapor\",\"Example tweet satisfied\",\"Example tweet couple\",\"Example tweet fewer\",\"Example tweet outline\",\"Example tweet stood\",\"Example tweet teacher\",\"Example tweet living\",\"Example tweet space\",\"Example tweet full\",\"Example tweet voyage\",\"Example tweet store\",\"Example tweet check\",\"Example tweet see\",\"Example tweet language\",\"Example tweet condition\",\"Example tweet treated\",\"Example tweet stranger\",\"Example tweet hall\",\"Example tweet policeman\",\"Example tweet nothing\",\"Example tweet industry\",\"Example tweet count\",\"Example tweet favorite\",\"Example tweet continent\",\"Example tweet hollow\",\"Example tweet crew\",\"Example tweet look\",\"Example tweet drive\",\"Example tweet basic\",\"Example tweet around\",\"Example tweet discovery\",\"Example tweet value\",\"Example tweet army\",\"Example tweet fifteen\",\"Example tweet talk\",\"Example tweet oldest\",\"Example tweet observe\",\"Example tweet night\",\"Example tweet finest\",\"Example tweet fort\",\"Example tweet mixture\",\"Example tweet sat\",\"Example tweet told\",\"Example tweet pleasure\",\"Example tweet wish\",\"Example tweet sudden\",\"Example tweet baby\"],\"username\":[\"user_doubt\",\"user_actual\",\"user_spirit\",\"user_dangerous\",\"user_law\",\"user_eye\",\"user_cast\",\"user_please\",\"user_rock\",\"user_jack\",\"user_leave\",\"user_fifth\",\"user_brown\",\"user_tube\",\"user_outside\",\"user_queen\",\"user_mix\",\"user_electric\",\"user_element\",\"user_rubber\",\"user_mountain\",\"user_expression\",\"user_rapidly\",\"user_rope\",\"user_author\",\"user_ice\",\"user_what\",\"user_important\",\"user_thank\",\"user_stick\",\"user_mice\",\"user_forgotten\",\"user_headed\",\"user_state\",\"user_stay\",\"user_crowd\",\"user_experience\",\"user_growth\",\"user_look\",\"user_lovely\",\"user_rather\",\"user_excellent\",\"user_kill\",\"user_newspaper\",\"user_point\",\"user_everyone\",\"user_mental\",\"user_widely\",\"user_rubber\",\"user_aside\",\"user_same\",\"user_talk\",\"user_gulf\",\"user_earn\",\"user_second\",\"user_reach\",\"user_seven\",\"user_heavy\",\"user_threw\",\"user_settle\",\"user_tower\",\"user_hide\",\"user_thick\",\"user_search\",\"user_evidence\",\"user_tightly\",\"user_roll\",\"user_leaving\",\"user_fact\",\"user_on\",\"user_everything\",\"user_terrible\",\"user_school\",\"user_dance\",\"user_end\",\"user_kept\",\"user_consist\",\"user_quiet\",\"user_nails\",\"user_center\",\"user_curve\",\"user_allow\",\"user_represent\",\"user_simply\",\"user_bank\",\"user_discovery\",\"user_loss\",\"user_crack\",\"user_expression\",\"user_image\",\"user_store\",\"user_live\",\"user_great\",\"user_chart\",\"user_happy\",\"user_brave\",\"user_car\",\"user_let\",\"user_good\",\"user_stopped\",\"user_conversation\",\"user_phrase\",\"user_pour\",\"user_river\",\"user_aboard\",\"user_slightly\",\"user_won\",\"user_combination\",\"user_shut\",\"user_identity\",\"user_together\",\"user_bent\",\"user_package\",\"user_clearly\",\"user_carefully\",\"user_location\",\"user_source\",\"user_about\",\"user_fresh\",\"user_examine\",\"user_develop\",\"user_point\",\"user_brother\",\"user_fireplace\",\"user_check\",\"user_bigger\",\"user_hide\",\"user_angle\",\"user_material\",\"user_inch\",\"user_column\",\"user_enter\",\"user_hollow\",\"user_hundred\",\"user_grass\",\"user_since\",\"user_scientist\",\"user_spend\",\"user_gray\",\"user_thread\",\"user_they\",\"user_though\",\"user_mainly\",\"user_had\",\"user_most\",\"user_gulf\",\"user_smoke\",\"user_curious\",\"user_represent\",\"user_therefore\",\"user_human\",\"user_support\",\"user_useful\",\"user_design\",\"user_stronger\",\"user_mistake\",\"user_soft\",\"user_able\",\"user_world\",\"user_cage\",\"user_motion\",\"user_material\",\"user_afraid\",\"user_spell\",\"user_numeral\",\"user_matter\",\"user_divide\",\"user_light\",\"user_require\",\"user_area\",\"user_chest\",\"user_who\",\"user_love\",\"user_stretch\",\"user_hollow\",\"user_mile\",\"user_favorite\",\"user_sit\",\"user_alphabet\",\"user_except\",\"user_develop\",\"user_means\",\"user_fruit\",\"user_important\",\"user_tears\",\"user_hospital\",\"user_time\",\"user_salt\",\"user_straight\",\"user_family\",\"user_solar\",\"user_lamp\",\"user_coal\",\"user_stove\",\"user_screen\",\"user_cold\",\"user_herd\",\"user_teacher\",\"user_slipped\",\"user_club\",\"user_lying\",\"user_gravity\",\"user_not\",\"user_apple\",\"user_anything\",\"user_already\",\"user_round\",\"user_group\",\"user_able\",\"user_replace\",\"user_even\",\"user_author\",\"user_short\",\"user_transportation\",\"user_college\",\"user_zoo\",\"user_loss\",\"user_fence\",\"user_disappear\",\"user_gather\",\"user_job\",\"user_meat\",\"user_needed\",\"user_freedom\",\"user_definition\",\"user_recognize\",\"user_various\",\"user_cloth\",\"user_sail\",\"user_built\",\"user_had\",\"user_engineer\",\"user_sent\",\"user_cap\",\"user_heat\",\"user_none\",\"user_least\",\"user_writing\",\"user_dollar\",\"user_paper\",\"user_possible\",\"user_giving\",\"user_additional\",\"user_wave\",\"user_bread\",\"user_simplest\",\"user_citizen\",\"user_sometime\",\"user_fewer\",\"user_driver\",\"user_consonant\",\"user_part\",\"user_walk\",\"user_honor\",\"user_son\",\"user_soft\",\"user_frozen\",\"user_atmosphere\",\"user_consist\",\"user_reason\",\"user_globe\",\"user_include\",\"user_all\",\"user_vote\",\"user_some\",\"user_on\",\"user_older\",\"user_double\",\"user_joined\",\"user_later\",\"user_it\",\"user_very\",\"user_one\",\"user_diagram\",\"user_acres\",\"user_forth\",\"user_pressure\",\"user_brown\",\"user_fill\",\"user_met\",\"user_honor\",\"user_move\",\"user_course\",\"user_turn\",\"user_matter\",\"user_exact\",\"user_library\",\"user_roll\",\"user_depend\",\"user_vegetable\",\"user_men\",\"user_pour\",\"user_taste\",\"user_bite\",\"user_wear\",\"user_clay\",\"user_hollow\",\"user_hunter\",\"user_shoe\",\"user_nearer\",\"user_across\",\"user_broke\",\"user_hurried\",\"user_themselves\",\"user_castle\",\"user_thread\",\"user_stronger\",\"user_club\",\"user_hunter\",\"user_writer\",\"user_series\",\"user_curve\",\"user_dead\",\"user_century\",\"user_except\",\"user_probably\",\"user_mud\",\"user_paid\",\"user_noted\",\"user_every\",\"user_attached\",\"user_point\",\"user_horn\",\"user_gentle\",\"user_element\",\"user_decide\",\"user_begun\",\"user_market\",\"user_entire\",\"user_travel\",\"user_wrong\",\"user_guide\",\"user_drive\",\"user_bright\",\"user_made\",\"user_wonderful\",\"user_simplest\",\"user_queen\",\"user_this\",\"user_itself\",\"user_coat\",\"user_gold\",\"user_can\",\"user_modern\",\"user_continued\",\"user_term\",\"user_model\",\"user_maybe\",\"user_took\",\"user_coming\",\"user_author\",\"user_frighten\",\"user_talk\",\"user_mill\",\"user_level\",\"user_voyage\",\"user_leader\",\"user_environment\",\"user_there\",\"user_men\",\"user_why\",\"user_some\",\"user_play\",\"user_slope\",\"user_whale\",\"user_quite\",\"user_eleven\",\"user_scared\",\"user_write\",\"user_through\",\"user_simple\",\"user_health\",\"user_affect\",\"user_river\",\"user_decide\",\"user_come\",\"user_hunter\",\"user_him\",\"user_silent\",\"user_met\",\"user_handle\",\"user_visitor\",\"user_plan\",\"user_grass\",\"user_general\",\"user_empty\",\"user_far\",\"user_grabbed\",\"user_search\",\"user_engineer\",\"user_in\",\"user_agree\",\"user_ruler\",\"user_round\",\"user_sheep\",\"user_thrown\",\"user_rapidly\",\"user_tune\",\"user_third\",\"user_running\",\"user_hair\",\"user_palace\",\"user_get\",\"user_quietly\",\"user_you\",\"user_band\",\"user_lost\",\"user_remarkable\",\"user_pull\",\"user_duty\",\"user_sign\",\"user_inch\",\"user_stranger\",\"user_map\",\"user_right\",\"user_made\",\"user_was\",\"user_ball\",\"user_grew\",\"user_provide\",\"user_doing\",\"user_loud\",\"user_horn\",\"user_concerned\",\"user_skill\",\"user_die\",\"user_empty\",\"user_shine\",\"user_accept\",\"user_letter\",\"user_past\",\"user_fact\",\"user_yellow\",\"user_draw\",\"user_whatever\",\"user_tired\",\"user_lucky\",\"user_whether\",\"user_particles\",\"user_teacher\",\"user_silk\",\"user_bend\",\"user_finest\",\"user_forgotten\",\"user_flew\",\"user_gray\",\"user_home\",\"user_horn\",\"user_saddle\",\"user_birthday\",\"user_excited\",\"user_coast\",\"user_protection\",\"user_do\",\"user_football\",\"user_situation\",\"user_total\",\"user_vowel\",\"user_previous\",\"user_stood\",\"user_indeed\",\"user_sang\",\"user_blue\",\"user_welcome\",\"user_however\",\"user_cookies\",\"user_therefore\",\"user_actually\",\"user_no\",\"user_local\",\"user_stairs\",\"user_finger\",\"user_rays\",\"user_recall\",\"user_storm\",\"user_creature\",\"user_heading\",\"user_whether\",\"user_law\",\"user_instrument\",\"user_full\",\"user_cast\",\"user_command\",\"user_six\",\"user_people\",\"user_himself\",\"user_capital\",\"user_win\",\"user_tribe\",\"user_support\",\"user_also\",\"user_skin\",\"user_husband\",\"user_organization\",\"user_allow\",\"user_given\",\"user_creature\",\"user_ago\",\"user_had\",\"user_continent\",\"user_mirror\",\"user_drink\",\"user_solar\",\"user_shallow\",\"user_port\",\"user_sent\",\"user_manufacturing\",\"user_sitting\",\"user_any\",\"user_form\",\"user_factory\",\"user_wherever\",\"user_fewer\",\"user_save\",\"user_former\",\"user_unless\",\"user_quiet\",\"user_recent\",\"user_become\",\"user_throat\",\"user_direct\",\"user_handsome\",\"user_write\",\"user_away\",\"user_leg\",\"user_least\",\"user_climate\",\"user_region\",\"user_price\",\"user_manufacturing\",\"user_second\",\"user_known\",\"user_herself\",\"user_calm\",\"user_settlers\",\"user_think\",\"user_enter\",\"user_pour\",\"user_success\",\"user_police\",\"user_number\",\"user_rear\",\"user_may\",\"user_poetry\",\"user_gift\",\"user_meat\",\"user_size\",\"user_married\",\"user_during\",\"user_exactly\",\"user_nobody\",\"user_poor\",\"user_difference\",\"user_cut\",\"user_enemy\",\"user_term\",\"user_tie\",\"user_movement\",\"user_trade\",\"user_three\",\"user_drawn\",\"user_before\",\"user_vapor\",\"user_plant\",\"user_beyond\",\"user_lift\",\"user_began\",\"user_means\",\"user_stand\",\"user_use\",\"user_bag\",\"user_plan\",\"user_mixture\",\"user_daily\",\"user_brother\",\"user_tobacco\",\"user_clock\",\"user_tight\",\"user_laid\",\"user_liquid\",\"user_division\",\"user_mathematics\",\"user_chance\",\"user_agree\",\"user_thread\",\"user_below\",\"user_prove\",\"user_label\",\"user_aside\",\"user_feature\",\"user_taste\",\"user_club\",\"user_eye\",\"user_law\",\"user_personal\",\"user_everybody\",\"user_muscle\",\"user_knowledge\",\"user_smoke\",\"user_spite\",\"user_walk\",\"user_powerful\",\"user_oldest\",\"user_children\",\"user_largest\",\"user_think\",\"user_gather\",\"user_find\",\"user_asleep\",\"user_complete\",\"user_interest\",\"user_should\",\"user_blind\",\"user_surface\",\"user_camp\",\"user_ball\",\"user_plate\",\"user_speech\",\"user_material\",\"user_planning\",\"user_lips\",\"user_offer\",\"user_mean\",\"user_fire\",\"user_military\",\"user_where\",\"user_history\",\"user_model\",\"user_pie\",\"user_land\",\"user_expression\",\"user_explore\",\"user_list\",\"user_work\",\"user_nearer\",\"user_coal\",\"user_steady\",\"user_broken\",\"user_lower\",\"user_body\",\"user_system\",\"user_ordinary\",\"user_care\",\"user_broad\",\"user_cutting\",\"user_able\",\"user_fix\",\"user_storm\",\"user_impossible\",\"user_experience\",\"user_trouble\",\"user_favorite\",\"user_shelf\",\"user_rather\",\"user_century\",\"user_ran\",\"user_spirit\",\"user_fully\",\"user_paid\",\"user_limited\",\"user_drew\",\"user_silver\",\"user_basket\",\"user_camp\",\"user_manner\",\"user_wolf\",\"user_bend\",\"user_construction\",\"user_fall\",\"user_grew\",\"user_five\",\"user_hour\",\"user_easier\",\"user_victory\",\"user_second\",\"user_went\",\"user_personal\",\"user_slipped\",\"user_wheel\",\"user_already\",\"user_spread\",\"user_could\",\"user_comfortable\",\"user_jungle\",\"user_plate\",\"user_fire\",\"user_adult\",\"user_him\",\"user_lack\",\"user_tightly\",\"user_forget\",\"user_brave\",\"user_degree\",\"user_generally\",\"user_lucky\",\"user_since\",\"user_mail\",\"user_surprise\",\"user_level\",\"user_being\",\"user_carry\",\"user_death\",\"user_small\",\"user_yard\",\"user_suit\",\"user_continued\",\"user_of\",\"user_bad\",\"user_stay\",\"user_fair\",\"user_situation\",\"user_prevent\",\"user_tonight\",\"user_compass\",\"user_key\",\"user_farm\",\"user_pay\",\"user_military\",\"user_peace\",\"user_begun\",\"user_shelf\",\"user_case\",\"user_locate\",\"user_gently\",\"user_degree\",\"user_record\",\"user_half\",\"user_pressure\",\"user_given\",\"user_gone\",\"user_section\",\"user_till\",\"user_harder\",\"user_swimming\",\"user_further\",\"user_electricity\",\"user_replace\",\"user_silly\",\"user_pay\",\"user_shore\",\"user_political\",\"user_scientist\",\"user_our\",\"user_room\",\"user_make\",\"user_personal\",\"user_advice\",\"user_ship\",\"user_coffee\",\"user_gas\",\"user_from\",\"user_seldom\",\"user_drive\",\"user_atmosphere\",\"user_prepare\",\"user_tired\",\"user_traffic\",\"user_nine\",\"user_copy\",\"user_for\",\"user_dust\",\"user_equally\",\"user_moment\",\"user_situation\",\"user_brave\",\"user_development\",\"user_job\",\"user_reach\",\"user_becoming\",\"user_appropriate\",\"user_swim\",\"user_base\",\"user_writer\",\"user_industry\",\"user_sport\",\"user_save\",\"user_draw\",\"user_cost\",\"user_buried\",\"user_about\",\"user_mirror\",\"user_tonight\",\"user_whether\",\"user_owner\",\"user_interior\",\"user_bottom\",\"user_ranch\",\"user_born\",\"user_give\",\"user_cost\",\"user_send\",\"user_indeed\",\"user_age\",\"user_major\",\"user_double\",\"user_whatever\",\"user_tired\",\"user_coast\",\"user_plain\",\"user_forgotten\",\"user_grass\",\"user_rhyme\",\"user_immediately\",\"user_thing\",\"user_car\",\"user_last\",\"user_sky\",\"user_contrast\",\"user_slabs\",\"user_begun\",\"user_substance\",\"user_especially\",\"user_native\",\"user_since\",\"user_according\",\"user_highway\",\"user_given\",\"user_solid\",\"user_religious\",\"user_refused\",\"user_drove\",\"user_accident\",\"user_slip\",\"user_bush\",\"user_escape\",\"user_ball\",\"user_human\",\"user_parent\",\"user_string\",\"user_dollar\",\"user_harder\",\"user_copy\",\"user_steam\",\"user_toy\",\"user_influence\",\"user_type\",\"user_flower\",\"user_tell\",\"user_stretch\",\"user_plural\",\"user_mouse\",\"user_fell\",\"user_customs\",\"user_jungle\",\"user_increase\",\"user_affect\",\"user_cream\",\"user_contain\",\"user_national\",\"user_men\",\"user_blew\",\"user_solve\",\"user_out\",\"user_represent\",\"user_caught\",\"user_behavior\",\"user_wherever\",\"user_at\",\"user_teacher\",\"user_year\",\"user_claws\",\"user_modern\",\"user_individual\",\"user_vessels\",\"user_get\",\"user_save\",\"user_after\",\"user_consist\",\"user_heard\",\"user_silly\",\"user_create\",\"user_cloth\",\"user_done\",\"user_tax\",\"user_friend\",\"user_island\",\"user_principle\",\"user_chosen\",\"user_gasoline\",\"user_worth\",\"user_could\",\"user_art\",\"user_war\",\"user_field\",\"user_became\",\"user_summer\",\"user_danger\",\"user_above\",\"user_tall\",\"user_do\",\"user_frighten\",\"user_remember\",\"user_grandfather\",\"user_mine\",\"user_not\",\"user_putting\",\"user_lie\",\"user_trap\",\"user_depend\",\"user_explain\",\"user_exist\",\"user_blank\",\"user_divide\",\"user_interest\",\"user_direct\",\"user_social\",\"user_good\",\"user_pass\",\"user_automobile\",\"user_smile\",\"user_village\",\"user_two\",\"user_storm\",\"user_section\",\"user_occur\",\"user_forget\",\"user_held\",\"user_lonely\",\"user_younger\",\"user_break\",\"user_your\",\"user_shells\",\"user_arrow\",\"user_congress\",\"user_else\",\"user_favorite\",\"user_vertical\",\"user_question\",\"user_thumb\",\"user_purpose\",\"user_cover\",\"user_composition\",\"user_given\",\"user_goes\",\"user_page\",\"user_zoo\",\"user_grain\",\"user_largest\",\"user_wood\",\"user_information\",\"user_talk\",\"user_calm\",\"user_secret\",\"user_ancient\",\"user_dark\",\"user_number\",\"user_mud\",\"user_nearby\",\"user_face\",\"user_wave\",\"user_equator\",\"user_view\",\"user_unit\",\"user_disease\",\"user_weather\",\"user_more\",\"user_meet\",\"user_come\",\"user_driven\",\"user_loud\",\"user_dry\",\"user_law\",\"user_travel\",\"user_silver\",\"user_warm\",\"user_south\",\"user_sudden\",\"user_temperature\",\"user_careful\",\"user_changing\",\"user_except\",\"user_door\",\"user_area\",\"user_service\",\"user_brave\",\"user_bend\",\"user_ready\",\"user_were\",\"user_flight\",\"user_point\",\"user_monkey\",\"user_pressure\",\"user_shut\",\"user_knew\",\"user_composition\",\"user_forgotten\",\"user_muscle\",\"user_roof\",\"user_valuable\",\"user_film\",\"user_disease\",\"user_eat\",\"user_everything\",\"user_replied\",\"user_escape\",\"user_exact\",\"user_fear\",\"user_atomic\",\"user_sheep\",\"user_few\",\"user_exclaimed\",\"user_dirty\",\"user_combination\",\"user_heard\",\"user_touch\",\"user_list\",\"user_minute\",\"user_contain\",\"user_represent\",\"user_finger\",\"user_floor\",\"user_value\",\"user_castle\",\"user_parent\",\"user_serve\",\"user_peace\",\"user_ring\",\"user_outer\",\"user_hard\",\"user_greater\",\"user_available\",\"user_likely\",\"user_just\",\"user_treated\",\"user_oil\",\"user_useful\",\"user_everybody\",\"user_glass\",\"user_quickly\",\"user_six\",\"user_hold\",\"user_little\",\"user_soldier\",\"user_tin\",\"user_government\",\"user_pain\",\"user_missing\",\"user_ready\",\"user_shall\",\"user_member\",\"user_touch\",\"user_port\",\"user_keep\",\"user_slabs\",\"user_done\",\"user_speak\",\"user_men\",\"user_vapor\",\"user_slowly\",\"user_thirty\",\"user_potatoes\",\"user_copy\",\"user_tight\",\"user_fall\",\"user_bottom\",\"user_upper\",\"user_influence\",\"user_double\",\"user_pass\",\"user_tube\",\"user_widely\",\"user_give\",\"user_thy\",\"user_catch\",\"user_sea\",\"user_selection\",\"user_bush\",\"user_team\",\"user_sale\",\"user_practice\",\"user_seen\",\"user_follow\",\"user_battle\",\"user_flew\",\"user_additional\",\"user_capital\",\"user_medicine\",\"user_railroad\",\"user_help\",\"user_gulf\",\"user_freedom\",\"user_floating\",\"user_possibly\",\"user_giant\",\"user_steel\",\"user_needs\",\"user_detail\",\"user_beyond\",\"user_image\",\"user_indeed\",\"user_told\",\"user_possible\",\"user_poor\",\"user_college\",\"user_personal\",\"user_none\",\"user_knowledge\",\"user_essential\",\"user_equator\",\"user_student\",\"user_increase\",\"user_rough\",\"user_close\",\"user_fell\",\"user_discuss\",\"user_low\",\"user_queen\",\"user_excellent\",\"user_new\",\"user_changing\",\"user_inside\",\"user_clothes\",\"user_owner\",\"user_pink\",\"user_most\",\"user_drove\",\"user_gas\",\"user_grandmother\",\"user_six\",\"user_activity\",\"user_car\",\"user_author\",\"user_major\",\"user_stuck\",\"user_began\",\"user_alike\",\"user_greater\",\"user_hurt\",\"user_except\",\"user_wheat\",\"user_lost\",\"user_depth\",\"user_dawn\",\"user_whispered\",\"user_stop\",\"user_writing\",\"user_airplane\",\"user_mice\",\"user_college\",\"user_setting\",\"user_cake\",\"user_noon\",\"user_numeral\",\"user_writer\",\"user_general\",\"user_willing\",\"user_cabin\",\"user_mass\",\"user_effect\",\"user_went\",\"user_hungry\",\"user_part\",\"user_family\",\"user_appearance\",\"user_using\",\"user_note\",\"user_police\",\"user_snow\",\"user_whole\",\"user_water\",\"user_satellites\",\"user_of\",\"user_mind\",\"user_situation\",\"user_lonely\",\"user_attack\",\"user_pleasant\",\"user_running\",\"user_riding\",\"user_sun\",\"user_four\",\"user_hill\",\"user_farther\",\"user_setting\",\"user_sad\",\"user_follow\",\"user_help\",\"user_correct\",\"user_exactly\",\"user_burst\",\"user_nearby\",\"user_sum\",\"user_stood\",\"user_square\",\"user_take\",\"user_down\",\"user_they\",\"user_wonderful\",\"user_grass\",\"user_unless\",\"user_explain\",\"user_soon\",\"user_ten\",\"user_ants\",\"user_merely\",\"user_another\",\"user_shaking\",\"user_father\",\"user_finger\",\"user_build\",\"user_guess\",\"user_were\",\"user_least\",\"user_raw\",\"user_which\",\"user_southern\",\"user_recent\",\"user_layers\",\"user_driven\",\"user_pay\",\"user_equally\",\"user_bread\",\"user_want\",\"user_weather\",\"user_cent\",\"user_club\",\"user_merely\",\"user_stems\",\"user_here\",\"user_swung\",\"user_brother\",\"user_cake\",\"user_price\",\"user_once\",\"user_young\",\"user_stay\",\"user_forget\",\"user_correct\",\"user_sang\",\"user_protection\",\"user_gather\",\"user_believed\",\"user_without\",\"user_respect\",\"user_chose\",\"user_married\",\"user_twenty\",\"user_perhaps\",\"user_swing\",\"user_attack\",\"user_related\",\"user_felt\",\"user_army\",\"user_lost\",\"user_impossible\",\"user_popular\",\"user_ever\",\"user_instead\",\"user_trouble\",\"user_attached\",\"user_fly\",\"user_lunch\",\"user_thick\",\"user_century\",\"user_coming\",\"user_coffee\",\"user_record\",\"user_brick\",\"user_usual\",\"user_this\",\"user_larger\",\"user_molecular\",\"user_growth\",\"user_worse\",\"user_attached\",\"user_fact\",\"user_scale\",\"user_practical\",\"user_flat\",\"user_vote\",\"user_classroom\",\"user_bound\",\"user_pick\",\"user_dry\",\"user_would\",\"user_held\",\"user_boat\",\"user_unusual\",\"user_parallel\",\"user_friendly\",\"user_can\",\"user_who\",\"user_talk\",\"user_him\",\"user_crack\",\"user_two\",\"user_wonder\",\"user_disease\",\"user_nine\",\"user_voyage\",\"user_people\",\"user_met\",\"user_carry\",\"user_feel\",\"user_good\",\"user_west\",\"user_than\",\"user_fun\",\"user_expression\",\"user_solid\",\"user_yourself\",\"user_longer\",\"user_pretty\",\"user_dozen\",\"user_broke\",\"user_brain\",\"user_scene\",\"user_pupil\",\"user_bound\",\"user_sound\",\"user_entirely\",\"user_fill\",\"user_let\",\"user_onto\",\"user_complete\",\"user_lamp\",\"user_trap\",\"user_split\",\"user_particles\",\"user_frozen\",\"user_president\",\"user_married\",\"user_wrapped\",\"user_neighborhood\",\"user_receive\",\"user_ice\",\"user_doll\",\"user_sheet\",\"user_immediately\",\"user_herd\",\"user_require\",\"user_increase\",\"user_state\",\"user_steel\",\"user_wood\",\"user_continued\",\"user_service\",\"user_half\",\"user_trip\",\"user_next\",\"user_gravity\",\"user_lunch\",\"user_activity\",\"user_condition\",\"user_discuss\",\"user_result\",\"user_hurry\",\"user_of\",\"user_am\",\"user_review\",\"user_log\",\"user_voyage\",\"user_safety\",\"user_have\",\"user_stick\",\"user_thirty\",\"user_spirit\",\"user_prepare\",\"user_pick\",\"user_play\",\"user_bus\",\"user_gray\",\"user_properly\",\"user_song\",\"user_wash\",\"user_mountain\",\"user_plates\",\"user_tie\",\"user_row\",\"user_even\",\"user_girl\",\"user_jump\",\"user_saved\",\"user_naturally\",\"user_refused\",\"user_due\",\"user_nervous\",\"user_cell\",\"user_light\",\"user_interior\",\"user_search\",\"user_mountain\",\"user_leather\",\"user_no\",\"user_deer\",\"user_goose\",\"user_natural\",\"user_solve\",\"user_century\",\"user_degree\",\"user_gas\",\"user_become\",\"user_inch\",\"user_use\",\"user_road\",\"user_teach\",\"user_attempt\",\"user_prove\",\"user_fish\",\"user_floating\",\"user_wore\",\"user_series\",\"user_late\",\"user_pain\",\"user_ability\",\"user_porch\",\"user_till\",\"user_rear\",\"user_think\",\"user_bicycle\",\"user_dropped\",\"user_dozen\",\"user_sick\",\"user_rough\",\"user_state\",\"user_exciting\",\"user_tune\",\"user_fully\",\"user_simple\",\"user_railroad\",\"user_frighten\",\"user_atmosphere\",\"user_noise\",\"user_size\",\"user_unless\",\"user_essential\",\"user_period\",\"user_studied\",\"user_level\",\"user_song\",\"user_finger\",\"user_thee\",\"user_cry\",\"user_more\",\"user_those\",\"user_above\",\"user_son\",\"user_pan\",\"user_public\",\"user_love\",\"user_teach\",\"user_fastened\",\"user_partly\",\"user_dig\",\"user_suddenly\",\"user_ranch\",\"user_law\",\"user_satellites\",\"user_must\",\"user_flower\",\"user_verb\",\"user_leader\",\"user_college\",\"user_correct\",\"user_bridge\",\"user_country\",\"user_development\",\"user_library\",\"user_direct\",\"user_clean\",\"user_friendly\",\"user_wheat\",\"user_piano\",\"user_means\",\"user_noon\",\"user_built\",\"user_fight\",\"user_rubbed\",\"user_foreign\",\"user_birds\",\"user_beyond\",\"user_wool\",\"user_crowd\",\"user_door\",\"user_standard\",\"user_upper\",\"user_driven\",\"user_cross\",\"user_just\",\"user_accept\",\"user_meat\",\"user_manufacturing\",\"user_wherever\",\"user_pine\",\"user_family\",\"user_sold\",\"user_rays\",\"user_given\",\"user_those\",\"user_article\",\"user_sell\",\"user_fought\",\"user_rays\",\"user_element\",\"user_example\",\"user_worry\",\"user_none\",\"user_information\",\"user_factor\",\"user_not\",\"user_glad\",\"user_wooden\",\"user_ocean\",\"user_sheep\",\"user_standard\",\"user_grandmother\",\"user_check\",\"user_smaller\",\"user_pencil\",\"user_cream\",\"user_perhaps\",\"user_bean\",\"user_discovery\",\"user_paper\",\"user_threw\",\"user_wild\",\"user_grabbed\",\"user_several\",\"user_force\",\"user_pride\",\"user_dear\",\"user_nails\",\"user_develop\",\"user_fastened\",\"user_attempt\",\"user_weigh\",\"user_noted\",\"user_heard\",\"user_camp\",\"user_middle\",\"user_disease\",\"user_nor\",\"user_model\",\"user_safety\",\"user_indicate\",\"user_rain\",\"user_fully\",\"user_tree\",\"user_shown\",\"user_food\",\"user_sent\",\"user_equator\",\"user_parallel\",\"user_total\",\"user_hello\",\"user_account\",\"user_point\",\"user_worse\",\"user_lost\",\"user_dirty\",\"user_thirty\",\"user_shoe\",\"user_valuable\",\"user_particularly\",\"user_about\",\"user_general\",\"user_instant\",\"user_refused\",\"user_thick\",\"user_provide\",\"user_than\",\"user_lips\",\"user_ear\",\"user_form\",\"user_highest\",\"user_everywhere\",\"user_forgotten\",\"user_wooden\",\"user_transportation\",\"user_date\",\"user_key\",\"user_hurt\",\"user_base\",\"user_therefore\",\"user_bar\",\"user_thy\",\"user_goes\",\"user_characteristic\",\"user_herself\",\"user_basic\",\"user_history\",\"user_laid\",\"user_explain\",\"user_hospital\",\"user_greatly\",\"user_favorite\",\"user_beautiful\",\"user_aside\",\"user_carry\",\"user_continent\",\"user_cake\",\"user_lead\",\"user_spell\",\"user_shirt\",\"user_date\",\"user_street\",\"user_characteristic\",\"user_chicken\",\"user_native\",\"user_congress\",\"user_known\",\"user_court\",\"user_large\",\"user_soft\",\"user_built\",\"user_exciting\",\"user_moon\",\"user_scale\",\"user_short\",\"user_folks\",\"user_better\",\"user_character\",\"user_station\",\"user_ability\",\"user_eager\",\"user_growth\",\"user_beautiful\",\"user_grain\",\"user_lose\",\"user_shelf\",\"user_thank\",\"user_warm\",\"user_author\",\"user_sure\",\"user_north\",\"user_drink\",\"user_weather\",\"user_hat\",\"user_usually\",\"user_grown\",\"user_atomic\",\"user_bite\",\"user_brave\",\"user_appearance\",\"user_pick\",\"user_but\",\"user_accurate\",\"user_of\",\"user_pine\",\"user_come\",\"user_cap\",\"user_thy\",\"user_lose\",\"user_compound\",\"user_beginning\",\"user_sent\",\"user_solid\",\"user_beautiful\",\"user_human\",\"user_related\",\"user_atomic\",\"user_take\",\"user_strong\",\"user_not\",\"user_teeth\",\"user_anybody\",\"user_rabbit\",\"user_elephant\",\"user_blow\",\"user_got\",\"user_flower\",\"user_traffic\",\"user_mind\",\"user_broke\",\"user_cutting\",\"user_member\",\"user_prepare\",\"user_breathe\",\"user_mill\",\"user_tears\",\"user_purpose\",\"user_eleven\",\"user_remain\",\"user_path\",\"user_sick\",\"user_feel\",\"user_angle\",\"user_stood\",\"user_call\",\"user_cost\",\"user_done\",\"user_memory\",\"user_worry\",\"user_determine\",\"user_element\",\"user_sand\",\"user_fewer\",\"user_either\",\"user_tobacco\",\"user_studying\",\"user_also\",\"user_hang\",\"user_forty\",\"user_ranch\",\"user_grain\",\"user_enough\",\"user_zero\",\"user_tree\",\"user_cell\",\"user_night\",\"user_missing\",\"user_hunter\",\"user_drop\",\"user_laid\",\"user_bear\",\"user_explain\",\"user_slept\",\"user_exact\",\"user_rise\",\"user_split\",\"user_youth\",\"user_cheese\",\"user_value\",\"user_army\",\"user_disappear\",\"user_trace\",\"user_own\",\"user_parent\",\"user_any\",\"user_seldom\",\"user_solution\",\"user_gate\",\"user_tool\",\"user_changing\",\"user_pink\",\"user_lake\",\"user_human\",\"user_series\",\"user_term\",\"user_shoulder\",\"user_condition\",\"user_stomach\",\"user_author\",\"user_southern\",\"user_pictured\",\"user_court\",\"user_dangerous\",\"user_railroad\",\"user_chemical\",\"user_before\",\"user_bag\",\"user_danger\",\"user_transportation\",\"user_gradually\",\"user_deal\",\"user_one\",\"user_tin\",\"user_by\",\"user_trail\",\"user_station\",\"user_cheese\",\"user_section\",\"user_or\",\"user_wait\",\"user_mine\",\"user_feet\",\"user_sink\",\"user_instance\",\"user_larger\",\"user_laugh\",\"user_cent\",\"user_loose\",\"user_lower\",\"user_light\",\"user_year\",\"user_rabbit\",\"user_especially\",\"user_out\",\"user_flat\",\"user_essential\",\"user_darkness\",\"user_tower\",\"user_sense\",\"user_nothing\",\"user_terrible\",\"user_thus\",\"user_slowly\",\"user_eleven\",\"user_won\",\"user_song\",\"user_hang\",\"user_yard\",\"user_event\",\"user_now\",\"user_chose\",\"user_spirit\",\"user_leg\",\"user_stronger\",\"user_village\",\"user_heard\",\"user_led\",\"user_paint\",\"user_cast\",\"user_collect\",\"user_cast\",\"user_sang\",\"user_thumb\",\"user_nodded\",\"user_gold\",\"user_cell\",\"user_pressure\",\"user_bee\",\"user_sick\",\"user_program\",\"user_bar\",\"user_gift\",\"user_may\",\"user_last\",\"user_made\",\"user_needed\",\"user_fast\",\"user_giving\",\"user_somehow\",\"user_shape\",\"user_element\",\"user_respect\",\"user_shut\",\"user_tall\",\"user_than\",\"user_particular\",\"user_knew\",\"user_pilot\",\"user_whatever\",\"user_together\",\"user_sunlight\",\"user_wool\",\"user_image\",\"user_hunter\",\"user_close\",\"user_leather\",\"user_visit\",\"user_please\",\"user_circle\",\"user_magic\",\"user_declared\",\"user_verb\",\"user_chain\",\"user_slave\",\"user_movie\",\"user_connected\",\"user_lie\",\"user_easily\",\"user_hold\",\"user_energy\",\"user_leave\",\"user_ill\",\"user_dish\",\"user_leg\",\"user_constantly\",\"user_type\",\"user_kill\",\"user_nearer\",\"user_excitement\",\"user_colony\",\"user_stronger\",\"user_forest\",\"user_wolf\",\"user_ball\",\"user_gold\",\"user_including\",\"user_language\",\"user_child\",\"user_bear\",\"user_meal\",\"user_engine\",\"user_universe\",\"user_sink\",\"user_shine\",\"user_seeing\",\"user_chart\",\"user_sweet\",\"user_away\",\"user_sight\",\"user_listen\",\"user_single\",\"user_record\",\"user_cave\",\"user_class\",\"user_popular\",\"user_desk\",\"user_attempt\",\"user_bicycle\",\"user_greatly\",\"user_discuss\",\"user_fine\",\"user_unusual\",\"user_rapidly\",\"user_machine\",\"user_fuel\",\"user_inch\",\"user_taken\",\"user_sold\",\"user_declared\",\"user_build\",\"user_thin\",\"user_building\",\"user_whatever\",\"user_corn\",\"user_regular\",\"user_personal\",\"user_model\",\"user_deal\",\"user_verb\",\"user_anything\",\"user_seen\",\"user_choose\",\"user_copy\",\"user_naturally\",\"user_trip\",\"user_fish\",\"user_give\",\"user_wide\",\"user_wonderful\",\"user_company\",\"user_pour\",\"user_dinner\",\"user_leader\",\"user_creature\",\"user_pen\",\"user_crowd\",\"user_year\",\"user_border\",\"user_noon\",\"user_instant\",\"user_forget\",\"user_crowd\",\"user_blue\",\"user_lot\",\"user_memory\",\"user_else\",\"user_fair\",\"user_early\",\"user_individual\",\"user_face\",\"user_visitor\",\"user_arrow\",\"user_where\",\"user_hurried\",\"user_largest\",\"user_pale\",\"user_neighbor\",\"user_different\",\"user_browserling\",\"user_rear\",\"user_enemy\",\"user_primitive\",\"user_chart\",\"user_monkey\",\"user_reason\",\"user_related\",\"user_climb\",\"user_opinion\",\"user_death\",\"user_gulf\",\"user_between\",\"user_snow\",\"user_easy\",\"user_event\",\"user_teacher\",\"user_front\",\"user_positive\",\"user_visit\",\"user_brush\",\"user_said\",\"user_definition\",\"user_enemy\",\"user_run\",\"user_safe\",\"user_upper\",\"user_identity\",\"user_during\",\"user_top\",\"user_old\",\"user_necessary\",\"user_suddenly\",\"user_cake\",\"user_verb\",\"user_kill\",\"user_across\",\"user_give\",\"user_require\",\"user_tide\",\"user_particles\",\"user_church\",\"user_sort\",\"user_bring\",\"user_wind\",\"user_for\",\"user_choice\",\"user_alike\",\"user_tree\",\"user_muscle\",\"user_straw\",\"user_comfortable\",\"user_bit\",\"user_vertical\",\"user_feathers\",\"user_village\",\"user_policeman\",\"user_printed\",\"user_bend\",\"user_key\",\"user_explore\",\"user_not\",\"user_gas\",\"user_press\",\"user_creature\",\"user_carefully\",\"user_ancient\",\"user_shinning\",\"user_birthday\",\"user_fight\",\"user_discussion\",\"user_away\",\"user_active\",\"user_couple\",\"user_therefore\",\"user_element\",\"user_mistake\",\"user_hall\",\"user_over\",\"user_special\",\"user_must\",\"user_rush\",\"user_kitchen\",\"user_fewer\",\"user_mistake\",\"user_hay\",\"user_fastened\",\"user_environment\",\"user_sheep\",\"user_political\",\"user_huge\",\"user_putting\",\"user_nearer\",\"user_discover\",\"user_onto\",\"user_safety\",\"user_star\",\"user_situation\",\"user_card\",\"user_pupil\",\"user_caught\",\"user_sick\",\"user_bit\",\"user_broken\",\"user_fruit\",\"user_special\",\"user_pile\",\"user_prize\",\"user_tax\",\"user_arrow\",\"user_your\",\"user_nails\",\"user_trip\",\"user_hunter\",\"user_accurate\",\"user_effect\",\"user_important\",\"user_source\",\"user_scientist\",\"user_bee\",\"user_very\",\"user_improve\",\"user_molecular\",\"user_package\",\"user_difficulty\",\"user_curious\",\"user_vapor\",\"user_satisfied\",\"user_couple\",\"user_fewer\",\"user_outline\",\"user_stood\",\"user_teacher\",\"user_living\",\"user_space\",\"user_full\",\"user_voyage\",\"user_store\",\"user_check\",\"user_see\",\"user_language\",\"user_condition\",\"user_treated\",\"user_stranger\",\"user_hall\",\"user_policeman\",\"user_nothing\",\"user_industry\",\"user_count\",\"user_favorite\",\"user_continent\",\"user_hollow\",\"user_crew\",\"user_look\",\"user_drive\",\"user_basic\",\"user_around\",\"user_discovery\",\"user_value\",\"user_army\",\"user_fifteen\",\"user_talk\",\"user_oldest\",\"user_observe\",\"user_night\",\"user_finest\",\"user_fort\",\"user_mixture\",\"user_sat\",\"user_told\",\"user_pleasure\",\"user_wish\",\"user_sudden\",\"user_baby\"],\"x_val\":{\"__ndarray__\":\"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\",\"dtype\":\"float64\",\"shape\":[2116]},\"y_val\":{\"__ndarray__\":\"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\",\"dtype\":\"float64\",\"shape\":[2116]}},\"selected\":{\"id\":\"1048\",\"type\":\"Selection\"},\"selection_policy\":{\"id\":\"1047\",\"type\":\"UnionRenderers\"}},\"id\":\"1002\",\"type\":\"ColumnDataSource\"},{\"attributes\":{},\"id\":\"1047\",\"type\":\"UnionRenderers\"},{\"attributes\":{},\"id\":\"1024\",\"type\":\"PanTool\"},{\"attributes\":{\"callback\":null},\"id\":\"1008\",\"type\":\"DataRange1d\"},{\"attributes\":{\"overlay\":{\"id\":\"1028\",\"type\":\"BoxAnnotation\"}},\"id\":\"1025\",\"type\":\"BoxZoomTool\"},{\"attributes\":{},\"id\":\"1044\",\"type\":\"BasicTickFormatter\"},{\"attributes\":{\"fill_alpha\":{\"value\":0.1},\"fill_color\":{\"value\":\"#1f77b4\"},\"line_alpha\":{\"value\":0.1},\"line_color\":{\"value\":\"#1f77b4\"},\"size\":{\"units\":\"screen\",\"value\":7},\"x\":{\"field\":\"x_val\"},\"y\":{\"field\":\"y_val\"}},\"id\":\"1037\",\"type\":\"Circle\"},{\"attributes\":{\"dimension\":1,\"grid_line_color\":{\"value\":null},\"plot\":{\"id\":\"1004\",\"subtype\":\"Figure\",\"type\":\"Plot\"},\"ticker\":{\"id\":\"1020\",\"type\":\"BasicTicker\"}},\"id\":\"1023\",\"type\":\"Grid\"},{\"attributes\":{\"source\":{\"id\":\"1002\",\"type\":\"ColumnDataSource\"}},\"id\":\"1040\",\"type\":\"CDSView\"},{\"attributes\":{},\"id\":\"1048\",\"type\":\"Selection\"},{\"attributes\":{\"formatter\":{\"id\":\"1042\",\"type\":\"BasicTickFormatter\"},\"plot\":{\"id\":\"1004\",\"subtype\":\"Figure\",\"type\":\"Plot\"},\"ticker\":{\"id\":\"1015\",\"type\":\"BasicTicker\"},\"visible\":false},\"id\":\"1014\",\"type\":\"LinearAxis\"},{\"attributes\":{},\"id\":\"1020\",\"type\":\"BasicTicker\"},{\"attributes\":{\"fill_color\":{\"value\":\"#1f77b4\"},\"size\":{\"units\":\"screen\",\"value\":7},\"x\":{\"field\":\"x_val\"},\"y\":{\"field\":\"y_val\"}},\"id\":\"1038\",\"type\":\"Circle\"},{\"attributes\":{\"plot\":null,\"text\":\"Period 3, Module 1 :: t-sne projection of kmeans-clustered users [\\\"(cluster #) tweet\\\"]\",\"text_font_size\":{\"value\":\"12pt\"}},\"id\":\"1003\",\"type\":\"Title\"},{\"attributes\":{\"data_source\":{\"id\":\"1002\",\"type\":\"ColumnDataSource\"},\"glyph\":{\"id\":\"1036\",\"type\":\"Circle\"},\"hover_glyph\":{\"id\":\"1038\",\"type\":\"Circle\"},\"muted_glyph\":null,\"nonselection_glyph\":{\"id\":\"1037\",\"type\":\"Circle\"},\"selection_glyph\":null,\"view\":{\"id\":\"1040\",\"type\":\"CDSView\"}},\"id\":\"1039\",\"type\":\"GlyphRenderer\"},{\"attributes\":{\"callback\":null},\"id\":\"1006\",\"type\":\"DataRange1d\"},{\"attributes\":{\"active_drag\":\"auto\",\"active_inspect\":\"auto\",\"active_multi\":null,\"active_scroll\":\"auto\",\"active_tap\":\"auto\",\"tools\":[{\"id\":\"1024\",\"type\":\"PanTool\"},{\"id\":\"1025\",\"type\":\"BoxZoomTool\"},{\"id\":\"1026\",\"type\":\"ResetTool\"},{\"id\":\"1033\",\"type\":\"HoverTool\"}]},\"id\":\"1027\",\"type\":\"Toolbar\"},{\"attributes\":{\"fill_alpha\":{\"value\":0.1},\"fill_color\":{\"field\":\"color\"},\"line_alpha\":{\"value\":0.2},\"line_color\":{\"field\":\"color\"},\"size\":{\"units\":\"screen\",\"value\":7},\"x\":{\"field\":\"x_val\"},\"y\":{\"field\":\"y_val\"}},\"id\":\"1036\",\"type\":\"Circle\"},{\"attributes\":{\"bottom_units\":\"screen\",\"fill_alpha\":{\"value\":0.5},\"fill_color\":{\"value\":\"lightgrey\"},\"left_units\":\"screen\",\"level\":\"overlay\",\"line_alpha\":{\"value\":1.0},\"line_color\":{\"value\":\"black\"},\"line_dash\":[4,4],\"line_width\":{\"value\":2},\"plot\":null,\"render_mode\":\"css\",\"right_units\":\"screen\",\"top_units\":\"screen\"},\"id\":\"1028\",\"type\":\"BoxAnnotation\"},{\"attributes\":{\"callback\":null,\"tooltips\":\"<div style=\\\"width: 400px;\\\">(@label)(@ @username) @text</div>\"},\"id\":\"1033\",\"type\":\"HoverTool\"},{\"attributes\":{},\"id\":\"1042\",\"type\":\"BasicTickFormatter\"},{\"attributes\":{\"formatter\":{\"id\":\"1044\",\"type\":\"BasicTickFormatter\"},\"plot\":{\"id\":\"1004\",\"subtype\":\"Figure\",\"type\":\"Plot\"},\"ticker\":{\"id\":\"1020\",\"type\":\"BasicTicker\"},\"visible\":false},\"id\":\"1019\",\"type\":\"LinearAxis\"},{\"attributes\":{},\"id\":\"1012\",\"type\":\"LinearScale\"},{\"attributes\":{\"grid_line_color\":{\"value\":null},\"plot\":{\"id\":\"1004\",\"subtype\":\"Figure\",\"type\":\"Plot\"},\"ticker\":{\"id\":\"1015\",\"type\":\"BasicTicker\"}},\"id\":\"1018\",\"type\":\"Grid\"}],\"root_ids\":[\"1004\"]},\"title\":\"Bokeh Application\",\"version\":\"1.0.2\"}};\n",
       "  var render_items = [{\"docid\":\"a3ad6587-85fb-4fe3-a907-68b0dfbf3144\",\"roots\":{\"1004\":\"52cdbfe2-de9e-4d53-b8b1-57e3a2778230\"}}];\n",
       "  root.Bokeh.embed.embed_items_notebook(docs_json, render_items);\n",
       "\n",
       "  }\n",
       "  if (root.Bokeh !== undefined) {\n",
       "    embed_document(root);\n",
       "  } else {\n",
       "    var attempts = 0;\n",
       "    var timer = setInterval(function(root) {\n",
       "      if (root.Bokeh !== undefined) {\n",
       "        embed_document(root);\n",
       "        clearInterval(timer);\n",
       "      }\n",
       "      attempts++;\n",
       "      if (attempts > 100) {\n",
       "        console.log(\"Bokeh: ERROR: Unable to run BokehJS code because BokehJS library is missing\");\n",
       "        clearInterval(timer);\n",
       "      }\n",
       "    }, 10, root)\n",
       "  }\n",
       "})(window);"
      ],
      "application/vnd.bokehjs_exec.v0+json": ""
     },
     "metadata": {
      "application/vnd.bokehjs_exec.v0+json": {
       "id": "1004"
      }
     },
     "output_type": "display_data"
    }
   ],
   "source": [
    "show(plot_tsne(dict_samples['1']['obj'].km_plottable,\n",
    "               'Period 3, Module 1 :: t-sne projection of kmeans-clustered users [\"(cluster #) tweet\"]'))"
   ]
  },
  {
   "cell_type": "code",
   "execution_count": 64,
   "metadata": {
    "scrolled": true
   },
   "outputs": [
    {
     "name": "stdout",
     "output_type": "stream",
     "text": [
      "Example tweet here …\n",
      "\n",
      "Example tweet here …\n",
      "\n",
      "Example tweet here ...\n",
      "\n",
      "Example tweet here …\n",
      "\n",
      "Example tweet here …\n",
      "\n",
      "Example tweet here …\n",
      "\n",
      "Example tweet here …\n",
      "\n",
      "Example tweet here …\n",
      "\n",
      "Example tweet here …\n",
      "\n",
      "Example tweet here …\n",
      "\n",
      "Example tweet here …\n",
      "\n",
      "Example tweet here …\n",
      "\n",
      "( >>> Truncated preview of cluster sample <<< )\n"
     ]
    }
   ],
   "source": [
    "# Modify the idx_of_interest to print out cluster samples\n",
    "interest_idx = 2\n",
    "\n",
    "nttc.cluster_sample(\n",
    "    dict_samples['1']['obj'].u_texts, \n",
    "    dict_samples['1']['obj'].km_model, \n",
    "    interest_idx,\n",
    "    preview=10\n",
    ")"
   ]
  },
  {
   "cell_type": "code",
   "execution_count": null,
   "metadata": {},
   "outputs": [],
   "source": []
  }
 ],
 "metadata": {
  "kernelspec": {
   "display_name": "Python 3",
   "language": "python",
   "name": "python3"
  },
  "language_info": {
   "codemirror_mode": {
    "name": "ipython",
    "version": 3
   },
   "file_extension": ".py",
   "mimetype": "text/x-python",
   "name": "python",
   "nbconvert_exporter": "python",
   "pygments_lexer": "ipython3",
   "version": "3.6.2"
  }
 },
 "nbformat": 4,
 "nbformat_minor": 2
}